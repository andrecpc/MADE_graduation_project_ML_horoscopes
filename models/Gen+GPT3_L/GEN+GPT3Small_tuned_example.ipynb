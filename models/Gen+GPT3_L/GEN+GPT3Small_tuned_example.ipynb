{
  "nbformat": 4,
  "nbformat_minor": 0,
  "metadata": {
    "colab": {
      "name": "GEN+GPT3Small tuned example.ipynb",
      "provenance": [],
      "collapsed_sections": []
    },
    "kernelspec": {
      "name": "python3",
      "display_name": "Python 3"
    },
    "accelerator": "GPU"
  },
  "cells": [
    {
      "cell_type": "code",
      "metadata": {
        "colab": {
          "base_uri": "https://localhost:8080/"
        },
        "id": "P7FgqfQYeuh_",
        "outputId": "19cde8f4-3ad5-4555-81b2-a756617ccb24"
      },
      "source": [
        "import torch \n",
        "print(torch.__version__)"
      ],
      "execution_count": 1,
      "outputs": [
        {
          "output_type": "stream",
          "text": [
            "1.7.0+cu101\n"
          ],
          "name": "stdout"
        }
      ]
    },
    {
      "cell_type": "code",
      "metadata": {
        "id": "AbOk2TzU8is7"
      },
      "source": [
        "import numpy as np"
      ],
      "execution_count": 2,
      "outputs": []
    },
    {
      "cell_type": "code",
      "metadata": {
        "id": "5RcPsyYRqZ62",
        "colab": {
          "base_uri": "https://localhost:8080/"
        },
        "outputId": "663ead0e-bfda-43b6-8a7d-486e16d80d94"
      },
      "source": [
        "from google.colab import drive\n",
        "drive.mount('/content/gdrive')"
      ],
      "execution_count": 3,
      "outputs": [
        {
          "output_type": "stream",
          "text": [
            "Drive already mounted at /content/gdrive; to attempt to forcibly remount, call drive.mount(\"/content/gdrive\", force_remount=True).\n"
          ],
          "name": "stdout"
        }
      ]
    },
    {
      "cell_type": "code",
      "metadata": {
        "id": "5yzxF35lAZZ1",
        "colab": {
          "base_uri": "https://localhost:8080/"
        },
        "outputId": "d9af7979-8091-49db-de13-e6d054f2541b"
      },
      "source": [
        "!pip3 install urllib3==1.25.4"
      ],
      "execution_count": 4,
      "outputs": [
        {
          "output_type": "stream",
          "text": [
            "Collecting urllib3==1.25.4\n",
            "\u001b[?25l  Downloading https://files.pythonhosted.org/packages/91/0d/7777358f672a14b7ae0dfcd29f949f409f913e0578190d6bfa68eb55864b/urllib3-1.25.4-py2.py3-none-any.whl (125kB)\n",
            "\r\u001b[K     |██▋                             | 10kB 25.3MB/s eta 0:00:01\r\u001b[K     |█████▏                          | 20kB 16.5MB/s eta 0:00:01\r\u001b[K     |███████▉                        | 30kB 13.6MB/s eta 0:00:01\r\u001b[K     |██████████▍                     | 40kB 14.8MB/s eta 0:00:01\r\u001b[K     |█████████████                   | 51kB 11.8MB/s eta 0:00:01\r\u001b[K     |███████████████▋                | 61kB 12.0MB/s eta 0:00:01\r\u001b[K     |██████████████████▎             | 71kB 11.8MB/s eta 0:00:01\r\u001b[K     |████████████████████▉           | 81kB 11.6MB/s eta 0:00:01\r\u001b[K     |███████████████████████▌        | 92kB 12.7MB/s eta 0:00:01\r\u001b[K     |██████████████████████████      | 102kB 12.8MB/s eta 0:00:01\r\u001b[K     |████████████████████████████▊   | 112kB 12.8MB/s eta 0:00:01\r\u001b[K     |███████████████████████████████▎| 122kB 12.8MB/s eta 0:00:01\r\u001b[K     |████████████████████████████████| 133kB 12.8MB/s \n",
            "\u001b[31mERROR: datascience 0.10.6 has requirement folium==0.2.1, but you'll have folium 0.8.3 which is incompatible.\u001b[0m\n",
            "\u001b[?25hInstalling collected packages: urllib3\n",
            "  Found existing installation: urllib3 1.24.3\n",
            "    Uninstalling urllib3-1.24.3:\n",
            "      Successfully uninstalled urllib3-1.24.3\n",
            "Successfully installed urllib3-1.25.4\n"
          ],
          "name": "stdout"
        }
      ]
    },
    {
      "cell_type": "code",
      "metadata": {
        "id": "W1bnQrMb_WM4",
        "colab": {
          "base_uri": "https://localhost:8080/"
        },
        "outputId": "49ea1bf8-7286-4cc5-c539-df0f0917c68b"
      },
      "source": [
        "!pip3 install transformers==2.8.0"
      ],
      "execution_count": 5,
      "outputs": [
        {
          "output_type": "stream",
          "text": [
            "Collecting transformers==2.8.0\n",
            "\u001b[?25l  Downloading https://files.pythonhosted.org/packages/a3/78/92cedda05552398352ed9784908b834ee32a0bd071a9b32de287327370b7/transformers-2.8.0-py3-none-any.whl (563kB)\n",
            "\r\u001b[K     |▋                               | 10kB 21.7MB/s eta 0:00:01\r\u001b[K     |█▏                              | 20kB 16.8MB/s eta 0:00:01\r\u001b[K     |█▊                              | 30kB 11.6MB/s eta 0:00:01\r\u001b[K     |██▎                             | 40kB 10.0MB/s eta 0:00:01\r\u001b[K     |███                             | 51kB 10.7MB/s eta 0:00:01\r\u001b[K     |███▌                            | 61kB 11.3MB/s eta 0:00:01\r\u001b[K     |████                            | 71kB 10.3MB/s eta 0:00:01\r\u001b[K     |████▋                           | 81kB 10.7MB/s eta 0:00:01\r\u001b[K     |█████▎                          | 92kB 11.0MB/s eta 0:00:01\r\u001b[K     |█████▉                          | 102kB 11.2MB/s eta 0:00:01\r\u001b[K     |██████▍                         | 112kB 11.2MB/s eta 0:00:01\r\u001b[K     |███████                         | 122kB 11.2MB/s eta 0:00:01\r\u001b[K     |███████▋                        | 133kB 11.2MB/s eta 0:00:01\r\u001b[K     |████████▏                       | 143kB 11.2MB/s eta 0:00:01\r\u001b[K     |████████▊                       | 153kB 11.2MB/s eta 0:00:01\r\u001b[K     |█████████▎                      | 163kB 11.2MB/s eta 0:00:01\r\u001b[K     |█████████▉                      | 174kB 11.2MB/s eta 0:00:01\r\u001b[K     |██████████▌                     | 184kB 11.2MB/s eta 0:00:01\r\u001b[K     |███████████                     | 194kB 11.2MB/s eta 0:00:01\r\u001b[K     |███████████▋                    | 204kB 11.2MB/s eta 0:00:01\r\u001b[K     |████████████▏                   | 215kB 11.2MB/s eta 0:00:01\r\u001b[K     |████████████▉                   | 225kB 11.2MB/s eta 0:00:01\r\u001b[K     |█████████████▍                  | 235kB 11.2MB/s eta 0:00:01\r\u001b[K     |██████████████                  | 245kB 11.2MB/s eta 0:00:01\r\u001b[K     |██████████████▌                 | 256kB 11.2MB/s eta 0:00:01\r\u001b[K     |███████████████▏                | 266kB 11.2MB/s eta 0:00:01\r\u001b[K     |███████████████▊                | 276kB 11.2MB/s eta 0:00:01\r\u001b[K     |████████████████▎               | 286kB 11.2MB/s eta 0:00:01\r\u001b[K     |████████████████▉               | 296kB 11.2MB/s eta 0:00:01\r\u001b[K     |█████████████████▍              | 307kB 11.2MB/s eta 0:00:01\r\u001b[K     |██████████████████              | 317kB 11.2MB/s eta 0:00:01\r\u001b[K     |██████████████████▋             | 327kB 11.2MB/s eta 0:00:01\r\u001b[K     |███████████████████▏            | 337kB 11.2MB/s eta 0:00:01\r\u001b[K     |███████████████████▊            | 348kB 11.2MB/s eta 0:00:01\r\u001b[K     |████████████████████▍           | 358kB 11.2MB/s eta 0:00:01\r\u001b[K     |█████████████████████           | 368kB 11.2MB/s eta 0:00:01\r\u001b[K     |█████████████████████▌          | 378kB 11.2MB/s eta 0:00:01\r\u001b[K     |██████████████████████          | 389kB 11.2MB/s eta 0:00:01\r\u001b[K     |██████████████████████▊         | 399kB 11.2MB/s eta 0:00:01\r\u001b[K     |███████████████████████▎        | 409kB 11.2MB/s eta 0:00:01\r\u001b[K     |███████████████████████▉        | 419kB 11.2MB/s eta 0:00:01\r\u001b[K     |████████████████████████▍       | 430kB 11.2MB/s eta 0:00:01\r\u001b[K     |█████████████████████████       | 440kB 11.2MB/s eta 0:00:01\r\u001b[K     |█████████████████████████▋      | 450kB 11.2MB/s eta 0:00:01\r\u001b[K     |██████████████████████████▏     | 460kB 11.2MB/s eta 0:00:01\r\u001b[K     |██████████████████████████▊     | 471kB 11.2MB/s eta 0:00:01\r\u001b[K     |███████████████████████████▎    | 481kB 11.2MB/s eta 0:00:01\r\u001b[K     |████████████████████████████    | 491kB 11.2MB/s eta 0:00:01\r\u001b[K     |████████████████████████████▌   | 501kB 11.2MB/s eta 0:00:01\r\u001b[K     |█████████████████████████████   | 512kB 11.2MB/s eta 0:00:01\r\u001b[K     |█████████████████████████████▋  | 522kB 11.2MB/s eta 0:00:01\r\u001b[K     |██████████████████████████████▎ | 532kB 11.2MB/s eta 0:00:01\r\u001b[K     |██████████████████████████████▉ | 542kB 11.2MB/s eta 0:00:01\r\u001b[K     |███████████████████████████████▍| 552kB 11.2MB/s eta 0:00:01\r\u001b[K     |████████████████████████████████| 563kB 11.2MB/s eta 0:00:01\r\u001b[K     |████████████████████████████████| 573kB 11.2MB/s \n",
            "\u001b[?25hRequirement already satisfied: tqdm>=4.27 in /usr/local/lib/python3.6/dist-packages (from transformers==2.8.0) (4.41.1)\n",
            "Collecting sacremoses\n",
            "\u001b[?25l  Downloading https://files.pythonhosted.org/packages/7d/34/09d19aff26edcc8eb2a01bed8e98f13a1537005d31e95233fd48216eed10/sacremoses-0.0.43.tar.gz (883kB)\n",
            "\u001b[K     |████████████████████████████████| 890kB 55.2MB/s \n",
            "\u001b[?25hRequirement already satisfied: requests in /usr/local/lib/python3.6/dist-packages (from transformers==2.8.0) (2.23.0)\n",
            "Collecting sentencepiece\n",
            "\u001b[?25l  Downloading https://files.pythonhosted.org/packages/e5/2d/6d4ca4bef9a67070fa1cac508606328329152b1df10bdf31fb6e4e727894/sentencepiece-0.1.94-cp36-cp36m-manylinux2014_x86_64.whl (1.1MB)\n",
            "\u001b[K     |████████████████████████████████| 1.1MB 47.0MB/s \n",
            "\u001b[?25hCollecting tokenizers==0.5.2\n",
            "\u001b[?25l  Downloading https://files.pythonhosted.org/packages/d1/3f/73c881ea4723e43c1e9acf317cf407fab3a278daab3a69c98dcac511c04f/tokenizers-0.5.2-cp36-cp36m-manylinux1_x86_64.whl (3.7MB)\n",
            "\u001b[K     |████████████████████████████████| 3.7MB 56.1MB/s \n",
            "\u001b[?25hRequirement already satisfied: numpy in /usr/local/lib/python3.6/dist-packages (from transformers==2.8.0) (1.18.5)\n",
            "Requirement already satisfied: filelock in /usr/local/lib/python3.6/dist-packages (from transformers==2.8.0) (3.0.12)\n",
            "Requirement already satisfied: dataclasses; python_version < \"3.7\" in /usr/local/lib/python3.6/dist-packages (from transformers==2.8.0) (0.8)\n",
            "Requirement already satisfied: regex!=2019.12.17 in /usr/local/lib/python3.6/dist-packages (from transformers==2.8.0) (2019.12.20)\n",
            "Collecting boto3\n",
            "\u001b[?25l  Downloading https://files.pythonhosted.org/packages/59/7f/4ade91fbb684c6f28a6e56028d9f9d2de4297761850d083579779f07c0de/boto3-1.16.25-py2.py3-none-any.whl (129kB)\n",
            "\u001b[K     |████████████████████████████████| 133kB 53.2MB/s \n",
            "\u001b[?25hRequirement already satisfied: six in /usr/local/lib/python3.6/dist-packages (from sacremoses->transformers==2.8.0) (1.15.0)\n",
            "Requirement already satisfied: click in /usr/local/lib/python3.6/dist-packages (from sacremoses->transformers==2.8.0) (7.1.2)\n",
            "Requirement already satisfied: joblib in /usr/local/lib/python3.6/dist-packages (from sacremoses->transformers==2.8.0) (0.17.0)\n",
            "Requirement already satisfied: chardet<4,>=3.0.2 in /usr/local/lib/python3.6/dist-packages (from requests->transformers==2.8.0) (3.0.4)\n",
            "Requirement already satisfied: certifi>=2017.4.17 in /usr/local/lib/python3.6/dist-packages (from requests->transformers==2.8.0) (2020.11.8)\n",
            "Requirement already satisfied: urllib3!=1.25.0,!=1.25.1,<1.26,>=1.21.1 in /usr/local/lib/python3.6/dist-packages (from requests->transformers==2.8.0) (1.25.4)\n",
            "Requirement already satisfied: idna<3,>=2.5 in /usr/local/lib/python3.6/dist-packages (from requests->transformers==2.8.0) (2.10)\n",
            "Collecting s3transfer<0.4.0,>=0.3.0\n",
            "\u001b[?25l  Downloading https://files.pythonhosted.org/packages/69/79/e6afb3d8b0b4e96cefbdc690f741d7dd24547ff1f94240c997a26fa908d3/s3transfer-0.3.3-py2.py3-none-any.whl (69kB)\n",
            "\u001b[K     |████████████████████████████████| 71kB 11.7MB/s \n",
            "\u001b[?25hCollecting botocore<1.20.0,>=1.19.25\n",
            "\u001b[?25l  Downloading https://files.pythonhosted.org/packages/ef/d5/c0c33ca15e31062220ac5964f3492409eaf90a5cf5399503cd8264f2f8e9/botocore-1.19.25-py2.py3-none-any.whl (6.9MB)\n",
            "\u001b[K     |████████████████████████████████| 6.9MB 6.9MB/s \n",
            "\u001b[?25hCollecting jmespath<1.0.0,>=0.7.1\n",
            "  Downloading https://files.pythonhosted.org/packages/07/cb/5f001272b6faeb23c1c9e0acc04d48eaaf5c862c17709d20e3469c6e0139/jmespath-0.10.0-py2.py3-none-any.whl\n",
            "Requirement already satisfied: python-dateutil<3.0.0,>=2.1 in /usr/local/lib/python3.6/dist-packages (from botocore<1.20.0,>=1.19.25->boto3->transformers==2.8.0) (2.8.1)\n",
            "Building wheels for collected packages: sacremoses\n",
            "  Building wheel for sacremoses (setup.py) ... \u001b[?25l\u001b[?25hdone\n",
            "  Created wheel for sacremoses: filename=sacremoses-0.0.43-cp36-none-any.whl size=893257 sha256=c9dcc0f1a09405c02eef752aab6300dc0f731a042fc27082fc102a83fd36262d\n",
            "  Stored in directory: /root/.cache/pip/wheels/29/3c/fd/7ce5c3f0666dab31a50123635e6fb5e19ceb42ce38d4e58f45\n",
            "Successfully built sacremoses\n",
            "Installing collected packages: sacremoses, sentencepiece, tokenizers, jmespath, botocore, s3transfer, boto3, transformers\n",
            "Successfully installed boto3-1.16.25 botocore-1.19.25 jmespath-0.10.0 s3transfer-0.3.3 sacremoses-0.0.43 sentencepiece-0.1.94 tokenizers-0.5.2 transformers-2.8.0\n"
          ],
          "name": "stdout"
        }
      ]
    },
    {
      "cell_type": "code",
      "metadata": {
        "id": "9YRJBGY0oe0y"
      },
      "source": [
        "#!wget https://s3.amazonaws.com/models.huggingface.co/bert/sberbank-ai/rugpt3small_based_on_gpt2/vocab.json"
      ],
      "execution_count": 6,
      "outputs": []
    },
    {
      "cell_type": "code",
      "metadata": {
        "id": "cRhde5S3ohTD"
      },
      "source": [
        "#!wget https://s3.amazonaws.com/models.huggingface.co/bert/sberbank-ai/rugpt3small_based_on_gpt2/merges.txt"
      ],
      "execution_count": 7,
      "outputs": []
    },
    {
      "cell_type": "code",
      "metadata": {
        "id": "I0mBNobeojAu"
      },
      "source": [
        "#!wget https://s3.amazonaws.com/models.huggingface.co/bert/sberbank-ai/rugpt3small_based_on_gpt2/config.json"
      ],
      "execution_count": 8,
      "outputs": []
    },
    {
      "cell_type": "code",
      "metadata": {
        "id": "JliQlp3xolXr"
      },
      "source": [
        "#!wget https://s3.amazonaws.com/models.huggingface.co/bert/sberbank-ai/rugpt3small_based_on_gpt2/pytorch_model.bin"
      ],
      "execution_count": 9,
      "outputs": []
    },
    {
      "cell_type": "markdown",
      "metadata": {
        "id": "RUwig1hVpJyK"
      },
      "source": [
        "Ручками переложил в нужную папку."
      ]
    },
    {
      "cell_type": "code",
      "metadata": {
        "colab": {
          "base_uri": "https://localhost:8080/"
        },
        "id": "MooQ3HjipRjN",
        "outputId": "39818383-81e5-413f-85bd-6f7a7f6c612c"
      },
      "source": [
        "!ls model"
      ],
      "execution_count": 10,
      "outputs": [
        {
          "output_type": "stream",
          "text": [
            "ls: cannot access 'model': No such file or directory\n"
          ],
          "name": "stdout"
        }
      ]
    },
    {
      "cell_type": "code",
      "metadata": {
        "id": "SLo4hFnZcXW2"
      },
      "source": [
        "from generate_transformers import HoroModel"
      ],
      "execution_count": 4,
      "outputs": []
    },
    {
      "cell_type": "code",
      "metadata": {
        "id": "z3iiYjumyKkz",
        "colab": {
          "base_uri": "https://localhost:8080/"
        },
        "outputId": "b028cf27-e1b9-4685-9bed-2cab88031653"
      },
      "source": [
        "test_model = HoroModel(gen_path='/content/gdrive/My Drive/MADE_graduation_project_ML_horoscopes/GANs_results/GAN300_Lin_Lin_SentBySent_eval_norm/gen_500000',\n",
        "                       gpt_path ='/content/gdrive/MyDrive/small',\n",
        "                       scaler_path = '/content/datatransformer.pickle',\n",
        "                       kv_path = \"/content/gdrive/My Drive/MADE_graduation_project_ML_horoscopes/data/model_rusvectores.model\")"
      ],
      "execution_count": 5,
      "outputs": [
        {
          "output_type": "stream",
          "text": [
            "11/28/2020 13:09:53 - INFO - gensim.utils -   loading WordEmbeddingsKeyedVectors object from /content/gdrive/My Drive/MADE_graduation_project_ML_horoscopes/data/model_rusvectores.model\n",
            "11/28/2020 13:09:53 - INFO - gensim.utils -   setting ignored attribute vectors_norm to None\n",
            "11/28/2020 13:09:53 - INFO - gensim.utils -   loaded /content/gdrive/My Drive/MADE_graduation_project_ML_horoscopes/data/model_rusvectores.model\n"
          ],
          "name": "stderr"
        }
      ]
    },
    {
      "cell_type": "code",
      "metadata": {
        "id": "1C2dYf-8RqjI",
        "cellView": "form"
      },
      "source": [
        "#@title\n",
        "\n",
        "test = np.array([[-9.04546430e-01, -4.17748878e-01,  2.38048487e-05,\n",
        "         7.49852345e-03, -1.55603482e-02,  1.87672386e-07,\n",
        "         5.75445232e-03,  9.96352533e-01, -2.83478578e-04,\n",
        "        -5.45199613e-01, -4.62993467e-01, -3.66367909e-02,\n",
        "         5.57102562e-03,  1.36120381e-02,  2.56083748e-03,\n",
        "         4.13644793e-03,  7.16203758e-01, -1.31714285e-02,\n",
        "        -1.15773141e+00,  2.54496757e-01,  2.38593471e-02,\n",
        "        -1.14981276e-02, -2.28031021e-02,  9.97018852e-04,\n",
        "         6.84753376e-03,  1.18561372e+00,  6.35301037e-03,\n",
        "         4.00402366e-01,  1.42047587e-01, -2.02573152e-02,\n",
        "         2.51712582e-03, -1.50526949e-03,  4.16931550e-04,\n",
        "         2.45653055e-03,  4.25335080e-01,  1.84700806e-03,\n",
        "         1.67110522e+00, -4.84447457e+00, -3.92164066e-02,\n",
        "         1.39378035e-02, -1.14042461e-02, -1.61073246e-04,\n",
        "         2.95980886e-02,  5.12475018e+00,  1.53266853e-02,\n",
        "         4.25454661e+00, -8.98213988e+00, -5.64098150e-02,\n",
        "         1.19736740e-02, -1.26916878e-02, -2.27757868e-04,\n",
        "         5.74027212e-02,  9.93897307e+00,  1.65966762e-02,\n",
        "         1.46314909e+01,  1.18269218e+01, -1.55756943e-01,\n",
        "         5.04074977e-03, -1.26505387e-02,  4.26581528e-05,\n",
        "         1.08662792e-01,  1.88143792e+01, -4.03254824e-03,\n",
        "         2.85149653e+01, -5.88302774e+00, -5.65511943e-01,\n",
        "         8.05801347e-03, -1.24497378e-02, -7.64796960e-05,\n",
        "         1.68188911e-01,  2.91210073e+01,  1.04068989e-02,\n",
        "         1.29351421e+01, -3.16221459e+01, -6.63183494e-01,\n",
        "         1.04485438e-02, -1.49625070e-02, -9.27382882e-04,\n",
        "         1.97360357e-01,  3.41718865e+01,  1.78191802e-02,\n",
        "         1.00000000e+00,  0.00000000e+00,  0.00000000e+00,\n",
        "         0.00000000e+00,  0.00000000e+00,  0.00000000e+00,\n",
        "         0.00000000e+00,  0.00000000e+00,  0.00000000e+00,\n",
        "         0.00000000e+00,  0.00000000e+00,  0.00000000e+00],\n",
        "       [-9.11908546e-01, -4.02126265e-01,  2.35540374e-05,\n",
        "         7.22533246e-03, -1.56840134e-02,  3.19168644e-07,\n",
        "         5.75608779e-03,  9.96635706e-01, -2.82840242e-04,\n",
        "        -5.51720439e-01, -4.76377605e-01, -3.90845170e-02,\n",
        "         7.45404568e-03,  1.31309676e-02,  2.33397070e-03,\n",
        "         4.21596486e-03,  7.29971687e-01, -1.43280494e-02,\n",
        "        -1.14599852e+00,  2.77093314e-01,  2.28529004e-02,\n",
        "        -1.19654852e-02, -2.23882399e-02,  1.01574528e-03,\n",
        "         6.81074328e-03,  1.17924364e+00,  6.38715298e-03,\n",
        "         3.97954095e-01,  1.43586422e-01, -2.06732541e-02,\n",
        "         2.37916980e-03, -1.57175853e-03,  4.14943558e-04,\n",
        "         2.44633876e-03,  4.23570426e-01,  1.68222072e-03,\n",
        "         1.65730108e+00, -4.83300225e+00, -3.90553185e-02,\n",
        "         1.36695174e-02, -1.15389669e-02, -1.61086708e-04,\n",
        "         2.95094981e-02,  5.10941122e+00,  1.53498411e-02,\n",
        "         4.24270854e+00, -8.96938478e+00, -5.61820403e-02,\n",
        "         1.17021106e-02, -1.28176384e-02, -2.27791332e-04,\n",
        "         5.73068791e-02,  9.92237853e+00,  1.65915634e-02,\n",
        "         1.46265862e+01,  1.18396344e+01, -1.55799592e-01,\n",
        "         4.76825764e-03, -1.27737792e-02,  4.26834303e-05,\n",
        "         1.08686944e-01,  1.88185611e+01, -4.33084090e-03,\n",
        "         2.85070438e+01, -5.87051564e+00, -5.65435654e-01,\n",
        "         7.78468934e-03, -1.25736667e-02, -7.61588214e-05,\n",
        "         1.68129517e-01,  2.91107234e+01,  1.01603607e-02,\n",
        "         1.29248252e+01, -3.16071258e+01, -6.62255726e-01,\n",
        "         1.01840408e-02, -1.50763755e-02, -9.26121637e-04,\n",
        "         1.97257423e-01,  3.41540641e+01,  1.78239747e-02,\n",
        "         1.00000000e+00,  0.00000000e+00,  0.00000000e+00,\n",
        "         0.00000000e+00,  0.00000000e+00,  0.00000000e+00,\n",
        "         0.00000000e+00,  0.00000000e+00,  0.00000000e+00,\n",
        "         0.00000000e+00,  0.00000000e+00,  0.00000000e+00],\n",
        "       [-9.18996377e-01, -3.86382600e-01,  2.31578922e-05,\n",
        "         6.94998940e-03, -1.58024334e-02,  4.76421240e-07,\n",
        "         5.75771922e-03,  9.96918179e-01, -2.82099138e-04,\n",
        "        -5.60073485e-01, -4.89207770e-01, -4.13037788e-02,\n",
        "         9.23449109e-03,  1.25069672e-02,  2.10423335e-03,\n",
        "         4.30154989e-03,  7.44790275e-01, -1.52759942e-02,\n",
        "        -1.13380483e+00,  2.99269747e-01,  2.18281189e-02,\n",
        "        -1.24196632e-02, -2.19629104e-02,  1.03368439e-03,\n",
        "         6.77375543e-03,  1.17283940e+00,  6.42134203e-03,\n",
        "         3.95644486e-01,  1.45189805e-01, -2.10871952e-02,\n",
        "         2.23983517e-03, -1.63435020e-03,  4.12934087e-04,\n",
        "         2.43709977e-03,  4.21970744e-01,  1.51711899e-03,\n",
        "         1.64376621e+00, -4.82139900e+00, -3.88942744e-02,\n",
        "         1.34000114e-02, -1.16671965e-02, -1.61015593e-04,\n",
        "         2.94207922e-02,  5.09405226e+00,  1.53679142e-02,\n",
        "         4.23114304e+00, -8.95650632e+00, -5.59542508e-02,\n",
        "         1.14285666e-02, -1.29384331e-02, -2.27769397e-04,\n",
        "         5.72110812e-02,  9.90579163e+00,  1.65813909e-02,\n",
        "         1.46219551e+01,  1.18524676e+01, -1.55842350e-01,\n",
        "         4.49355656e-03, -1.28917509e-02,  4.28157382e-05,\n",
        "         1.08712814e-01,  1.88230403e+01, -4.62736881e-03,\n",
        "         2.84993966e+01, -5.85788207e+00, -5.65359485e-01,\n",
        "         7.50946321e-03, -1.26925951e-02, -7.62378007e-05,\n",
        "         1.68071555e-01,  2.91006876e+01,  9.91076229e-03,\n",
        "         1.29147774e+01, -3.15919941e+01, -6.61334571e-01,\n",
        "         9.90972078e-03, -1.51873356e-02, -9.15219790e-04,\n",
        "         1.97154484e-01,  3.41362407e+01,  1.78222707e-02,\n",
        "         1.00000000e+00,  0.00000000e+00,  0.00000000e+00,\n",
        "         0.00000000e+00,  0.00000000e+00,  0.00000000e+00,\n",
        "         0.00000000e+00,  0.00000000e+00,  0.00000000e+00,\n",
        "         0.00000000e+00,  0.00000000e+00,  0.00000000e+00],\n",
        "       [-9.25807885e-01, -3.70523170e-01,  2.25968055e-05,\n",
        "         6.67272717e-03, -1.59155393e-02,  6.46819839e-07,\n",
        "         5.75934636e-03,  9.97199910e-01, -2.81375230e-04,\n",
        "        -5.70153637e-01, -5.01349471e-01, -4.32926296e-02,\n",
        "         1.09076502e-02,  1.17567222e-02,  1.87342423e-03,\n",
        "         4.39205561e-03,  7.60460856e-01, -1.60354978e-02,\n",
        "        -1.12116371e+00,  3.21015770e-01,  2.07858030e-02,\n",
        "        -1.28602905e-02, -2.15274884e-02,  1.05080951e-03,\n",
        "         6.73657024e-03,  1.16640098e+00,  6.45547269e-03,\n",
        "         3.93474811e-01,  1.46853804e-01, -2.14991109e-02,\n",
        "         2.09934068e-03, -1.69298807e-03,  4.10890615e-04,\n",
        "         2.42881442e-03,  4.20536180e-01,  1.35204100e-03,\n",
        "         1.63050262e+00, -4.80966987e+00, -3.87332880e-02,\n",
        "         1.31271132e-02, -1.17894380e-02, -1.60924424e-04,\n",
        "         2.93319939e-02,  5.07867732e+00,  1.53806445e-02,\n",
        "         4.21985206e+00, -8.94350964e+00, -5.57265308e-02,\n",
        "         1.11530856e-02, -1.30540446e-02, -2.27665973e-04,\n",
        "         5.71153566e-02,  9.88921744e+00,  1.65661270e-02,\n",
        "         1.46175997e+01,  1.18654161e+01, -1.55885225e-01,\n",
        "         4.21704714e-03, -1.30044310e-02,  4.29693741e-05,\n",
        "         1.08740391e-01,  1.88278151e+01, -4.92179131e-03,\n",
        "         2.84920253e+01, -5.84513230e+00, -5.65283117e-01,\n",
        "         7.23279073e-03, -1.28059985e-02, -7.64906319e-05,\n",
        "         1.68015042e-01,  2.90909028e+01,  9.65844384e-03,\n",
        "         1.29050094e+01, -3.15767497e+01, -6.60425301e-01,\n",
        "         9.62499742e-03, -1.53021907e-02, -9.04275604e-04,\n",
        "         1.97051557e-01,  3.41184195e+01,  1.78203253e-02,\n",
        "         1.00000000e+00,  0.00000000e+00,  0.00000000e+00,\n",
        "         0.00000000e+00,  0.00000000e+00,  0.00000000e+00,\n",
        "         0.00000000e+00,  0.00000000e+00,  0.00000000e+00,\n",
        "         0.00000000e+00,  0.00000000e+00,  0.00000000e+00],\n",
        "       [-9.32341269e-01, -3.54553298e-01,  2.18643179e-05,\n",
        "         6.39377842e-03, -1.60233195e-02,  8.17075218e-07,\n",
        "         5.76096962e-03,  9.97480969e-01, -2.80769975e-04,\n",
        "        -5.81852105e-01, -5.12684307e-01, -4.50507795e-02,\n",
        "         1.24708181e-02,  1.08957117e-02,  1.64306345e-03,\n",
        "         4.48645388e-03,  7.76805409e-01, -1.66273989e-02,\n",
        "        -1.10808889e+00,  3.42321504e-01,  1.97267801e-02,\n",
        "        -1.32870095e-02, -2.10824096e-02,  1.06709401e-03,\n",
        "         6.69918837e-03,  1.15992851e+00,  6.48943077e-03,\n",
        "         3.91446119e-01,  1.48574463e-01, -2.19089607e-02,\n",
        "         1.95790461e-03, -1.74767291e-03,  4.08799955e-04,\n",
        "         2.42148163e-03,  4.19266547e-01,  1.18730726e-03,\n",
        "         1.61751136e+00, -4.79782143e+00, -3.85724269e-02,\n",
        "         1.28547809e-02, -1.19072187e-02, -1.60829395e-04,\n",
        "         2.92431332e-02,  5.06329155e+00,  1.53907129e-02,\n",
        "         4.20883742e+00, -8.93040000e+00, -5.54989225e-02,\n",
        "         1.08759438e-02, -1.31643777e-02, -2.27541543e-04,\n",
        "         5.70197350e-02,  9.87266108e+00,  1.65457787e-02,\n",
        "         1.46135216e+01,  1.18784746e+01, -1.55928370e-01,\n",
        "         3.93874863e-03, -1.31117345e-02,  4.33317067e-05,\n",
        "         1.08769662e-01,  1.88328832e+01, -5.21402765e-03,\n",
        "         2.84849315e+01, -5.83227201e+00, -5.65206588e-01,\n",
        "         6.95463710e-03, -1.29136282e-02, -7.64979445e-05,\n",
        "         1.67959995e-01,  2.90813716e+01,  9.40331818e-03,\n",
        "         1.28955285e+01, -3.15613888e+01, -6.59522715e-01,\n",
        "         9.33685739e-03, -1.54195871e-02, -9.02923828e-04,\n",
        "         1.96948638e-01,  3.41005995e+01,  1.78197100e-02,\n",
        "         1.00000000e+00,  0.00000000e+00,  0.00000000e+00,\n",
        "         0.00000000e+00,  0.00000000e+00,  0.00000000e+00,\n",
        "         0.00000000e+00,  0.00000000e+00,  0.00000000e+00,\n",
        "         0.00000000e+00,  0.00000000e+00,  0.00000000e+00]])"
      ],
      "execution_count": 6,
      "outputs": []
    },
    {
      "cell_type": "code",
      "metadata": {
        "id": "UwCHy8IUy-BM",
        "colab": {
          "base_uri": "https://localhost:8080/"
        },
        "outputId": "71f45359-c97e-4f45-ff90-e25bcab078cd"
      },
      "source": [
        "test_results = test_model.get_prediction(test)"
      ],
      "execution_count": 7,
      "outputs": [
        {
          "output_type": "stream",
          "text": [
            "11/28/2020 13:10:05 - INFO - gensim.models.keyedvectors -   precomputing L2-norms of word weight vectors\n",
            "/usr/local/lib/python3.6/dist-packages/gensim/matutils.py:737: FutureWarning: Conversion of the second argument of issubdtype from `int` to `np.signedinteger` is deprecated. In future, it will be treated as `np.int64 == np.dtype(int).type`.\n",
            "  if np.issubdtype(vec.dtype, np.int):\n",
            "11/28/2020 13:10:05 - INFO - transformers.tokenization_utils -   Model name '/content/gdrive/MyDrive/small' not found in model shortcut name list (gpt2, gpt2-medium, gpt2-large, gpt2-xl, distilgpt2). Assuming '/content/gdrive/MyDrive/small' is a path, a model identifier, or url to a directory containing tokenizer files.\n",
            "11/28/2020 13:10:05 - INFO - transformers.tokenization_utils -   Didn't find file /content/gdrive/MyDrive/small/added_tokens.json. We won't load it.\n",
            "11/28/2020 13:10:05 - INFO - transformers.tokenization_utils -   loading file /content/gdrive/MyDrive/small/vocab.json\n",
            "11/28/2020 13:10:05 - INFO - transformers.tokenization_utils -   loading file /content/gdrive/MyDrive/small/merges.txt\n",
            "11/28/2020 13:10:05 - INFO - transformers.tokenization_utils -   loading file None\n",
            "11/28/2020 13:10:05 - INFO - transformers.tokenization_utils -   loading file /content/gdrive/MyDrive/small/special_tokens_map.json\n",
            "11/28/2020 13:10:05 - INFO - transformers.tokenization_utils -   loading file /content/gdrive/MyDrive/small/tokenizer_config.json\n",
            "11/28/2020 13:10:06 - INFO - transformers.configuration_utils -   loading configuration file /content/gdrive/MyDrive/small/config.json\n",
            "11/28/2020 13:10:06 - INFO - transformers.configuration_utils -   Model config GPT2Config {\n",
            "  \"_num_labels\": 2,\n",
            "  \"activation_function\": \"gelu_new\",\n",
            "  \"architectures\": [\n",
            "    \"GPT2LMHeadModel\"\n",
            "  ],\n",
            "  \"attn_pdrop\": 0.1,\n",
            "  \"bad_words_ids\": null,\n",
            "  \"bos_token_id\": 50256,\n",
            "  \"decoder_start_token_id\": null,\n",
            "  \"do_sample\": false,\n",
            "  \"early_stopping\": false,\n",
            "  \"embd_pdrop\": 0.1,\n",
            "  \"eos_token_id\": 50256,\n",
            "  \"finetuning_task\": null,\n",
            "  \"gradient_checkpointing\": false,\n",
            "  \"id2label\": {\n",
            "    \"0\": \"LABEL_0\",\n",
            "    \"1\": \"LABEL_1\"\n",
            "  },\n",
            "  \"initializer_range\": 0.02,\n",
            "  \"is_decoder\": false,\n",
            "  \"is_encoder_decoder\": false,\n",
            "  \"label2id\": {\n",
            "    \"LABEL_0\": 0,\n",
            "    \"LABEL_1\": 1\n",
            "  },\n",
            "  \"layer_norm_epsilon\": 1e-05,\n",
            "  \"length_penalty\": 1.0,\n",
            "  \"max_length\": 20,\n",
            "  \"min_length\": 0,\n",
            "  \"model_type\": \"gpt2\",\n",
            "  \"n_ctx\": 2048,\n",
            "  \"n_embd\": 768,\n",
            "  \"n_head\": 12,\n",
            "  \"n_inner\": null,\n",
            "  \"n_layer\": 12,\n",
            "  \"n_positions\": 2048,\n",
            "  \"no_repeat_ngram_size\": 0,\n",
            "  \"num_beams\": 1,\n",
            "  \"num_return_sequences\": 1,\n",
            "  \"output_attentions\": false,\n",
            "  \"output_hidden_states\": false,\n",
            "  \"output_past\": true,\n",
            "  \"pad_token_id\": null,\n",
            "  \"prefix\": null,\n",
            "  \"pruned_heads\": {},\n",
            "  \"repetition_penalty\": 1.0,\n",
            "  \"resid_pdrop\": 0.1,\n",
            "  \"summary_activation\": null,\n",
            "  \"summary_first_dropout\": 0.1,\n",
            "  \"summary_proj_to_labels\": true,\n",
            "  \"summary_type\": \"cls_index\",\n",
            "  \"summary_use_proj\": true,\n",
            "  \"task_specific_params\": null,\n",
            "  \"temperature\": 1.0,\n",
            "  \"top_k\": 50,\n",
            "  \"top_p\": 1.0,\n",
            "  \"torchscript\": false,\n",
            "  \"use_bfloat16\": false,\n",
            "  \"vocab_size\": 50257\n",
            "}\n",
            "\n",
            "11/28/2020 13:10:06 - INFO - transformers.modeling_utils -   loading weights file /content/gdrive/MyDrive/small/pytorch_model.bin\n",
            "11/28/2020 13:10:11 - INFO - generate_transformers -   <generate_transformers.predict.<locals>.Args object at 0x7f336662f710>\n",
            "11/28/2020 13:10:11 - WARNING - transformers.modeling_utils -   Setting `pad_token_id` to 50256 (first `eos_token_id`) to generate sequence\n",
            "11/28/2020 13:10:12 - WARNING - transformers.modeling_utils -   Setting `pad_token_id` to 50256 (first `eos_token_id`) to generate sequence\n"
          ],
          "name": "stderr"
        },
        {
          "output_type": "stream",
          "text": [
            "ruGPT:\n",
            "Утром стоит быть осторожнее поскольку возможны ошибки в расчетах. Вероятны задержки в делах. Не спешите делиться своими идеями с кем-то, особенно если вы не уверены, что их поддержат. Лучше не говорить лишнего, не делиться секретами. Стоит быть осторожнее с новыми\n"
          ],
          "name": "stdout"
        },
        {
          "output_type": "stream",
          "text": [
            "11/28/2020 13:10:13 - WARNING - transformers.modeling_utils -   Setting `pad_token_id` to 50256 (first `eos_token_id`) to generate sequence\n"
          ],
          "name": "stderr"
        },
        {
          "output_type": "stream",
          "text": [
            "ruGPT:\n",
            "День требует настойчивости и решительности. Вы не боитесь трудностей, не боитесь трудностей, которые могут возникнуть на пути. Не исключены денежные поступления, в том числе из неожиданных источников. Некоторым Рыбам вернут старые долги или заплатят за работу, проделанную раньше.\n"
          ],
          "name": "stdout"
        },
        {
          "output_type": "stream",
          "text": [
            "11/28/2020 13:10:14 - WARNING - transformers.modeling_utils -   Setting `pad_token_id` to 50256 (first `eos_token_id`) to generate sequence\n"
          ],
          "name": "stderr"
        },
        {
          "output_type": "stream",
          "text": [
            "ruGPT:\n",
            "Вы энергичны решительны способны в одиночку справиться с самыми сложными задачами. Часто вам помогают люди, от которых вы не ожидали ничего подобного. Не исключено, что вы получите предложения, от которых не захотите отказываться. Вероятны денежные поступления, в том числе из неожиданных источников. Некоторые Ль\n"
          ],
          "name": "stdout"
        },
        {
          "output_type": "stream",
          "text": [
            "11/28/2020 13:10:15 - WARNING - transformers.modeling_utils -   Setting `pad_token_id` to 50256 (first `eos_token_id`) to generate sequence\n"
          ],
          "name": "stderr"
        },
        {
          "output_type": "stream",
          "text": [
            "ruGPT:\n",
            "Не самый подходящий день для того, чтобы строить планы на будущее. Не исключено, что придется отложить запланированные дела и сосредоточиться на решении текущих задач. Вы быстро добьетесь первых успехов, но это не значит, что все будет идти так, как задумано. Наоборот, вам\n",
            "ruGPT:\n",
            "Вряд ли день принесет важные события, но вы будете довольны тем, как сложится день. Вероятны приятные сюрпризы, неожиданные подарки. Не исключено начало романтических историй. Вы на многих производите хорошее впечатление, часто догадываетесь об истинных желаниях и мечтах окружающих.<\n"
          ],
          "name": "stdout"
        }
      ]
    },
    {
      "cell_type": "code",
      "metadata": {
        "id": "aJ3v0V2y1WWg",
        "colab": {
          "base_uri": "https://localhost:8080/"
        },
        "outputId": "58758b43-9978-468e-ee3e-7745c9a05b8b"
      },
      "source": [
        "test_results"
      ],
      "execution_count": 8,
      "outputs": [
        {
          "output_type": "execute_result",
          "data": {
            "text/plain": [
              "['Утром стоит быть осторожнее поскольку возможны ошибки в расчетах. Вероятны задержки в делах. Не спешите делиться своими идеями с кем-то, особенно если вы не уверены, что их поддержат. Лучше не говорить лишнего, не делиться секретами. Стоит быть осторожнее с новыми',\n",
              " 'День требует настойчивости и решительности. Вы не боитесь трудностей, не боитесь трудностей, которые могут возникнуть на пути. Не исключены денежные поступления, в том числе из неожиданных источников. Некоторым Рыбам вернут старые долги или заплатят за работу, проделанную раньше.',\n",
              " 'Вы энергичны решительны способны в одиночку справиться с самыми сложными задачами. Часто вам помогают люди, от которых вы не ожидали ничего подобного. Не исключено, что вы получите предложения, от которых не захотите отказываться. Вероятны денежные поступления, в том числе из неожиданных источников. Некоторые Ль',\n",
              " 'Не самый подходящий день для того, чтобы строить планы на будущее. Не исключено, что придется отложить запланированные дела и сосредоточиться на решении текущих задач. Вы быстро добьетесь первых успехов, но это не значит, что все будет идти так, как задумано. Наоборот, вам',\n",
              " 'Вряд ли день принесет важные события, но вы будете довольны тем, как сложится день. Вероятны приятные сюрпризы, неожиданные подарки. Не исключено начало романтических историй. Вы на многих производите хорошее впечатление, часто догадываетесь об истинных желаниях и мечтах окружающих.<']"
            ]
          },
          "metadata": {
            "tags": []
          },
          "execution_count": 8
        }
      ]
    },
    {
      "cell_type": "code",
      "metadata": {
        "colab": {
          "base_uri": "https://localhost:8080/"
        },
        "id": "2ZqQw9nr87hw",
        "outputId": "7c6186de-2a0f-40a3-b95d-08ce1003623d"
      },
      "source": [
        "test_results_with_avg = test_model.get_prediction(test, mode = 'with_avg')"
      ],
      "execution_count": 19,
      "outputs": [
        {
          "output_type": "stream",
          "text": [
            "/usr/local/lib/python3.6/dist-packages/gensim/matutils.py:737: FutureWarning: Conversion of the second argument of issubdtype from `int` to `np.signedinteger` is deprecated. In future, it will be treated as `np.int64 == np.dtype(int).type`.\n",
            "  if np.issubdtype(vec.dtype, np.int):\n",
            "11/28/2020 13:04:19 - INFO - transformers.tokenization_utils -   Model name '/content/gdrive/MyDrive/small' not found in model shortcut name list (gpt2, gpt2-medium, gpt2-large, gpt2-xl, distilgpt2). Assuming '/content/gdrive/MyDrive/small' is a path, a model identifier, or url to a directory containing tokenizer files.\n",
            "11/28/2020 13:04:19 - INFO - transformers.tokenization_utils -   Didn't find file /content/gdrive/MyDrive/small/added_tokens.json. We won't load it.\n",
            "11/28/2020 13:04:19 - INFO - transformers.tokenization_utils -   loading file /content/gdrive/MyDrive/small/vocab.json\n",
            "11/28/2020 13:04:19 - INFO - transformers.tokenization_utils -   loading file /content/gdrive/MyDrive/small/merges.txt\n",
            "11/28/2020 13:04:19 - INFO - transformers.tokenization_utils -   loading file None\n",
            "11/28/2020 13:04:19 - INFO - transformers.tokenization_utils -   loading file /content/gdrive/MyDrive/small/special_tokens_map.json\n",
            "11/28/2020 13:04:19 - INFO - transformers.tokenization_utils -   loading file /content/gdrive/MyDrive/small/tokenizer_config.json\n",
            "11/28/2020 13:04:19 - INFO - transformers.configuration_utils -   loading configuration file /content/gdrive/MyDrive/small/config.json\n",
            "11/28/2020 13:04:19 - INFO - transformers.configuration_utils -   Model config GPT2Config {\n",
            "  \"_num_labels\": 2,\n",
            "  \"activation_function\": \"gelu_new\",\n",
            "  \"architectures\": [\n",
            "    \"GPT2LMHeadModel\"\n",
            "  ],\n",
            "  \"attn_pdrop\": 0.1,\n",
            "  \"bad_words_ids\": null,\n",
            "  \"bos_token_id\": 50256,\n",
            "  \"decoder_start_token_id\": null,\n",
            "  \"do_sample\": false,\n",
            "  \"early_stopping\": false,\n",
            "  \"embd_pdrop\": 0.1,\n",
            "  \"eos_token_id\": 50256,\n",
            "  \"finetuning_task\": null,\n",
            "  \"gradient_checkpointing\": false,\n",
            "  \"id2label\": {\n",
            "    \"0\": \"LABEL_0\",\n",
            "    \"1\": \"LABEL_1\"\n",
            "  },\n",
            "  \"initializer_range\": 0.02,\n",
            "  \"is_decoder\": false,\n",
            "  \"is_encoder_decoder\": false,\n",
            "  \"label2id\": {\n",
            "    \"LABEL_0\": 0,\n",
            "    \"LABEL_1\": 1\n",
            "  },\n",
            "  \"layer_norm_epsilon\": 1e-05,\n",
            "  \"length_penalty\": 1.0,\n",
            "  \"max_length\": 20,\n",
            "  \"min_length\": 0,\n",
            "  \"model_type\": \"gpt2\",\n",
            "  \"n_ctx\": 2048,\n",
            "  \"n_embd\": 768,\n",
            "  \"n_head\": 12,\n",
            "  \"n_inner\": null,\n",
            "  \"n_layer\": 12,\n",
            "  \"n_positions\": 2048,\n",
            "  \"no_repeat_ngram_size\": 0,\n",
            "  \"num_beams\": 1,\n",
            "  \"num_return_sequences\": 1,\n",
            "  \"output_attentions\": false,\n",
            "  \"output_hidden_states\": false,\n",
            "  \"output_past\": true,\n",
            "  \"pad_token_id\": null,\n",
            "  \"prefix\": null,\n",
            "  \"pruned_heads\": {},\n",
            "  \"repetition_penalty\": 1.0,\n",
            "  \"resid_pdrop\": 0.1,\n",
            "  \"summary_activation\": null,\n",
            "  \"summary_first_dropout\": 0.1,\n",
            "  \"summary_proj_to_labels\": true,\n",
            "  \"summary_type\": \"cls_index\",\n",
            "  \"summary_use_proj\": true,\n",
            "  \"task_specific_params\": null,\n",
            "  \"temperature\": 1.0,\n",
            "  \"top_k\": 50,\n",
            "  \"top_p\": 1.0,\n",
            "  \"torchscript\": false,\n",
            "  \"use_bfloat16\": false,\n",
            "  \"vocab_size\": 50257\n",
            "}\n",
            "\n",
            "11/28/2020 13:04:19 - INFO - transformers.modeling_utils -   loading weights file /content/gdrive/MyDrive/small/pytorch_model.bin\n",
            "11/28/2020 13:04:24 - INFO - generate_transformers -   <generate_transformers.predict.<locals>.Args object at 0x7efcb665db38>\n",
            "11/28/2020 13:04:24 - WARNING - transformers.modeling_utils -   Setting `pad_token_id` to 50256 (first `eos_token_id`) to generate sequence\n",
            "11/28/2020 13:04:25 - WARNING - transformers.modeling_utils -   Setting `pad_token_id` to 50256 (first `eos_token_id`) to generate sequence\n"
          ],
          "name": "stderr"
        },
        {
          "output_type": "stream",
          "text": [
            "ruGPT:\n",
            "День складывается довольно удачно но и в целом складывается неплохо. Вероятны хорошие новости, касающиеся работы или бизнеса. Вы не боитесь экспериментировать, часто добиваетесь того, к чему давно стремились. Вторая половина дня подходит для покупок, в том числе незапланированных. Будет возможность сделать уда\n"
          ],
          "name": "stdout"
        },
        {
          "output_type": "stream",
          "text": [
            "11/28/2020 13:04:26 - WARNING - transformers.modeling_utils -   Setting `pad_token_id` to 50256 (first `eos_token_id`) to generate sequence\n"
          ],
          "name": "stderr"
        },
        {
          "output_type": "stream",
          "text": [
            "ruGPT:\n",
            "Все сложно вы так переживаете, что не можете ничего изменить в жизни. Не все получается сразу, но вы не сдаетесь, находите способ преодолеть все преграды. Не исключены романтические сюрпризы, а также встречи с людьми, по которым вы скучали. Не исключено\n"
          ],
          "name": "stdout"
        },
        {
          "output_type": "stream",
          "text": [
            "11/28/2020 13:04:27 - WARNING - transformers.modeling_utils -   Setting `pad_token_id` to 50256 (first `eos_token_id`) to generate sequence\n"
          ],
          "name": "stderr"
        },
        {
          "output_type": "stream",
          "text": [
            "ruGPT:\n",
            "Старайтесь не спешить первая половина дня. Старайтесь не принимать важных решений в первой половине дня. Это не лучшее время для того, чтобы принимать решения в спешке. Позже ситуация изменится к лучшему. Вероятны денежные поступления, удачными будут покупки. Некоторым Стрельцам вернут\n"
          ],
          "name": "stdout"
        },
        {
          "output_type": "stream",
          "text": [
            "11/28/2020 13:04:28 - WARNING - transformers.modeling_utils -   Setting `pad_token_id` to 50256 (first `eos_token_id`) to generate sequence\n"
          ],
          "name": "stderr"
        },
        {
          "output_type": "stream",
          "text": [
            "ruGPT:\n",
            "День не будет легким и приятным, но вы останетесь довольны тем, как сложится день. Не исключены приятные сюрпризы, неожиданные подарки и денежные поступления. Вторая половина дня будет более напряженной, чем первая. Вам придется заниматься несколькими делами сразу, и вы будете этому\n"
          ],
          "name": "stdout"
        },
        {
          "output_type": "stream",
          "text": [
            "11/28/2020 13:04:28 - WARNING - transformers.modeling_utils -   Setting `pad_token_id` to 50256 (first `eos_token_id`) to generate sequence\n"
          ],
          "name": "stderr"
        },
        {
          "output_type": "stream",
          "text": [
            "ruGPT:\n",
            "Утомительный день масса дел требует внимания. Не все удается сразу, но вы стараетесь довести все до конца, и это удается. Не исключено, что придется исправлять чужие ошибки. Вы отлично справитесь с тем, что не удалось другим, и не пожалеете об этом. Вероят\n",
            "ruGPT:\n",
            "Сложный день но вы не сдаетесь, стараетесь добиться своего, и это вам очень нравится. Будет возможность помочь близким, поддержать тех, кто оказался в сложной ситуации. Не исключено, что именно сегодня вы поймете, как изменить к лучшему отношения, которые в последнее время складывались напряженно\n"
          ],
          "name": "stdout"
        }
      ]
    },
    {
      "cell_type": "code",
      "metadata": {
        "id": "AQ4xJJT8tRdY",
        "colab": {
          "base_uri": "https://localhost:8080/"
        },
        "outputId": "77e88198-7b17-4500-8772-9de6d0dad05c"
      },
      "source": [
        "test_results_with_avg"
      ],
      "execution_count": 20,
      "outputs": [
        {
          "output_type": "execute_result",
          "data": {
            "text/plain": [
              "['День складывается довольно удачно но и в целом складывается неплохо. Вероятны хорошие новости, касающиеся работы или бизнеса. Вы не боитесь экспериментировать, часто добиваетесь того, к чему давно стремились. Вторая половина дня подходит для покупок, в том числе незапланированных. Будет возможность сделать уда',\n",
              " 'Все сложно вы так переживаете, что не можете ничего изменить в жизни. Не все получается сразу, но вы не сдаетесь, находите способ преодолеть все преграды. Не исключены романтические сюрпризы, а также встречи с людьми, по которым вы скучали. Не исключено',\n",
              " 'Старайтесь не спешить первая половина дня. Старайтесь не принимать важных решений в первой половине дня. Это не лучшее время для того, чтобы принимать решения в спешке. Позже ситуация изменится к лучшему. Вероятны денежные поступления, удачными будут покупки. Некоторым Стрельцам вернут',\n",
              " 'День не будет легким и приятным, но вы останетесь довольны тем, как сложится день. Не исключены приятные сюрпризы, неожиданные подарки и денежные поступления. Вторая половина дня будет более напряженной, чем первая. Вам придется заниматься несколькими делами сразу, и вы будете этому',\n",
              " 'Утомительный день масса дел требует внимания. Не все удается сразу, но вы стараетесь довести все до конца, и это удается. Не исключено, что придется исправлять чужие ошибки. Вы отлично справитесь с тем, что не удалось другим, и не пожалеете об этом. Вероят',\n",
              " 'Сложный день но вы не сдаетесь, стараетесь добиться своего, и это вам очень нравится. Будет возможность помочь близким, поддержать тех, кто оказался в сложной ситуации. Не исключено, что именно сегодня вы поймете, как изменить к лучшему отношения, которые в последнее время складывались напряженно']"
            ]
          },
          "metadata": {
            "tags": []
          },
          "execution_count": 20
        }
      ]
    },
    {
      "cell_type": "code",
      "metadata": {
        "id": "trBweFgHpPwN",
        "colab": {
          "base_uri": "https://localhost:8080/"
        },
        "outputId": "5c950354-a93f-4af9-beba-d194edad7312"
      },
      "source": [
        "avg = test_model.get_prediction(test, mode = 'avg_only')"
      ],
      "execution_count": 21,
      "outputs": [
        {
          "output_type": "stream",
          "text": [
            "/usr/local/lib/python3.6/dist-packages/gensim/matutils.py:737: FutureWarning: Conversion of the second argument of issubdtype from `int` to `np.signedinteger` is deprecated. In future, it will be treated as `np.int64 == np.dtype(int).type`.\n",
            "  if np.issubdtype(vec.dtype, np.int):\n",
            "11/28/2020 13:06:22 - INFO - transformers.tokenization_utils -   Model name '/content/gdrive/MyDrive/small' not found in model shortcut name list (gpt2, gpt2-medium, gpt2-large, gpt2-xl, distilgpt2). Assuming '/content/gdrive/MyDrive/small' is a path, a model identifier, or url to a directory containing tokenizer files.\n",
            "11/28/2020 13:06:22 - INFO - transformers.tokenization_utils -   Didn't find file /content/gdrive/MyDrive/small/added_tokens.json. We won't load it.\n",
            "11/28/2020 13:06:22 - INFO - transformers.tokenization_utils -   loading file /content/gdrive/MyDrive/small/vocab.json\n",
            "11/28/2020 13:06:22 - INFO - transformers.tokenization_utils -   loading file /content/gdrive/MyDrive/small/merges.txt\n",
            "11/28/2020 13:06:22 - INFO - transformers.tokenization_utils -   loading file None\n",
            "11/28/2020 13:06:22 - INFO - transformers.tokenization_utils -   loading file /content/gdrive/MyDrive/small/special_tokens_map.json\n",
            "11/28/2020 13:06:22 - INFO - transformers.tokenization_utils -   loading file /content/gdrive/MyDrive/small/tokenizer_config.json\n",
            "11/28/2020 13:06:22 - INFO - transformers.configuration_utils -   loading configuration file /content/gdrive/MyDrive/small/config.json\n",
            "11/28/2020 13:06:22 - INFO - transformers.configuration_utils -   Model config GPT2Config {\n",
            "  \"_num_labels\": 2,\n",
            "  \"activation_function\": \"gelu_new\",\n",
            "  \"architectures\": [\n",
            "    \"GPT2LMHeadModel\"\n",
            "  ],\n",
            "  \"attn_pdrop\": 0.1,\n",
            "  \"bad_words_ids\": null,\n",
            "  \"bos_token_id\": 50256,\n",
            "  \"decoder_start_token_id\": null,\n",
            "  \"do_sample\": false,\n",
            "  \"early_stopping\": false,\n",
            "  \"embd_pdrop\": 0.1,\n",
            "  \"eos_token_id\": 50256,\n",
            "  \"finetuning_task\": null,\n",
            "  \"gradient_checkpointing\": false,\n",
            "  \"id2label\": {\n",
            "    \"0\": \"LABEL_0\",\n",
            "    \"1\": \"LABEL_1\"\n",
            "  },\n",
            "  \"initializer_range\": 0.02,\n",
            "  \"is_decoder\": false,\n",
            "  \"is_encoder_decoder\": false,\n",
            "  \"label2id\": {\n",
            "    \"LABEL_0\": 0,\n",
            "    \"LABEL_1\": 1\n",
            "  },\n",
            "  \"layer_norm_epsilon\": 1e-05,\n",
            "  \"length_penalty\": 1.0,\n",
            "  \"max_length\": 20,\n",
            "  \"min_length\": 0,\n",
            "  \"model_type\": \"gpt2\",\n",
            "  \"n_ctx\": 2048,\n",
            "  \"n_embd\": 768,\n",
            "  \"n_head\": 12,\n",
            "  \"n_inner\": null,\n",
            "  \"n_layer\": 12,\n",
            "  \"n_positions\": 2048,\n",
            "  \"no_repeat_ngram_size\": 0,\n",
            "  \"num_beams\": 1,\n",
            "  \"num_return_sequences\": 1,\n",
            "  \"output_attentions\": false,\n",
            "  \"output_hidden_states\": false,\n",
            "  \"output_past\": true,\n",
            "  \"pad_token_id\": null,\n",
            "  \"prefix\": null,\n",
            "  \"pruned_heads\": {},\n",
            "  \"repetition_penalty\": 1.0,\n",
            "  \"resid_pdrop\": 0.1,\n",
            "  \"summary_activation\": null,\n",
            "  \"summary_first_dropout\": 0.1,\n",
            "  \"summary_proj_to_labels\": true,\n",
            "  \"summary_type\": \"cls_index\",\n",
            "  \"summary_use_proj\": true,\n",
            "  \"task_specific_params\": null,\n",
            "  \"temperature\": 1.0,\n",
            "  \"top_k\": 50,\n",
            "  \"top_p\": 1.0,\n",
            "  \"torchscript\": false,\n",
            "  \"use_bfloat16\": false,\n",
            "  \"vocab_size\": 50257\n",
            "}\n",
            "\n",
            "11/28/2020 13:06:22 - INFO - transformers.modeling_utils -   loading weights file /content/gdrive/MyDrive/small/pytorch_model.bin\n",
            "11/28/2020 13:06:27 - INFO - generate_transformers -   <generate_transformers.predict.<locals>.Args object at 0x7efcb66501d0>\n",
            "11/28/2020 13:06:27 - WARNING - transformers.modeling_utils -   Setting `pad_token_id` to 50256 (first `eos_token_id`) to generate sequence\n"
          ],
          "name": "stderr"
        },
        {
          "output_type": "stream",
          "text": [
            "ruGPT:\n",
            "Плодотворный день вы не боитесь трудностей, но и не теряетесь, если что-то идет не так. Вы не боитесь экспериментировать, поэтому добиваетесь успеха там, где другие потерпели неудачу. Возможны удачные покупки. Некоторым Рыбам вернут старые долги\n"
          ],
          "name": "stdout"
        }
      ]
    },
    {
      "cell_type": "code",
      "metadata": {
        "id": "w2bLMg6ppQw3",
        "colab": {
          "base_uri": "https://localhost:8080/"
        },
        "outputId": "62ec4951-e588-4cdd-b7dc-f1dc0bc2b9f6"
      },
      "source": [
        "avg"
      ],
      "execution_count": 22,
      "outputs": [
        {
          "output_type": "execute_result",
          "data": {
            "text/plain": [
              "['Плодотворный день вы не боитесь трудностей, но и не теряетесь, если что-то идет не так. Вы не боитесь экспериментировать, поэтому добиваетесь успеха там, где другие потерпели неудачу. Возможны удачные покупки. Некоторым Рыбам вернут старые долги']"
            ]
          },
          "metadata": {
            "tags": []
          },
          "execution_count": 22
        }
      ]
    },
    {
      "cell_type": "code",
      "metadata": {
        "id": "0QUZNU7u9lCA"
      },
      "source": [
        ""
      ],
      "execution_count": null,
      "outputs": []
    }
  ]
}