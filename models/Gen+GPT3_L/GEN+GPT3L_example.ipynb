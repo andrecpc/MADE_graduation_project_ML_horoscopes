{
  "nbformat": 4,
  "nbformat_minor": 0,
  "metadata": {
    "colab": {
      "name": "GEN+GPT3L example.ipynb",
      "provenance": [],
      "collapsed_sections": []
    },
    "kernelspec": {
      "name": "python3",
      "display_name": "Python 3"
    },
    "accelerator": "GPU"
  },
  "cells": [
    {
      "cell_type": "code",
      "metadata": {
        "id": "AbOk2TzU8is7"
      },
      "source": [
        "import numpy as np"
      ],
      "execution_count": null,
      "outputs": []
    },
    {
      "cell_type": "code",
      "metadata": {
        "id": "5RcPsyYRqZ62",
        "outputId": "d1de4b34-b3e4-4589-a730-1b2f5916d353",
        "colab": {
          "base_uri": "https://localhost:8080/"
        }
      },
      "source": [
        "from google.colab import drive\n",
        "drive.mount('/content/gdrive')"
      ],
      "execution_count": null,
      "outputs": [
        {
          "output_type": "stream",
          "text": [
            "Drive already mounted at /content/gdrive; to attempt to forcibly remount, call drive.mount(\"/content/gdrive\", force_remount=True).\n"
          ],
          "name": "stdout"
        }
      ]
    },
    {
      "cell_type": "code",
      "metadata": {
        "id": "5yzxF35lAZZ1"
      },
      "source": [
        "#!pip3 install urllib3==1.25.4"
      ],
      "execution_count": null,
      "outputs": []
    },
    {
      "cell_type": "code",
      "metadata": {
        "id": "W1bnQrMb_WM4"
      },
      "source": [
        "#!pip3 install transformers==2.8.0"
      ],
      "execution_count": null,
      "outputs": []
    },
    {
      "cell_type": "code",
      "metadata": {
        "id": "SLo4hFnZcXW2"
      },
      "source": [
        "from generate_transformers import HoroModel"
      ],
      "execution_count": null,
      "outputs": []
    },
    {
      "cell_type": "code",
      "metadata": {
        "id": "z3iiYjumyKkz",
        "outputId": "9e7b86b8-f821-4d3a-b2f4-9dcf9d7014d6",
        "colab": {
          "base_uri": "https://localhost:8080/"
        }
      },
      "source": [
        "test_model = HoroModel(gen_path='/content/gdrive/My Drive/MADE_graduation_project_ML_horoscopes/GANs_results/GAN300_Lin_Lin_SentBySent_eval_norm/gen_500000',\n",
        "                       gpt_path ='sberbank-ai/rugpt3large_based_on_gpt2',\n",
        "                       scaler_path = '/content/datatransformer.pickle',\n",
        "                       kv_path = \"/content/gdrive/My Drive/MADE_graduation_project_ML_horoscopes/data/model_rusvectores.model\")"
      ],
      "execution_count": null,
      "outputs": [
        {
          "output_type": "stream",
          "text": [
            "11/17/2020 11:40:04 - INFO - gensim.utils -   loading WordEmbeddingsKeyedVectors object from /content/gdrive/My Drive/MADE_graduation_project_ML_horoscopes/data/model_rusvectores.model\n",
            "11/17/2020 11:40:04 - INFO - gensim.utils -   setting ignored attribute vectors_norm to None\n",
            "11/17/2020 11:40:04 - INFO - gensim.utils -   loaded /content/gdrive/My Drive/MADE_graduation_project_ML_horoscopes/data/model_rusvectores.model\n"
          ],
          "name": "stderr"
        }
      ]
    },
    {
      "cell_type": "code",
      "metadata": {
        "id": "1C2dYf-8RqjI",
        "cellView": "form"
      },
      "source": [
        "#@title\n",
        "test = np.array([[-9.04546430e-01, -4.17748878e-01,  2.38048487e-05,\n",
        "         7.49852345e-03, -1.55603482e-02,  1.87672386e-07,\n",
        "         5.75445232e-03,  9.96352533e-01, -2.83478578e-04,\n",
        "        -5.45199613e-01, -4.62993467e-01, -3.66367909e-02,\n",
        "         5.57102562e-03,  1.36120381e-02,  2.56083748e-03,\n",
        "         4.13644793e-03,  7.16203758e-01, -1.31714285e-02,\n",
        "        -1.15773141e+00,  2.54496757e-01,  2.38593471e-02,\n",
        "        -1.14981276e-02, -2.28031021e-02,  9.97018852e-04,\n",
        "         6.84753376e-03,  1.18561372e+00,  6.35301037e-03,\n",
        "         4.00402366e-01,  1.42047587e-01, -2.02573152e-02,\n",
        "         2.51712582e-03, -1.50526949e-03,  4.16931550e-04,\n",
        "         2.45653055e-03,  4.25335080e-01,  1.84700806e-03,\n",
        "         1.67110522e+00, -4.84447457e+00, -3.92164066e-02,\n",
        "         1.39378035e-02, -1.14042461e-02, -1.61073246e-04,\n",
        "         2.95980886e-02,  5.12475018e+00,  1.53266853e-02,\n",
        "         4.25454661e+00, -8.98213988e+00, -5.64098150e-02,\n",
        "         1.19736740e-02, -1.26916878e-02, -2.27757868e-04,\n",
        "         5.74027212e-02,  9.93897307e+00,  1.65966762e-02,\n",
        "         1.46314909e+01,  1.18269218e+01, -1.55756943e-01,\n",
        "         5.04074977e-03, -1.26505387e-02,  4.26581528e-05,\n",
        "         1.08662792e-01,  1.88143792e+01, -4.03254824e-03,\n",
        "         2.85149653e+01, -5.88302774e+00, -5.65511943e-01,\n",
        "         8.05801347e-03, -1.24497378e-02, -7.64796960e-05,\n",
        "         1.68188911e-01,  2.91210073e+01,  1.04068989e-02,\n",
        "         1.29351421e+01, -3.16221459e+01, -6.63183494e-01,\n",
        "         1.04485438e-02, -1.49625070e-02, -9.27382882e-04,\n",
        "         1.97360357e-01,  3.41718865e+01,  1.78191802e-02,\n",
        "         1.00000000e+00,  0.00000000e+00,  0.00000000e+00,\n",
        "         0.00000000e+00,  0.00000000e+00,  0.00000000e+00,\n",
        "         0.00000000e+00,  0.00000000e+00,  0.00000000e+00,\n",
        "         0.00000000e+00,  0.00000000e+00,  0.00000000e+00],\n",
        "       [-9.11908546e-01, -4.02126265e-01,  2.35540374e-05,\n",
        "         7.22533246e-03, -1.56840134e-02,  3.19168644e-07,\n",
        "         5.75608779e-03,  9.96635706e-01, -2.82840242e-04,\n",
        "        -5.51720439e-01, -4.76377605e-01, -3.90845170e-02,\n",
        "         7.45404568e-03,  1.31309676e-02,  2.33397070e-03,\n",
        "         4.21596486e-03,  7.29971687e-01, -1.43280494e-02,\n",
        "        -1.14599852e+00,  2.77093314e-01,  2.28529004e-02,\n",
        "        -1.19654852e-02, -2.23882399e-02,  1.01574528e-03,\n",
        "         6.81074328e-03,  1.17924364e+00,  6.38715298e-03,\n",
        "         3.97954095e-01,  1.43586422e-01, -2.06732541e-02,\n",
        "         2.37916980e-03, -1.57175853e-03,  4.14943558e-04,\n",
        "         2.44633876e-03,  4.23570426e-01,  1.68222072e-03,\n",
        "         1.65730108e+00, -4.83300225e+00, -3.90553185e-02,\n",
        "         1.36695174e-02, -1.15389669e-02, -1.61086708e-04,\n",
        "         2.95094981e-02,  5.10941122e+00,  1.53498411e-02,\n",
        "         4.24270854e+00, -8.96938478e+00, -5.61820403e-02,\n",
        "         1.17021106e-02, -1.28176384e-02, -2.27791332e-04,\n",
        "         5.73068791e-02,  9.92237853e+00,  1.65915634e-02,\n",
        "         1.46265862e+01,  1.18396344e+01, -1.55799592e-01,\n",
        "         4.76825764e-03, -1.27737792e-02,  4.26834303e-05,\n",
        "         1.08686944e-01,  1.88185611e+01, -4.33084090e-03,\n",
        "         2.85070438e+01, -5.87051564e+00, -5.65435654e-01,\n",
        "         7.78468934e-03, -1.25736667e-02, -7.61588214e-05,\n",
        "         1.68129517e-01,  2.91107234e+01,  1.01603607e-02,\n",
        "         1.29248252e+01, -3.16071258e+01, -6.62255726e-01,\n",
        "         1.01840408e-02, -1.50763755e-02, -9.26121637e-04,\n",
        "         1.97257423e-01,  3.41540641e+01,  1.78239747e-02,\n",
        "         1.00000000e+00,  0.00000000e+00,  0.00000000e+00,\n",
        "         0.00000000e+00,  0.00000000e+00,  0.00000000e+00,\n",
        "         0.00000000e+00,  0.00000000e+00,  0.00000000e+00,\n",
        "         0.00000000e+00,  0.00000000e+00,  0.00000000e+00],\n",
        "       [-9.18996377e-01, -3.86382600e-01,  2.31578922e-05,\n",
        "         6.94998940e-03, -1.58024334e-02,  4.76421240e-07,\n",
        "         5.75771922e-03,  9.96918179e-01, -2.82099138e-04,\n",
        "        -5.60073485e-01, -4.89207770e-01, -4.13037788e-02,\n",
        "         9.23449109e-03,  1.25069672e-02,  2.10423335e-03,\n",
        "         4.30154989e-03,  7.44790275e-01, -1.52759942e-02,\n",
        "        -1.13380483e+00,  2.99269747e-01,  2.18281189e-02,\n",
        "        -1.24196632e-02, -2.19629104e-02,  1.03368439e-03,\n",
        "         6.77375543e-03,  1.17283940e+00,  6.42134203e-03,\n",
        "         3.95644486e-01,  1.45189805e-01, -2.10871952e-02,\n",
        "         2.23983517e-03, -1.63435020e-03,  4.12934087e-04,\n",
        "         2.43709977e-03,  4.21970744e-01,  1.51711899e-03,\n",
        "         1.64376621e+00, -4.82139900e+00, -3.88942744e-02,\n",
        "         1.34000114e-02, -1.16671965e-02, -1.61015593e-04,\n",
        "         2.94207922e-02,  5.09405226e+00,  1.53679142e-02,\n",
        "         4.23114304e+00, -8.95650632e+00, -5.59542508e-02,\n",
        "         1.14285666e-02, -1.29384331e-02, -2.27769397e-04,\n",
        "         5.72110812e-02,  9.90579163e+00,  1.65813909e-02,\n",
        "         1.46219551e+01,  1.18524676e+01, -1.55842350e-01,\n",
        "         4.49355656e-03, -1.28917509e-02,  4.28157382e-05,\n",
        "         1.08712814e-01,  1.88230403e+01, -4.62736881e-03,\n",
        "         2.84993966e+01, -5.85788207e+00, -5.65359485e-01,\n",
        "         7.50946321e-03, -1.26925951e-02, -7.62378007e-05,\n",
        "         1.68071555e-01,  2.91006876e+01,  9.91076229e-03,\n",
        "         1.29147774e+01, -3.15919941e+01, -6.61334571e-01,\n",
        "         9.90972078e-03, -1.51873356e-02, -9.15219790e-04,\n",
        "         1.97154484e-01,  3.41362407e+01,  1.78222707e-02,\n",
        "         1.00000000e+00,  0.00000000e+00,  0.00000000e+00,\n",
        "         0.00000000e+00,  0.00000000e+00,  0.00000000e+00,\n",
        "         0.00000000e+00,  0.00000000e+00,  0.00000000e+00,\n",
        "         0.00000000e+00,  0.00000000e+00,  0.00000000e+00],\n",
        "       [-9.25807885e-01, -3.70523170e-01,  2.25968055e-05,\n",
        "         6.67272717e-03, -1.59155393e-02,  6.46819839e-07,\n",
        "         5.75934636e-03,  9.97199910e-01, -2.81375230e-04,\n",
        "        -5.70153637e-01, -5.01349471e-01, -4.32926296e-02,\n",
        "         1.09076502e-02,  1.17567222e-02,  1.87342423e-03,\n",
        "         4.39205561e-03,  7.60460856e-01, -1.60354978e-02,\n",
        "        -1.12116371e+00,  3.21015770e-01,  2.07858030e-02,\n",
        "        -1.28602905e-02, -2.15274884e-02,  1.05080951e-03,\n",
        "         6.73657024e-03,  1.16640098e+00,  6.45547269e-03,\n",
        "         3.93474811e-01,  1.46853804e-01, -2.14991109e-02,\n",
        "         2.09934068e-03, -1.69298807e-03,  4.10890615e-04,\n",
        "         2.42881442e-03,  4.20536180e-01,  1.35204100e-03,\n",
        "         1.63050262e+00, -4.80966987e+00, -3.87332880e-02,\n",
        "         1.31271132e-02, -1.17894380e-02, -1.60924424e-04,\n",
        "         2.93319939e-02,  5.07867732e+00,  1.53806445e-02,\n",
        "         4.21985206e+00, -8.94350964e+00, -5.57265308e-02,\n",
        "         1.11530856e-02, -1.30540446e-02, -2.27665973e-04,\n",
        "         5.71153566e-02,  9.88921744e+00,  1.65661270e-02,\n",
        "         1.46175997e+01,  1.18654161e+01, -1.55885225e-01,\n",
        "         4.21704714e-03, -1.30044310e-02,  4.29693741e-05,\n",
        "         1.08740391e-01,  1.88278151e+01, -4.92179131e-03,\n",
        "         2.84920253e+01, -5.84513230e+00, -5.65283117e-01,\n",
        "         7.23279073e-03, -1.28059985e-02, -7.64906319e-05,\n",
        "         1.68015042e-01,  2.90909028e+01,  9.65844384e-03,\n",
        "         1.29050094e+01, -3.15767497e+01, -6.60425301e-01,\n",
        "         9.62499742e-03, -1.53021907e-02, -9.04275604e-04,\n",
        "         1.97051557e-01,  3.41184195e+01,  1.78203253e-02,\n",
        "         1.00000000e+00,  0.00000000e+00,  0.00000000e+00,\n",
        "         0.00000000e+00,  0.00000000e+00,  0.00000000e+00,\n",
        "         0.00000000e+00,  0.00000000e+00,  0.00000000e+00,\n",
        "         0.00000000e+00,  0.00000000e+00,  0.00000000e+00],\n",
        "       [-9.32341269e-01, -3.54553298e-01,  2.18643179e-05,\n",
        "         6.39377842e-03, -1.60233195e-02,  8.17075218e-07,\n",
        "         5.76096962e-03,  9.97480969e-01, -2.80769975e-04,\n",
        "        -5.81852105e-01, -5.12684307e-01, -4.50507795e-02,\n",
        "         1.24708181e-02,  1.08957117e-02,  1.64306345e-03,\n",
        "         4.48645388e-03,  7.76805409e-01, -1.66273989e-02,\n",
        "        -1.10808889e+00,  3.42321504e-01,  1.97267801e-02,\n",
        "        -1.32870095e-02, -2.10824096e-02,  1.06709401e-03,\n",
        "         6.69918837e-03,  1.15992851e+00,  6.48943077e-03,\n",
        "         3.91446119e-01,  1.48574463e-01, -2.19089607e-02,\n",
        "         1.95790461e-03, -1.74767291e-03,  4.08799955e-04,\n",
        "         2.42148163e-03,  4.19266547e-01,  1.18730726e-03,\n",
        "         1.61751136e+00, -4.79782143e+00, -3.85724269e-02,\n",
        "         1.28547809e-02, -1.19072187e-02, -1.60829395e-04,\n",
        "         2.92431332e-02,  5.06329155e+00,  1.53907129e-02,\n",
        "         4.20883742e+00, -8.93040000e+00, -5.54989225e-02,\n",
        "         1.08759438e-02, -1.31643777e-02, -2.27541543e-04,\n",
        "         5.70197350e-02,  9.87266108e+00,  1.65457787e-02,\n",
        "         1.46135216e+01,  1.18784746e+01, -1.55928370e-01,\n",
        "         3.93874863e-03, -1.31117345e-02,  4.33317067e-05,\n",
        "         1.08769662e-01,  1.88328832e+01, -5.21402765e-03,\n",
        "         2.84849315e+01, -5.83227201e+00, -5.65206588e-01,\n",
        "         6.95463710e-03, -1.29136282e-02, -7.64979445e-05,\n",
        "         1.67959995e-01,  2.90813716e+01,  9.40331818e-03,\n",
        "         1.28955285e+01, -3.15613888e+01, -6.59522715e-01,\n",
        "         9.33685739e-03, -1.54195871e-02, -9.02923828e-04,\n",
        "         1.96948638e-01,  3.41005995e+01,  1.78197100e-02,\n",
        "         1.00000000e+00,  0.00000000e+00,  0.00000000e+00,\n",
        "         0.00000000e+00,  0.00000000e+00,  0.00000000e+00,\n",
        "         0.00000000e+00,  0.00000000e+00,  0.00000000e+00,\n",
        "         0.00000000e+00,  0.00000000e+00,  0.00000000e+00]])"
      ],
      "execution_count": null,
      "outputs": []
    },
    {
      "cell_type": "code",
      "metadata": {
        "id": "UwCHy8IUy-BM",
        "cellView": "form",
        "outputId": "4c05aba5-7d3c-4d9b-a954-5152497c6237",
        "colab": {
          "base_uri": "https://localhost:8080/"
        }
      },
      "source": [
        "#@title\n",
        "test_results = test_model.get_prediction(test)"
      ],
      "execution_count": null,
      "outputs": [
        {
          "output_type": "stream",
          "text": [
            "11/17/2020 11:40:07 - INFO - gensim.models.keyedvectors -   precomputing L2-norms of word weight vectors\n",
            "/usr/local/lib/python3.6/dist-packages/gensim/matutils.py:737: FutureWarning: Conversion of the second argument of issubdtype from `int` to `np.signedinteger` is deprecated. In future, it will be treated as `np.int64 == np.dtype(int).type`.\n",
            "  if np.issubdtype(vec.dtype, np.int):\n",
            "11/17/2020 11:40:07 - INFO - transformers.tokenization_utils -   Model name 'sberbank-ai/rugpt3large_based_on_gpt2' not found in model shortcut name list (gpt2, gpt2-medium, gpt2-large, gpt2-xl, distilgpt2). Assuming 'sberbank-ai/rugpt3large_based_on_gpt2' is a path, a model identifier, or url to a directory containing tokenizer files.\n",
            "11/17/2020 11:40:07 - INFO - transformers.tokenization_utils -   loading file https://s3.amazonaws.com/models.huggingface.co/bert/sberbank-ai/rugpt3large_based_on_gpt2/vocab.json from cache at /root/.cache/torch/transformers/39e50567636d4014628a4fb0b7665a179a6109d96765eb4e6a10e9f2306f963d.de52bc5880aff0437c7f24c33b71ecae48f6f03f0449dfe933503132c6c1cc26\n",
            "11/17/2020 11:40:07 - INFO - transformers.tokenization_utils -   loading file https://s3.amazonaws.com/models.huggingface.co/bert/sberbank-ai/rugpt3large_based_on_gpt2/merges.txt from cache at /root/.cache/torch/transformers/0a94bcfc9ca640e268e53959b05f2ebe267a5cb686289b46cac4ffac589eac40.5885500c9887f152893bfadf3b511a9105243c57bfc45889e3552bdc61090032\n",
            "11/17/2020 11:40:07 - INFO - transformers.tokenization_utils -   loading file https://s3.amazonaws.com/models.huggingface.co/bert/sberbank-ai/rugpt3large_based_on_gpt2/added_tokens.json from cache at None\n",
            "11/17/2020 11:40:07 - INFO - transformers.tokenization_utils -   loading file https://s3.amazonaws.com/models.huggingface.co/bert/sberbank-ai/rugpt3large_based_on_gpt2/special_tokens_map.json from cache at None\n",
            "11/17/2020 11:40:07 - INFO - transformers.tokenization_utils -   loading file https://s3.amazonaws.com/models.huggingface.co/bert/sberbank-ai/rugpt3large_based_on_gpt2/tokenizer_config.json from cache at None\n",
            "11/17/2020 11:40:07 - INFO - transformers.configuration_utils -   loading configuration file https://s3.amazonaws.com/models.huggingface.co/bert/sberbank-ai/rugpt3large_based_on_gpt2/config.json from cache at /root/.cache/torch/transformers/53218293a9edec913332b4f2d178496a60f98d64a1af74f92984804152f9404c.02a103afdbdbf4896cc41fc6495e47b7e5e2f353a287fe98d178e669be028903\n",
            "11/17/2020 11:40:07 - INFO - transformers.configuration_utils -   Model config GPT2Config {\n",
            "  \"_num_labels\": 2,\n",
            "  \"activation_function\": \"gelu_new\",\n",
            "  \"architectures\": [\n",
            "    \"GPT2LMHeadModel\"\n",
            "  ],\n",
            "  \"attn_pdrop\": 0.1,\n",
            "  \"bad_words_ids\": null,\n",
            "  \"bos_token_id\": 50256,\n",
            "  \"decoder_start_token_id\": null,\n",
            "  \"do_sample\": false,\n",
            "  \"early_stopping\": false,\n",
            "  \"embd_pdrop\": 0.1,\n",
            "  \"eos_token_id\": 50256,\n",
            "  \"finetuning_task\": null,\n",
            "  \"gradient_checkpointing\": false,\n",
            "  \"id2label\": {\n",
            "    \"0\": \"LABEL_0\",\n",
            "    \"1\": \"LABEL_1\"\n",
            "  },\n",
            "  \"initializer_range\": 0.02,\n",
            "  \"is_decoder\": false,\n",
            "  \"is_encoder_decoder\": false,\n",
            "  \"label2id\": {\n",
            "    \"LABEL_0\": 0,\n",
            "    \"LABEL_1\": 1\n",
            "  },\n",
            "  \"layer_norm_epsilon\": 1e-05,\n",
            "  \"length_penalty\": 1.0,\n",
            "  \"max_length\": 20,\n",
            "  \"min_length\": 0,\n",
            "  \"model_type\": \"gpt2\",\n",
            "  \"n_ctx\": 2048,\n",
            "  \"n_embd\": 1536,\n",
            "  \"n_head\": 16,\n",
            "  \"n_inner\": null,\n",
            "  \"n_layer\": 24,\n",
            "  \"n_positions\": 2048,\n",
            "  \"no_repeat_ngram_size\": 0,\n",
            "  \"num_beams\": 1,\n",
            "  \"num_return_sequences\": 1,\n",
            "  \"output_attentions\": false,\n",
            "  \"output_hidden_states\": false,\n",
            "  \"output_past\": true,\n",
            "  \"pad_token_id\": null,\n",
            "  \"prefix\": null,\n",
            "  \"pruned_heads\": {},\n",
            "  \"repetition_penalty\": 1.0,\n",
            "  \"resid_pdrop\": 0.1,\n",
            "  \"summary_activation\": null,\n",
            "  \"summary_first_dropout\": 0.1,\n",
            "  \"summary_proj_to_labels\": true,\n",
            "  \"summary_type\": \"cls_index\",\n",
            "  \"summary_use_proj\": true,\n",
            "  \"task_specific_params\": null,\n",
            "  \"temperature\": 1.0,\n",
            "  \"top_k\": 50,\n",
            "  \"top_p\": 1.0,\n",
            "  \"torchscript\": false,\n",
            "  \"use_bfloat16\": false,\n",
            "  \"vocab_size\": 50257\n",
            "}\n",
            "\n",
            "11/17/2020 11:40:07 - INFO - transformers.modeling_utils -   loading weights file https://s3.amazonaws.com/models.huggingface.co/bert/sberbank-ai/rugpt3large_based_on_gpt2/pytorch_model.bin from cache at /root/.cache/torch/transformers/5f2ce73f5df1b0b20e9c0d5fadbedefdc9b484edcbc39252a1c913b1b4ce6cd2.5bdac7adaf803c2b7192441aba3020af4140f7177089f8f95940a0c073059a31\n",
            "11/17/2020 11:41:59 - INFO - transformers.modeling_utils -   Weights from pretrained model not used in GPT2LMHeadModel: ['transformer.h.0.attn.masked_bias', 'transformer.h.1.attn.masked_bias', 'transformer.h.2.attn.masked_bias', 'transformer.h.3.attn.masked_bias', 'transformer.h.4.attn.masked_bias', 'transformer.h.5.attn.masked_bias', 'transformer.h.6.attn.masked_bias', 'transformer.h.7.attn.masked_bias', 'transformer.h.8.attn.masked_bias', 'transformer.h.9.attn.masked_bias', 'transformer.h.10.attn.masked_bias', 'transformer.h.11.attn.masked_bias', 'transformer.h.12.attn.masked_bias', 'transformer.h.13.attn.masked_bias', 'transformer.h.14.attn.masked_bias', 'transformer.h.15.attn.masked_bias', 'transformer.h.16.attn.masked_bias', 'transformer.h.17.attn.masked_bias', 'transformer.h.18.attn.masked_bias', 'transformer.h.19.attn.masked_bias', 'transformer.h.20.attn.masked_bias', 'transformer.h.21.attn.masked_bias', 'transformer.h.22.attn.masked_bias', 'transformer.h.23.attn.masked_bias']\n",
            "11/17/2020 11:42:00 - INFO - generate_transformers -   <generate_transformers.predict.<locals>.Args object at 0x7f0badad80f0>\n",
            "11/17/2020 11:42:00 - WARNING - transformers.modeling_utils -   Setting `pad_token_id` to 50256 (first `eos_token_id`) to generate sequence\n",
            "11/17/2020 11:42:02 - WARNING - transformers.modeling_utils -   Setting `pad_token_id` to 50256 (first `eos_token_id`) to generate sequence\n"
          ],
          "name": "stderr"
        },
        {
          "output_type": "stream",
          "text": [
            "ruGPT:\n",
            "Для самостоятельной работы это не подходит.\n",
            "\n",
            "\n",
            "\n",
            "\n",
            "\n",
            "\n",
            "\n",
            "\n",
            "\n",
            "\n",
            "\n",
            "\n",
            "\n",
            "\n",
            "\n",
            "\n",
            "\n",
            "\n",
            "\n",
            "\n",
            "\n",
            "\n",
            "\n",
            "\n",
            "\n",
            "\n",
            "\n",
            "\n",
            "\n",
            "\n",
            "\n",
            "\n",
            "\n",
            "\n",
            "\n",
            "\n",
            "\n",
            "\n",
            "\n",
            "\n",
            "\n",
            "\n",
            "\n",
            "\n",
            "\n",
            "\n",
            "\n",
            "\n"
          ],
          "name": "stdout"
        },
        {
          "output_type": "stream",
          "text": [
            "11/17/2020 11:42:03 - WARNING - transformers.modeling_utils -   Setting `pad_token_id` to 50256 (first `eos_token_id`) to generate sequence\n"
          ],
          "name": "stderr"
        },
        {
          "output_type": "stream",
          "text": [
            "ruGPT:\n",
            "День складывается довольно удачно вряд ли кто-то из нас сможет сказать, что он не прав. Но в любом случае, это не значит, что надо отказываться от своих убеждений.\n",
            "\n",
            "\n",
            "\n",
            "\n",
            "\n",
            "\n",
            "\n",
            "\n",
            "\n",
            "\n",
            "\n",
            "\n",
            "\n",
            "\n",
            "\n",
            "\n",
            "\n",
            "\n",
            "\n"
          ],
          "name": "stdout"
        },
        {
          "output_type": "stream",
          "text": [
            "11/17/2020 11:42:05 - WARNING - transformers.modeling_utils -   Setting `pad_token_id` to 50256 (first `eos_token_id`) to generate sequence\n"
          ],
          "name": "stderr"
        },
        {
          "output_type": "stream",
          "text": [
            "ruGPT:\n",
            "Этот день хорошо подходит для того, чтобы начать что-то новое, начать что-то новое и закончить что-то старое.\n",
            "\n",
            "\n",
            "\n",
            "\n",
            "\n",
            "\n",
            "\n",
            "\n",
            "\n",
            "\n",
            "\n",
            "\n",
            "\n",
            "\n",
            "\n",
            "\n",
            "\n",
            "\n",
            "\n",
            "\n",
            "\n",
            "\n",
            "\n",
            "\n",
            "\n",
            "\n",
            "\n",
            "\n",
            "\n"
          ],
          "name": "stdout"
        },
        {
          "output_type": "stream",
          "text": [
            "11/17/2020 11:42:06 - WARNING - transformers.modeling_utils -   Setting `pad_token_id` to 50256 (first `eos_token_id`) to generate sequence\n"
          ],
          "name": "stderr"
        },
        {
          "output_type": "stream",
          "text": [
            "ruGPT:\n",
            "День будет беспокойным и довольно тяжелым.\n",
            "\n",
            "— А если я не хочу?\n",
            "\n",
            "— Тогда не надо.\n",
            "\n",
            "— Я не хочу.\n",
            "\n",
            "— Ты не хочешь, потому что боишься.\n",
            "\n",
            "— Я боюсь.\n",
            "\n",
            "—\n",
            "ruGPT:\n",
            "Благоприятный день хоть и не самый лучший, но и не самый плохой. В этот день можно начинать новые дела, а также заниматься творчеством.\n",
            "\n",
            "Какие есть способы, чтобы избавиться от негатива?\n",
            "Если вы хотите избавиться от негатива, то вам нужно найти человека,\n"
          ],
          "name": "stdout"
        }
      ]
    },
    {
      "cell_type": "code",
      "metadata": {
        "id": "aJ3v0V2y1WWg",
        "outputId": "f62567d2-4900-42af-f37c-12ed833ce609",
        "colab": {
          "base_uri": "https://localhost:8080/"
        }
      },
      "source": [
        "test_results"
      ],
      "execution_count": null,
      "outputs": [
        {
          "output_type": "execute_result",
          "data": {
            "text/plain": [
              "['Для самостоятельной работы это не подходит.                        ',\n",
              " 'День складывается довольно удачно вряд ли кто-то из нас сможет сказать, что он не прав. Но в любом случае, это не значит, что надо отказываться от своих убеждений.          ',\n",
              " 'Этот день хорошо подходит для того, чтобы начать что-то новое, начать что-то новое и закончить что-то старое.               ',\n",
              " 'День будет беспокойным и довольно тяжелым. — А если я не хочу? — Тогда не надо. — Я не хочу. — Ты не хочешь, потому что боишься. — Я боюсь. —',\n",
              " 'Благоприятный день хоть и не самый лучший, но и не самый плохой. В этот день можно начинать новые дела, а также заниматься творчеством. Какие есть способы, чтобы избавиться от негатива? Если вы хотите избавиться от негатива, то вам нужно найти человека,']"
            ]
          },
          "metadata": {
            "tags": []
          },
          "execution_count": 7
        }
      ]
    },
    {
      "cell_type": "code",
      "metadata": {
        "id": "AQ4xJJT8tRdY"
      },
      "source": [
        ""
      ],
      "execution_count": null,
      "outputs": []
    }
  ]
}