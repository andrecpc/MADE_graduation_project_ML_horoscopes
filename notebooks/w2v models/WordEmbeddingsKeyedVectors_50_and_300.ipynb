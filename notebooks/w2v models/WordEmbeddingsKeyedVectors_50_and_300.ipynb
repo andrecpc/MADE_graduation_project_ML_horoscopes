{
  "nbformat": 4,
  "nbformat_minor": 0,
  "metadata": {
    "kernelspec": {
      "display_name": "Python 3",
      "language": "python",
      "name": "python3"
    },
    "language_info": {
      "codemirror_mode": {
        "name": "ipython",
        "version": 3
      },
      "file_extension": ".py",
      "mimetype": "text/x-python",
      "name": "python",
      "nbconvert_exporter": "python",
      "pygments_lexer": "ipython3",
      "version": "3.6.8"
    },
    "colab": {
      "name": "WordEmbeddingsKeyedVectors_50_and_300.ipynb",
      "provenance": [],
      "collapsed_sections": []
    },
    "accelerator": "GPU"
  },
  "cells": [
    {
      "cell_type": "code",
      "metadata": {
        "id": "3zrhecYPtTcL"
      },
      "source": [
        "import math\n",
        "import torch\n",
        "import torch.nn as nn\n",
        "import torch.nn.functional as F\n",
        "from torch.utils.data import Dataset, DataLoader, random_split\n",
        "import torch.optim as optim\n",
        "\n",
        "import pandas as pd\n",
        "import numpy as np\n",
        "\n",
        "import tqdm\n",
        "import matplotlib.pyplot as plt\n",
        "\n",
        "import re"
      ],
      "execution_count": 1,
      "outputs": []
    },
    {
      "cell_type": "code",
      "metadata": {
        "id": "5MlnofzGwzv7"
      },
      "source": [
        "# Загружаем файлы и готовим некоторые списки\n",
        "\n",
        "df = pd.read_csv('гороскопы мейла с фичами.csv', sep=';') # в этом файле есть координаты, но только по 2 первых слова прогноза\n",
        "\n",
        "signs = ['Овен',\t'Телец',\t'Близнецы',\t'Рак',\t'Лев',\t'Дева',\t'Весы',\t'Скорпион',\t'Стрелец',\t'Козерог',\t'Водолей',\t'Рыбы']\n",
        "planets = {'Sun': 10,  'Mercury': 199, 'Venus': 299, 'Mars': 499, 'Jupiter': 599, 'Saturn': 699, 'Uranus': 799, 'Neptune': 899, 'Pluto': 999}\n",
        "features = []\n",
        "for k, v in planets.items():\n",
        "  features += [k+'_x', k+'_y', k+'_z', k+'_vx', k+'_vy', k+'_vz', k+'_l', k+'_ry', k+'_rr']"
      ],
      "execution_count": 2,
      "outputs": []
    },
    {
      "cell_type": "code",
      "metadata": {
        "id": "Lu8EpvJKrT4V"
      },
      "source": [
        "df_orig = pd.read_csv('df_three.csv', sep=';') # это оригинальный файл с соскрапленными гороскопами\n",
        "\n",
        "def conv_date(d):\n",
        "  d = d.split()\n",
        "  year = d[-1]\n",
        "  day = d[0]\n",
        "  if d[1] == 'января':\n",
        "    month = '01'\n",
        "  elif d[1] == 'февраля':\n",
        "    month = '02'\n",
        "  elif d[1] == 'марта':\n",
        "    month = '03'\n",
        "  elif d[1] == 'апреля':\n",
        "    month = '04'\n",
        "  elif d[1] == 'мая':\n",
        "    month = '05'\n",
        "  elif d[1] == 'июня':\n",
        "    month = '06'\n",
        "  elif d[1] == 'июля':\n",
        "    month = '07'\n",
        "  elif d[1] == 'августа':\n",
        "    month = '08'\n",
        "  elif d[1] == 'сентября':\n",
        "    month = '09'\n",
        "  elif d[1] == 'октября':\n",
        "    month = '10'\n",
        "  elif d[1] == 'ноября':\n",
        "    month = '11'\n",
        "  elif d[1] == 'декабря':\n",
        "    month = '12'\n",
        "\n",
        "  return '-'.join([year, month, day])\n",
        "\n",
        "df_orig = df_orig[['date'] + signs].copy()\n",
        "df_orig.fillna('0')\n",
        "df_orig['date'] =  df_orig['date'].apply(lambda x: conv_date(x))\n",
        "# df_orig['date_for_epoch'] =  df_orig['date'].apply(lambda x: Time(x).jd)\n",
        "\n",
        "start_sign_cols = []\n",
        "for sign in signs:\n",
        "  start_sign_cols.append('start_' + sign)\n",
        "  df_orig['start_' + sign] = df_orig[sign].apply(lambda x: ' '.join(re.sub(r'[^\\w\\s]','',x).split()[0:5]).lower() if type(x) == str else x)\n",
        "  df_orig[sign] = df_orig[sign].apply(lambda x: ' '.join(re.sub(r'[^\\w\\s]','',x).split()).lower() if type(x) == str else x)"
      ],
      "execution_count": 4,
      "outputs": []
    },
    {
      "cell_type": "code",
      "metadata": {
        "id": "lmu-d0L2tJbA"
      },
      "source": [
        "df[start_sign_cols] = df_orig[start_sign_cols]"
      ],
      "execution_count": 5,
      "outputs": []
    },
    {
      "cell_type": "code",
      "metadata": {
        "id": "wexSbTfxrs0m",
        "outputId": "a0035d0e-f196-4e8b-dbd3-17f0ec826437",
        "colab": {
          "base_uri": "https://localhost:8080/",
          "height": 278
        }
      },
      "source": [
        "df_orig.head(2)"
      ],
      "execution_count": 6,
      "outputs": [
        {
          "output_type": "execute_result",
          "data": {
            "text/html": [
              "<div>\n",
              "<style scoped>\n",
              "    .dataframe tbody tr th:only-of-type {\n",
              "        vertical-align: middle;\n",
              "    }\n",
              "\n",
              "    .dataframe tbody tr th {\n",
              "        vertical-align: top;\n",
              "    }\n",
              "\n",
              "    .dataframe thead th {\n",
              "        text-align: right;\n",
              "    }\n",
              "</style>\n",
              "<table border=\"1\" class=\"dataframe\">\n",
              "  <thead>\n",
              "    <tr style=\"text-align: right;\">\n",
              "      <th></th>\n",
              "      <th>date</th>\n",
              "      <th>Овен</th>\n",
              "      <th>Телец</th>\n",
              "      <th>Близнецы</th>\n",
              "      <th>Рак</th>\n",
              "      <th>Лев</th>\n",
              "      <th>Дева</th>\n",
              "      <th>Весы</th>\n",
              "      <th>Скорпион</th>\n",
              "      <th>Стрелец</th>\n",
              "      <th>Козерог</th>\n",
              "      <th>Водолей</th>\n",
              "      <th>Рыбы</th>\n",
              "      <th>start_Овен</th>\n",
              "      <th>start_Телец</th>\n",
              "      <th>start_Близнецы</th>\n",
              "      <th>start_Рак</th>\n",
              "      <th>start_Лев</th>\n",
              "      <th>start_Дева</th>\n",
              "      <th>start_Весы</th>\n",
              "      <th>start_Скорпион</th>\n",
              "      <th>start_Стрелец</th>\n",
              "      <th>start_Козерог</th>\n",
              "      <th>start_Водолей</th>\n",
              "      <th>start_Рыбы</th>\n",
              "    </tr>\n",
              "  </thead>\n",
              "  <tbody>\n",
              "    <tr>\n",
              "      <th>0</th>\n",
              "      <td>2020-10-18</td>\n",
              "      <td>насыщенный интересный день за любые дела вы бе...</td>\n",
              "      <td>вам может быть нелегко отстоять свои интересы ...</td>\n",
              "      <td>тот самый день когда ваши поступки вызывают вс...</td>\n",
              "      <td>для самостоятельной работы это не самый подход...</td>\n",
              "      <td>вы без труда завоевываете симпатии новых знако...</td>\n",
              "      <td>первая половина дня проходит спокойно можно де...</td>\n",
              "      <td>благоприятный день для общения удается произве...</td>\n",
              "      <td>не спешите это не тот день когда можно за счит...</td>\n",
              "      <td>напряженный день будьте осторожны и внимательн...</td>\n",
              "      <td>с эмоциональной точки зрения день будет доволь...</td>\n",
              "      <td>утром стоит быть осторожнее поскольку в это вр...</td>\n",
              "      <td>здравый смысл и практичность помогают избежать...</td>\n",
              "      <td>насыщенный интересный день за любые</td>\n",
              "      <td>вам может быть нелегко отстоять</td>\n",
              "      <td>тот самый день когда ваши</td>\n",
              "      <td>для самостоятельной работы это не</td>\n",
              "      <td>вы без труда завоевываете симпатии</td>\n",
              "      <td>первая половина дня проходит спокойно</td>\n",
              "      <td>благоприятный день для общения удается</td>\n",
              "      <td>не спешите это не тот</td>\n",
              "      <td>напряженный день будьте осторожны и</td>\n",
              "      <td>с эмоциональной точки зрения день</td>\n",
              "      <td>утром стоит быть осторожнее поскольку</td>\n",
              "      <td>здравый смысл и практичность помогают</td>\n",
              "    </tr>\n",
              "    <tr>\n",
              "      <th>1</th>\n",
              "      <td>2020-10-17</td>\n",
              "      <td>будьте практичны этот день может положить нача...</td>\n",
              "      <td>день складывается удачно хотя порой вы сами се...</td>\n",
              "      <td>благоприятный день для любых встреч и перегово...</td>\n",
              "      <td>день подходит для решения любых вопросов в том...</td>\n",
              "      <td>вы способны на многое и сами это понимаете но ...</td>\n",
              "      <td>утро потребует осторожности в делах и сдержанн...</td>\n",
              "      <td>удачный день открываются новые возможности и в...</td>\n",
              "      <td>утро проходит очень плодотворно в это время вы...</td>\n",
              "      <td>вы решите многие проблемы если расстанетесь с ...</td>\n",
              "      <td>день складывается напряженно но влияние благоп...</td>\n",
              "      <td>неплохой день подходящий для любого общения вы...</td>\n",
              "      <td>день хоть и не лишен сложных моментов но все ж...</td>\n",
              "      <td>будьте практичны этот день может</td>\n",
              "      <td>день складывается удачно хотя порой</td>\n",
              "      <td>благоприятный день для любых встреч</td>\n",
              "      <td>день подходит для решения любых</td>\n",
              "      <td>вы способны на многое и</td>\n",
              "      <td>утро потребует осторожности в делах</td>\n",
              "      <td>удачный день открываются новые возможности</td>\n",
              "      <td>утро проходит очень плодотворно в</td>\n",
              "      <td>вы решите многие проблемы если</td>\n",
              "      <td>день складывается напряженно но влияние</td>\n",
              "      <td>неплохой день подходящий для любого</td>\n",
              "      <td>день хоть и не лишен</td>\n",
              "    </tr>\n",
              "  </tbody>\n",
              "</table>\n",
              "</div>"
            ],
            "text/plain": [
              "         date  ...                             start_Рыбы\n",
              "0  2020-10-18  ...  здравый смысл и практичность помогают\n",
              "1  2020-10-17  ...                   день хоть и не лишен\n",
              "\n",
              "[2 rows x 25 columns]"
            ]
          },
          "metadata": {
            "tags": []
          },
          "execution_count": 6
        }
      ]
    },
    {
      "cell_type": "code",
      "metadata": {
        "id": "VpLhksTeqvjB",
        "outputId": "446b23cb-9c4c-4e04-f5e4-159183f32d20",
        "colab": {
          "base_uri": "https://localhost:8080/",
          "height": 273
        }
      },
      "source": [
        "df.head(2)"
      ],
      "execution_count": 7,
      "outputs": [
        {
          "output_type": "execute_result",
          "data": {
            "text/html": [
              "<div>\n",
              "<style scoped>\n",
              "    .dataframe tbody tr th:only-of-type {\n",
              "        vertical-align: middle;\n",
              "    }\n",
              "\n",
              "    .dataframe tbody tr th {\n",
              "        vertical-align: top;\n",
              "    }\n",
              "\n",
              "    .dataframe thead th {\n",
              "        text-align: right;\n",
              "    }\n",
              "</style>\n",
              "<table border=\"1\" class=\"dataframe\">\n",
              "  <thead>\n",
              "    <tr style=\"text-align: right;\">\n",
              "      <th></th>\n",
              "      <th>Unnamed: 0</th>\n",
              "      <th>date</th>\n",
              "      <th>date_for_epoch</th>\n",
              "      <th>start_Овен</th>\n",
              "      <th>start_Телец</th>\n",
              "      <th>start_Близнецы</th>\n",
              "      <th>start_Рак</th>\n",
              "      <th>start_Лев</th>\n",
              "      <th>start_Дева</th>\n",
              "      <th>start_Весы</th>\n",
              "      <th>start_Скорпион</th>\n",
              "      <th>start_Стрелец</th>\n",
              "      <th>start_Козерог</th>\n",
              "      <th>start_Водолей</th>\n",
              "      <th>start_Рыбы</th>\n",
              "      <th>Sun_x</th>\n",
              "      <th>Sun_y</th>\n",
              "      <th>Sun_z</th>\n",
              "      <th>Sun_vx</th>\n",
              "      <th>Sun_vy</th>\n",
              "      <th>Sun_vz</th>\n",
              "      <th>Sun_l</th>\n",
              "      <th>Sun_ry</th>\n",
              "      <th>Sun_rr</th>\n",
              "      <th>Mercury_x</th>\n",
              "      <th>Mercury_y</th>\n",
              "      <th>Mercury_z</th>\n",
              "      <th>Mercury_vx</th>\n",
              "      <th>Mercury_vy</th>\n",
              "      <th>Mercury_vz</th>\n",
              "      <th>Mercury_l</th>\n",
              "      <th>Mercury_ry</th>\n",
              "      <th>Mercury_rr</th>\n",
              "      <th>Venus_x</th>\n",
              "      <th>Venus_y</th>\n",
              "      <th>Venus_z</th>\n",
              "      <th>Venus_vx</th>\n",
              "      <th>Venus_vy</th>\n",
              "      <th>Venus_vz</th>\n",
              "      <th>Venus_l</th>\n",
              "      <th>...</th>\n",
              "      <th>Jupiter_vz</th>\n",
              "      <th>Jupiter_l</th>\n",
              "      <th>Jupiter_ry</th>\n",
              "      <th>Jupiter_rr</th>\n",
              "      <th>Saturn_x</th>\n",
              "      <th>Saturn_y</th>\n",
              "      <th>Saturn_z</th>\n",
              "      <th>Saturn_vx</th>\n",
              "      <th>Saturn_vy</th>\n",
              "      <th>Saturn_vz</th>\n",
              "      <th>Saturn_l</th>\n",
              "      <th>Saturn_ry</th>\n",
              "      <th>Saturn_rr</th>\n",
              "      <th>Uranus_x</th>\n",
              "      <th>Uranus_y</th>\n",
              "      <th>Uranus_z</th>\n",
              "      <th>Uranus_vx</th>\n",
              "      <th>Uranus_vy</th>\n",
              "      <th>Uranus_vz</th>\n",
              "      <th>Uranus_l</th>\n",
              "      <th>Uranus_ry</th>\n",
              "      <th>Uranus_rr</th>\n",
              "      <th>Neptune_x</th>\n",
              "      <th>Neptune_y</th>\n",
              "      <th>Neptune_z</th>\n",
              "      <th>Neptune_vx</th>\n",
              "      <th>Neptune_vy</th>\n",
              "      <th>Neptune_vz</th>\n",
              "      <th>Neptune_l</th>\n",
              "      <th>Neptune_ry</th>\n",
              "      <th>Neptune_rr</th>\n",
              "      <th>Pluto_x</th>\n",
              "      <th>Pluto_y</th>\n",
              "      <th>Pluto_z</th>\n",
              "      <th>Pluto_vx</th>\n",
              "      <th>Pluto_vy</th>\n",
              "      <th>Pluto_vz</th>\n",
              "      <th>Pluto_l</th>\n",
              "      <th>Pluto_ry</th>\n",
              "      <th>Pluto_rr</th>\n",
              "    </tr>\n",
              "  </thead>\n",
              "  <tbody>\n",
              "    <tr>\n",
              "      <th>0</th>\n",
              "      <td>0</td>\n",
              "      <td>2020-10-18</td>\n",
              "      <td>2459140.5</td>\n",
              "      <td>насыщенный интересный день за любые</td>\n",
              "      <td>вам может быть нелегко отстоять</td>\n",
              "      <td>тот самый день когда ваши</td>\n",
              "      <td>для самостоятельной работы это не</td>\n",
              "      <td>вы без труда завоевываете симпатии</td>\n",
              "      <td>первая половина дня проходит спокойно</td>\n",
              "      <td>благоприятный день для общения удается</td>\n",
              "      <td>не спешите это не тот</td>\n",
              "      <td>напряженный день будьте осторожны и</td>\n",
              "      <td>с эмоциональной точки зрения день</td>\n",
              "      <td>утром стоит быть осторожнее поскольку</td>\n",
              "      <td>здравый смысл и практичность помогают</td>\n",
              "      <td>-0.904546</td>\n",
              "      <td>-0.417749</td>\n",
              "      <td>0.000024</td>\n",
              "      <td>0.007499</td>\n",
              "      <td>-0.015560</td>\n",
              "      <td>1.876724e-07</td>\n",
              "      <td>0.005754</td>\n",
              "      <td>0.996353</td>\n",
              "      <td>-0.000283</td>\n",
              "      <td>-0.54520</td>\n",
              "      <td>-0.462993</td>\n",
              "      <td>-0.036637</td>\n",
              "      <td>0.005571</td>\n",
              "      <td>0.013612</td>\n",
              "      <td>0.002561</td>\n",
              "      <td>0.004136</td>\n",
              "      <td>0.716204</td>\n",
              "      <td>-0.013171</td>\n",
              "      <td>-1.157731</td>\n",
              "      <td>0.254497</td>\n",
              "      <td>0.023859</td>\n",
              "      <td>-0.011498</td>\n",
              "      <td>-0.022803</td>\n",
              "      <td>0.000997</td>\n",
              "      <td>0.006848</td>\n",
              "      <td>...</td>\n",
              "      <td>-0.000161</td>\n",
              "      <td>0.029598</td>\n",
              "      <td>5.124750</td>\n",
              "      <td>0.015327</td>\n",
              "      <td>4.254547</td>\n",
              "      <td>-8.982140</td>\n",
              "      <td>-0.056410</td>\n",
              "      <td>0.011974</td>\n",
              "      <td>-0.012692</td>\n",
              "      <td>-0.000228</td>\n",
              "      <td>0.057403</td>\n",
              "      <td>9.938973</td>\n",
              "      <td>0.016597</td>\n",
              "      <td>14.631491</td>\n",
              "      <td>11.826922</td>\n",
              "      <td>-0.155757</td>\n",
              "      <td>0.005041</td>\n",
              "      <td>-0.012651</td>\n",
              "      <td>0.000043</td>\n",
              "      <td>0.108663</td>\n",
              "      <td>18.814379</td>\n",
              "      <td>-0.004033</td>\n",
              "      <td>28.514965</td>\n",
              "      <td>-5.883028</td>\n",
              "      <td>-0.565512</td>\n",
              "      <td>0.008058</td>\n",
              "      <td>-0.012450</td>\n",
              "      <td>-0.000076</td>\n",
              "      <td>0.168189</td>\n",
              "      <td>29.121007</td>\n",
              "      <td>0.010407</td>\n",
              "      <td>12.935142</td>\n",
              "      <td>-31.622146</td>\n",
              "      <td>-0.663183</td>\n",
              "      <td>0.010449</td>\n",
              "      <td>-0.014963</td>\n",
              "      <td>-0.000927</td>\n",
              "      <td>0.197360</td>\n",
              "      <td>34.171886</td>\n",
              "      <td>0.017819</td>\n",
              "    </tr>\n",
              "    <tr>\n",
              "      <th>1</th>\n",
              "      <td>1</td>\n",
              "      <td>2020-10-17</td>\n",
              "      <td>2459139.5</td>\n",
              "      <td>будьте практичны этот день может</td>\n",
              "      <td>день складывается удачно хотя порой</td>\n",
              "      <td>благоприятный день для любых встреч</td>\n",
              "      <td>день подходит для решения любых</td>\n",
              "      <td>вы способны на многое и</td>\n",
              "      <td>утро потребует осторожности в делах</td>\n",
              "      <td>удачный день открываются новые возможности</td>\n",
              "      <td>утро проходит очень плодотворно в</td>\n",
              "      <td>вы решите многие проблемы если</td>\n",
              "      <td>день складывается напряженно но влияние</td>\n",
              "      <td>неплохой день подходящий для любого</td>\n",
              "      <td>день хоть и не лишен</td>\n",
              "      <td>-0.911909</td>\n",
              "      <td>-0.402126</td>\n",
              "      <td>0.000024</td>\n",
              "      <td>0.007225</td>\n",
              "      <td>-0.015684</td>\n",
              "      <td>3.191686e-07</td>\n",
              "      <td>0.005756</td>\n",
              "      <td>0.996636</td>\n",
              "      <td>-0.000283</td>\n",
              "      <td>-0.55172</td>\n",
              "      <td>-0.476378</td>\n",
              "      <td>-0.039085</td>\n",
              "      <td>0.007454</td>\n",
              "      <td>0.013131</td>\n",
              "      <td>0.002334</td>\n",
              "      <td>0.004216</td>\n",
              "      <td>0.729972</td>\n",
              "      <td>-0.014328</td>\n",
              "      <td>-1.145999</td>\n",
              "      <td>0.277093</td>\n",
              "      <td>0.022853</td>\n",
              "      <td>-0.011965</td>\n",
              "      <td>-0.022388</td>\n",
              "      <td>0.001016</td>\n",
              "      <td>0.006811</td>\n",
              "      <td>...</td>\n",
              "      <td>-0.000161</td>\n",
              "      <td>0.029509</td>\n",
              "      <td>5.109411</td>\n",
              "      <td>0.015350</td>\n",
              "      <td>4.242709</td>\n",
              "      <td>-8.969385</td>\n",
              "      <td>-0.056182</td>\n",
              "      <td>0.011702</td>\n",
              "      <td>-0.012818</td>\n",
              "      <td>-0.000228</td>\n",
              "      <td>0.057307</td>\n",
              "      <td>9.922379</td>\n",
              "      <td>0.016592</td>\n",
              "      <td>14.626586</td>\n",
              "      <td>11.839634</td>\n",
              "      <td>-0.155800</td>\n",
              "      <td>0.004768</td>\n",
              "      <td>-0.012774</td>\n",
              "      <td>0.000043</td>\n",
              "      <td>0.108687</td>\n",
              "      <td>18.818561</td>\n",
              "      <td>-0.004331</td>\n",
              "      <td>28.507044</td>\n",
              "      <td>-5.870516</td>\n",
              "      <td>-0.565436</td>\n",
              "      <td>0.007785</td>\n",
              "      <td>-0.012574</td>\n",
              "      <td>-0.000076</td>\n",
              "      <td>0.168130</td>\n",
              "      <td>29.110723</td>\n",
              "      <td>0.010160</td>\n",
              "      <td>12.924825</td>\n",
              "      <td>-31.607126</td>\n",
              "      <td>-0.662256</td>\n",
              "      <td>0.010184</td>\n",
              "      <td>-0.015076</td>\n",
              "      <td>-0.000926</td>\n",
              "      <td>0.197257</td>\n",
              "      <td>34.154064</td>\n",
              "      <td>0.017824</td>\n",
              "    </tr>\n",
              "  </tbody>\n",
              "</table>\n",
              "<p>2 rows × 96 columns</p>\n",
              "</div>"
            ],
            "text/plain": [
              "   Unnamed: 0        date  date_for_epoch  ...   Pluto_l   Pluto_ry  Pluto_rr\n",
              "0           0  2020-10-18       2459140.5  ...  0.197360  34.171886  0.017819\n",
              "1           1  2020-10-17       2459139.5  ...  0.197257  34.154064  0.017824\n",
              "\n",
              "[2 rows x 96 columns]"
            ]
          },
          "metadata": {
            "tags": []
          },
          "execution_count": 7
        }
      ]
    },
    {
      "cell_type": "code",
      "metadata": {
        "id": "gZUslTdzZEDd"
      },
      "source": [
        "df = df.drop(['date',\t'date_for_epoch'], axis=1)"
      ],
      "execution_count": 8,
      "outputs": []
    },
    {
      "cell_type": "code",
      "metadata": {
        "id": "DVnQOXWrvqBU"
      },
      "source": [
        "df_orig = df_orig.dropna()"
      ],
      "execution_count": 9,
      "outputs": []
    },
    {
      "cell_type": "code",
      "metadata": {
        "id": "RcjgGJuOeMa1"
      },
      "source": [
        "df_dommagii = pd.read_csv('df_three_dommagii.csv', sep=';')\n",
        "for sign in signs:\n",
        "  df_dommagii[sign] = df_dommagii[sign].apply(lambda x: ' '.join(re.sub(r'[^\\w\\s]','',x).split()).lower() if type(x) == str else x)\n",
        "data_part_dommagii = [d.split() for d in list(df_dommagii[signs].values.reshape(25332)) if type(d)==str]"
      ],
      "execution_count": 10,
      "outputs": []
    },
    {
      "cell_type": "code",
      "metadata": {
        "id": "LaTSHSvHeMeB"
      },
      "source": [
        "df_hyrax = pd.read_csv('df_three_hyrax.csv', sep=';')\n",
        "for sign in signs:\n",
        "  df_hyrax[sign] = df_hyrax[sign].apply(lambda x: ' '.join(re.sub(r'[^\\w\\s]','',x).split()).lower() if type(x) == str else x)\n",
        "data_part_hyrax = [d.split() for d in list(df_hyrax[signs].values.reshape(48180)) if type(d)==str]"
      ],
      "execution_count": 11,
      "outputs": []
    },
    {
      "cell_type": "code",
      "metadata": {
        "id": "yyphG0Kpsxcp"
      },
      "source": [
        "from gensim.models.word2vec import Word2Vec\n",
        "from multiprocessing import cpu_count\n",
        "import gensim.downloader as api"
      ],
      "execution_count": 12,
      "outputs": []
    },
    {
      "cell_type": "code",
      "metadata": {
        "id": "UL583ygburhq"
      },
      "source": [
        "data_part = [d.split() for d in list(df_orig[signs].values.reshape(3708))]\n",
        "model_50 = Word2Vec(data_part+data_part_dommagii+data_part_hyrax, min_count=1, size=50, workers=3, window =3, sg = 1)"
      ],
      "execution_count": 16,
      "outputs": []
    },
    {
      "cell_type": "code",
      "metadata": {
        "id": "QD_OLH4cwUk7",
        "outputId": "c466c805-43b3-4657-a772-cb908853bd66",
        "colab": {
          "base_uri": "https://localhost:8080/"
        }
      },
      "source": [
        "model_50['день'], model_50.most_similar('день'), model_50.similar_by_vector(model_50['день'])"
      ],
      "execution_count": 17,
      "outputs": [
        {
          "output_type": "stream",
          "text": [
            "/usr/local/lib/python3.6/dist-packages/ipykernel_launcher.py:1: DeprecationWarning: Call to deprecated `__getitem__` (Method will be removed in 4.0.0, use self.wv.__getitem__() instead).\n",
            "  \"\"\"Entry point for launching an IPython kernel.\n",
            "/usr/local/lib/python3.6/dist-packages/ipykernel_launcher.py:1: DeprecationWarning: Call to deprecated `most_similar` (Method will be removed in 4.0.0, use self.wv.most_similar() instead).\n",
            "  \"\"\"Entry point for launching an IPython kernel.\n",
            "/usr/local/lib/python3.6/dist-packages/gensim/matutils.py:737: FutureWarning: Conversion of the second argument of issubdtype from `int` to `np.signedinteger` is deprecated. In future, it will be treated as `np.int64 == np.dtype(int).type`.\n",
            "  if np.issubdtype(vec.dtype, np.int):\n",
            "/usr/local/lib/python3.6/dist-packages/ipykernel_launcher.py:1: DeprecationWarning: Call to deprecated `similar_by_vector` (Method will be removed in 4.0.0, use self.wv.similar_by_vector() instead).\n",
            "  \"\"\"Entry point for launching an IPython kernel.\n"
          ],
          "name": "stderr"
        },
        {
          "output_type": "execute_result",
          "data": {
            "text/plain": [
              "(array([-0.15200637,  0.45711643, -0.4947711 , -0.05775643,  0.7853249 ,\n",
              "        -0.14172612, -1.0089407 , -0.12738541, -0.7831307 , -0.26239896,\n",
              "        -1.3062277 , -0.11031161,  0.7230398 ,  1.0391508 , -0.6661155 ,\n",
              "         0.2415261 ,  0.7301659 ,  0.2590898 ,  0.12278003,  0.77527034,\n",
              "        -0.72536355,  0.05690978,  1.0715315 , -0.9961927 ,  1.1010075 ,\n",
              "        -0.28622454, -1.4190803 ,  0.88340133, -0.8050651 , -0.39381388,\n",
              "         0.11880241,  0.300634  , -0.18001854, -1.210484  , -0.13961573,\n",
              "        -0.14345734,  0.07465824, -2.2385645 ,  0.2065428 , -0.12872735,\n",
              "        -0.4413517 , -0.7586338 , -0.48587292,  0.02392701,  0.39447287,\n",
              "        -0.33206597, -0.6452487 , -0.13460226, -0.70199484, -1.3378814 ],\n",
              "       dtype=float32),\n",
              " [('для', 0.6642758250236511),\n",
              "  ('праздной', 0.6635351777076721),\n",
              "  ('активный', 0.6629836559295654),\n",
              "  ('благоприятный', 0.6535197496414185),\n",
              "  ('этот', 0.649883508682251),\n",
              "  ('непростым', 0.645966112613678),\n",
              "  ('продуктивный', 0.6450554728507996),\n",
              "  ('многообещающий', 0.6445454955101013),\n",
              "  ('чреватый', 0.6432591080665588),\n",
              "  ('пятница', 0.6394508481025696)],\n",
              " [('день', 1.0000001192092896),\n",
              "  ('для', 0.6642758846282959),\n",
              "  ('праздной', 0.6635352373123169),\n",
              "  ('активный', 0.662983775138855),\n",
              "  ('благоприятный', 0.6535197496414185),\n",
              "  ('этот', 0.6498835682868958),\n",
              "  ('непростым', 0.645966112613678),\n",
              "  ('продуктивный', 0.6450555920600891),\n",
              "  ('многообещающий', 0.6445455551147461),\n",
              "  ('чреватый', 0.6432591080665588)])"
            ]
          },
          "metadata": {
            "tags": []
          },
          "execution_count": 17
        }
      ]
    },
    {
      "cell_type": "code",
      "metadata": {
        "id": "ncOd-oDAyPvj"
      },
      "source": [
        "model_50.save(\"word2vec_size_50_all_datasets.model\")\n",
        "# model_50 = Word2Vec.load(\"word2vec_size_50_all_datasets.model\")"
      ],
      "execution_count": 18,
      "outputs": []
    },
    {
      "cell_type": "code",
      "metadata": {
        "id": "mPgI8VI-CKak"
      },
      "source": [
        "model_300 = Word2Vec(data_part+data_part_dommagii+data_part_hyrax, min_count=1, size=300, workers=3, window =3, sg = 1)\n",
        "model_300.save(\"word2vec_size_300_all_datasets.model\")"
      ],
      "execution_count": 22,
      "outputs": []
    },
    {
      "cell_type": "code",
      "metadata": {
        "id": "g-sLTiB1SfG3",
        "outputId": "136b52fb-1a97-4f00-e139-1519a5133ea7",
        "colab": {
          "base_uri": "https://localhost:8080/"
        }
      },
      "source": [
        "model_300['день'], model_300.most_similar('день'), model_300.similar_by_vector(model_300['день'])"
      ],
      "execution_count": 23,
      "outputs": [
        {
          "output_type": "stream",
          "text": [
            "/usr/local/lib/python3.6/dist-packages/ipykernel_launcher.py:1: DeprecationWarning: Call to deprecated `__getitem__` (Method will be removed in 4.0.0, use self.wv.__getitem__() instead).\n",
            "  \"\"\"Entry point for launching an IPython kernel.\n",
            "/usr/local/lib/python3.6/dist-packages/ipykernel_launcher.py:1: DeprecationWarning: Call to deprecated `most_similar` (Method will be removed in 4.0.0, use self.wv.most_similar() instead).\n",
            "  \"\"\"Entry point for launching an IPython kernel.\n",
            "/usr/local/lib/python3.6/dist-packages/gensim/matutils.py:737: FutureWarning: Conversion of the second argument of issubdtype from `int` to `np.signedinteger` is deprecated. In future, it will be treated as `np.int64 == np.dtype(int).type`.\n",
            "  if np.issubdtype(vec.dtype, np.int):\n",
            "/usr/local/lib/python3.6/dist-packages/ipykernel_launcher.py:1: DeprecationWarning: Call to deprecated `similar_by_vector` (Method will be removed in 4.0.0, use self.wv.similar_by_vector() instead).\n",
            "  \"\"\"Entry point for launching an IPython kernel.\n"
          ],
          "name": "stderr"
        },
        {
          "output_type": "execute_result",
          "data": {
            "text/plain": [
              "(array([-3.77254814e-01,  2.30618939e-01,  1.97889805e-02, -1.07127279e-02,\n",
              "         7.95874149e-02, -1.38792410e-01, -4.81437385e-01,  4.23501134e-01,\n",
              "        -5.20182192e-01, -1.56897053e-01, -4.75196242e-01,  1.00737512e-01,\n",
              "         1.19763970e-01,  6.31079137e-01,  5.27446419e-02,  1.16041958e-01,\n",
              "         1.16061956e-01, -1.74857080e-01,  7.89032653e-02,  3.79799664e-01,\n",
              "        -4.19931442e-01, -3.10360223e-01, -7.87608549e-02, -5.93668044e-01,\n",
              "        -4.14740801e-01, -2.69705236e-01, -7.63080299e-01,  4.93759751e-01,\n",
              "        -1.74862236e-01,  6.14319704e-02, -2.38490198e-02,  5.84307671e-01,\n",
              "        -3.78306478e-01, -6.07318342e-01, -4.02027994e-01,  2.53230799e-03,\n",
              "        -4.16252129e-02, -3.95630598e-01, -1.84847170e-03, -2.35183001e-01,\n",
              "        -2.35309064e-01, -1.43366307e-01,  2.05739781e-01,  1.25073522e-01,\n",
              "         4.68565345e-01,  9.22370777e-02, -2.74542540e-01,  1.46043390e-01,\n",
              "        -3.90069872e-01, -2.36543298e-01,  2.13410541e-01, -1.44725010e-01,\n",
              "         7.46434987e-01,  1.13427481e-02,  5.06561399e-01, -1.38337016e-01,\n",
              "         3.46844733e-01, -1.38368160e-01,  1.87528774e-01, -5.68195395e-02,\n",
              "         2.26774290e-01, -5.60364500e-02, -4.47545290e-01, -7.50709027e-02,\n",
              "        -1.29184544e-01, -2.81065941e-01, -7.16748685e-02, -6.27547503e-01,\n",
              "         9.46296751e-02,  1.15964822e-02,  1.57098696e-01, -2.96925195e-02,\n",
              "         8.18536878e-01, -2.29438557e-03, -3.19571197e-01, -4.11396354e-01,\n",
              "         1.41688406e-01, -6.56989932e-01,  8.89126286e-02,  5.53261563e-02,\n",
              "         1.67005390e-01, -1.71928719e-01, -9.92346331e-02,  4.55051363e-01,\n",
              "         6.18547082e-01, -2.52159983e-01, -3.37085761e-02,  1.68240026e-01,\n",
              "         1.29799396e-01,  3.07648957e-01, -1.25425413e-01,  6.48000121e-01,\n",
              "        -2.17891783e-01, -5.71254194e-02,  3.90221626e-01,  5.09849787e-01,\n",
              "        -2.30487064e-01, -2.93535113e-01, -2.05791872e-02, -4.76740360e-01,\n",
              "         6.16996825e-01, -6.48563802e-01,  2.30194166e-01, -4.86554593e-01,\n",
              "        -2.63915837e-01, -6.91524267e-01, -1.85304806e-01,  8.46910700e-02,\n",
              "        -8.04652795e-02, -6.17464371e-02, -1.34699687e-01, -5.28556779e-02,\n",
              "         3.08143228e-01,  7.92137012e-02, -1.66433588e-01, -2.25918069e-01,\n",
              "         2.89256305e-01, -1.35714293e-01,  9.50192884e-02, -2.80523539e-01,\n",
              "        -2.74574757e-01,  3.32347631e-01,  4.95157056e-02, -3.15715730e-01,\n",
              "         3.07982564e-01,  5.66454113e-01,  5.04490674e-01, -2.90484965e-01,\n",
              "        -6.09514654e-01,  3.12139869e-01,  7.40224779e-01, -1.81187510e-01,\n",
              "         3.60027790e-01,  4.11580861e-01,  4.42761511e-01, -8.75606984e-02,\n",
              "         2.18027696e-01, -2.72695720e-01, -8.95989761e-02,  3.02954346e-01,\n",
              "        -2.47411177e-01, -9.58294123e-02, -1.56673074e-01, -2.63820320e-01,\n",
              "        -4.45954561e-01,  3.43412310e-01,  1.77805737e-01, -3.78911912e-01,\n",
              "         5.09084404e-01,  2.83697009e-01, -1.86412156e-01,  1.95281267e-01,\n",
              "        -1.58119440e-01,  3.33370477e-01, -3.27196836e-01,  3.25768769e-01,\n",
              "         4.35956538e-01,  2.17724770e-01, -3.00985664e-01,  2.77004719e-01,\n",
              "        -2.79897481e-01, -4.67188582e-02, -2.21859708e-01,  1.00102089e-01,\n",
              "        -5.98216355e-02, -5.49029469e-01,  4.05113786e-01, -2.61589020e-01,\n",
              "         6.40784979e-01, -7.79261515e-02, -3.78448278e-01,  3.42356592e-01,\n",
              "         3.12995523e-01,  8.79077435e-01, -5.08913100e-01, -2.71817416e-01,\n",
              "         6.66640326e-03,  4.42142248e-01, -6.68841228e-02,  2.03172311e-01,\n",
              "         7.27926433e-01,  7.04451025e-01, -3.69970948e-01,  3.49414796e-01,\n",
              "        -4.89731759e-01,  3.19465607e-01, -1.85640797e-01, -1.56509772e-01,\n",
              "        -2.07105264e-01,  1.56960145e-01, -7.53828585e-02, -2.06423908e-01,\n",
              "         1.29730910e-01, -3.62326838e-02, -4.60129112e-01,  1.11868113e-01,\n",
              "         1.22176982e-01,  5.54350793e-01, -2.07973272e-01,  3.61296564e-01,\n",
              "         4.96754259e-01,  8.08574334e-02, -1.79932430e-01,  1.71219558e-01,\n",
              "         3.55416119e-01, -7.99031332e-02, -4.63719457e-01, -1.51175171e-01,\n",
              "         1.19677372e-01,  1.55201375e-01,  2.40333557e-01,  4.75750834e-01,\n",
              "         7.98307836e-01,  2.60221511e-01,  2.37535626e-01, -3.28305542e-01,\n",
              "         2.23383918e-01,  2.21194267e-01,  3.36275578e-01,  5.23757100e-01,\n",
              "        -6.94659889e-01,  5.90709865e-01,  1.84112310e-01,  1.91074267e-01,\n",
              "        -3.57296871e-04, -2.30705753e-01, -3.00649703e-01,  3.76937181e-01,\n",
              "        -1.18702851e-01, -4.07215327e-01,  5.77500463e-03,  3.73159312e-02,\n",
              "         1.76308110e-01,  4.08090025e-01,  5.16155101e-02,  1.12733647e-01,\n",
              "         9.31287348e-01,  9.90455523e-02, -3.14092785e-02,  8.08829367e-02,\n",
              "        -6.34637058e-01,  5.49913049e-01, -1.69038296e-01,  2.56062239e-01,\n",
              "        -1.52230710e-01,  5.66015363e-01, -3.19857717e-01, -3.14628512e-01,\n",
              "        -4.38024729e-01, -2.05339164e-01,  2.56158262e-01, -3.92847091e-01,\n",
              "         5.84109664e-01,  4.65740114e-02, -4.78533030e-01,  2.82329135e-02,\n",
              "        -1.66091844e-01, -3.48942839e-02,  4.81600650e-02,  3.33175324e-02,\n",
              "         5.09727895e-01,  4.27302331e-01,  5.91770634e-02,  1.05622150e-01,\n",
              "         2.83529401e-01,  1.66457683e-01,  1.71235728e-03,  6.50286138e-01,\n",
              "         2.32454956e-01, -1.94974288e-01,  3.76836002e-01, -2.59281129e-01,\n",
              "         4.15835828e-02,  1.26456488e-02,  2.17549413e-01,  1.42066121e-01,\n",
              "        -1.39462963e-01, -2.53132172e-02,  1.92495920e-02, -5.26144803e-01,\n",
              "         2.93694884e-01, -2.00235676e-02,  6.80192634e-02, -2.62356341e-01,\n",
              "        -2.94886440e-01,  5.13001978e-01,  5.39689139e-02, -1.15558997e-01,\n",
              "        -7.71527886e-02, -1.74299434e-01,  2.52404720e-01,  3.76898587e-01,\n",
              "        -2.13002339e-02,  4.90580827e-01,  3.33309397e-02,  1.94978729e-01,\n",
              "         6.21726871e-01, -1.79383203e-01, -7.81329811e-01, -1.23284869e-01],\n",
              "       dtype=float32),\n",
              " [('для', 0.5612074136734009),\n",
              "  ('запоминающийся', 0.5500469207763672),\n",
              "  ('уикэнд', 0.5328515768051147),\n",
              "  ('неблагоприятен', 0.5302022099494934),\n",
              "  ('начался', 0.5266586542129517),\n",
              "  ('предназначено', 0.5261297225952148),\n",
              "  ('критическим', 0.5259713530540466),\n",
              "  ('четверг', 0.5223571062088013),\n",
              "  ('спорами', 0.5215145349502563),\n",
              "  ('шопинга', 0.518799364566803)],\n",
              " [('день', 1.0),\n",
              "  ('для', 0.5612074136734009),\n",
              "  ('запоминающийся', 0.5500469207763672),\n",
              "  ('уикэнд', 0.5328515768051147),\n",
              "  ('неблагоприятен', 0.5302022099494934),\n",
              "  ('начался', 0.5266585946083069),\n",
              "  ('предназначено', 0.5261297225952148),\n",
              "  ('критическим', 0.5259713530540466),\n",
              "  ('четверг', 0.5223571062088013),\n",
              "  ('спорами', 0.5215145349502563)])"
            ]
          },
          "metadata": {
            "tags": []
          },
          "execution_count": 23
        }
      ]
    },
    {
      "cell_type": "code",
      "metadata": {
        "id": "QE8WQKIXUHP3"
      },
      "source": [
        "from gensim.models.keyedvectors import WordEmbeddingsKeyedVectors"
      ],
      "execution_count": 24,
      "outputs": []
    },
    {
      "cell_type": "code",
      "metadata": {
        "id": "O28bHiO_TYtj",
        "outputId": "6edd176f-7c5f-4a5d-c6e6-5dab745a699f",
        "colab": {
          "base_uri": "https://localhost:8080/"
        }
      },
      "source": [
        "data_part_5_vec_50 = [np.array(model_50[el[0:5]]).sum(axis=0) for el in data_part]\n",
        "data_part_5_words_50 = [' '.join(el[0:5]) for el in data_part]\n",
        "\n",
        "vector_length = 50\n",
        "kv_50 = WordEmbeddingsKeyedVectors(vector_length)\n",
        "kv_50.add(data_part_5_words_50, data_part_5_vec_50)"
      ],
      "execution_count": 30,
      "outputs": [
        {
          "output_type": "stream",
          "text": [
            "/usr/local/lib/python3.6/dist-packages/ipykernel_launcher.py:1: DeprecationWarning: Call to deprecated `__getitem__` (Method will be removed in 4.0.0, use self.wv.__getitem__() instead).\n",
            "  \"\"\"Entry point for launching an IPython kernel.\n"
          ],
          "name": "stderr"
        }
      ]
    },
    {
      "cell_type": "code",
      "metadata": {
        "id": "toSL2cqlULcc",
        "outputId": "f79977c7-caf1-46c2-d488-96eef34440ce",
        "colab": {
          "base_uri": "https://localhost:8080/"
        }
      },
      "source": [
        "kv_50.similar_by_vector(np.random.uniform(size=50))"
      ],
      "execution_count": 31,
      "outputs": [
        {
          "output_type": "stream",
          "text": [
            "/usr/local/lib/python3.6/dist-packages/gensim/matutils.py:737: FutureWarning: Conversion of the second argument of issubdtype from `int` to `np.signedinteger` is deprecated. In future, it will be treated as `np.int64 == np.dtype(int).type`.\n",
            "  if np.issubdtype(vec.dtype, np.int):\n"
          ],
          "name": "stderr"
        },
        {
          "output_type": "execute_result",
          "data": {
            "text/plain": [
              "[('непросто а порой и очень', 0.041132740676403046),\n",
              " ('коекакие трудности могут возникнуть но', 0.035038672387599945),\n",
              " ('могут возникать трудности но едва', 0.022460119798779488),\n",
              " ('отбросьте ложную скромность и постарайтесь', 0.02240026742219925),\n",
              " ('не помешают спокойствие и уединение', 0.020614270120859146),\n",
              " ('чаще обычного складываются удивительные и', 0.01954500749707222),\n",
              " ('начало дня будет нервным и', 0.01862482726573944),\n",
              " ('мелкие недоразумения и незначительные трудности', 0.01802467182278633),\n",
              " ('не исключены трудности и неприятные', 0.017790760844945908),\n",
              " ('может быть трудно сохранять самообладание', 0.017361287027597427)]"
            ]
          },
          "metadata": {
            "tags": []
          },
          "execution_count": 31
        }
      ]
    },
    {
      "cell_type": "code",
      "metadata": {
        "id": "9Yf9GCEzUNz2"
      },
      "source": [
        "kv_50.save(\"WordEmbeddingsKeyedVectors_size_50.model\")"
      ],
      "execution_count": 32,
      "outputs": []
    },
    {
      "cell_type": "markdown",
      "metadata": {
        "id": "iWcbKQtlWvsV"
      },
      "source": [
        "Как загружать"
      ]
    },
    {
      "cell_type": "code",
      "metadata": {
        "id": "BfnDQyr_Uw8r"
      },
      "source": [
        "# Как загружать\n",
        "\n",
        "# kv_50 = WordEmbeddingsKeyedVectors.load(\"WordEmbeddingsKeyedVectors_size_50.model\")"
      ],
      "execution_count": 33,
      "outputs": []
    },
    {
      "cell_type": "code",
      "metadata": {
        "id": "ta90oxByU5BN",
        "outputId": "0f38615d-d610-4ace-8e16-b7c55f5a26ca",
        "colab": {
          "base_uri": "https://localhost:8080/"
        }
      },
      "source": [
        "data_part_5_vec_300 = [np.array(model_300[el[0:5]]).sum(axis=0) for el in data_part]\n",
        "data_part_5_words_300 = [' '.join(el[0:5]) for el in data_part]\n",
        "\n",
        "vector_length = 300\n",
        "kv_300 = WordEmbeddingsKeyedVectors(vector_length)\n",
        "kv_300.add(data_part_5_words_300, data_part_5_vec_300)"
      ],
      "execution_count": 35,
      "outputs": [
        {
          "output_type": "stream",
          "text": [
            "/usr/local/lib/python3.6/dist-packages/ipykernel_launcher.py:1: DeprecationWarning: Call to deprecated `__getitem__` (Method will be removed in 4.0.0, use self.wv.__getitem__() instead).\n",
            "  \"\"\"Entry point for launching an IPython kernel.\n"
          ],
          "name": "stderr"
        }
      ]
    },
    {
      "cell_type": "code",
      "metadata": {
        "id": "T_KBDdGiU6Wo",
        "outputId": "11493c8f-1596-49d3-e6e0-c54cf38dc5e0",
        "colab": {
          "base_uri": "https://localhost:8080/"
        }
      },
      "source": [
        "kv_300.similar_by_vector(np.random.uniform(size=300))"
      ],
      "execution_count": 40,
      "outputs": [
        {
          "output_type": "stream",
          "text": [
            "/usr/local/lib/python3.6/dist-packages/gensim/matutils.py:737: FutureWarning: Conversion of the second argument of issubdtype from `int` to `np.signedinteger` is deprecated. In future, it will be treated as `np.int64 == np.dtype(int).type`.\n",
            "  if np.issubdtype(vec.dtype, np.int):\n"
          ],
          "name": "stderr"
        },
        {
          "output_type": "execute_result",
          "data": {
            "text/plain": [
              "[('начинается день напряженно трудности могут', 0.06032707542181015),\n",
              " ('появятся новые идеи они будут', 0.05627724900841713),\n",
              " ('стоит доверять своему внутреннему голосу', 0.05542787164449692),\n",
              " ('важно правильно оценивать свои силы', 0.05353400856256485),\n",
              " ('неплохой день коекакие трудности могут', 0.049757275730371475),\n",
              " ('у вас многое получается хорошо', 0.04664461314678192),\n",
              " ('у вас многое получается хорошо', 0.04664461314678192),\n",
              " ('спокойный день лучше всего посвятить', 0.04658500850200653),\n",
              " ('действуйте решительно у вас есть', 0.04571674019098282),\n",
              " ('отличный день у вас многое', 0.04559712111949921)]"
            ]
          },
          "metadata": {
            "tags": []
          },
          "execution_count": 40
        }
      ]
    },
    {
      "cell_type": "code",
      "metadata": {
        "id": "ZDyR3nClVNT8"
      },
      "source": [
        "kv_300.save(\"WordEmbeddingsKeyedVectors_size_300.model\")"
      ],
      "execution_count": 41,
      "outputs": []
    },
    {
      "cell_type": "code",
      "metadata": {
        "id": "IvU4kOywViXM"
      },
      "source": [
        ""
      ],
      "execution_count": null,
      "outputs": []
    }
  ]
}