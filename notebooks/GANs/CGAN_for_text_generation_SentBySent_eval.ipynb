{
  "nbformat": 4,
  "nbformat_minor": 0,
  "metadata": {
    "kernelspec": {
      "display_name": "Python 3",
      "language": "python",
      "name": "python3"
    },
    "language_info": {
      "codemirror_mode": {
        "name": "ipython",
        "version": 3
      },
      "file_extension": ".py",
      "mimetype": "text/x-python",
      "name": "python",
      "nbconvert_exporter": "python",
      "pygments_lexer": "ipython3",
      "version": "3.6.8"
    },
    "colab": {
      "name": "CGAN for text generation SentBySent eval",
      "provenance": [],
      "collapsed_sections": []
    },
    "accelerator": "GPU"
  },
  "cells": [
    {
      "cell_type": "code",
      "metadata": {
        "id": "PIRk-eIYtTcC"
      },
      "source": [
        "%matplotlib inline"
      ],
      "execution_count": 1,
      "outputs": []
    },
    {
      "cell_type": "code",
      "metadata": {
        "id": "3zrhecYPtTcL"
      },
      "source": [
        "import math\n",
        "import torch\n",
        "import torch.nn as nn\n",
        "import torch.nn.functional as F\n",
        "from torch.utils.data import Dataset, DataLoader, random_split, TensorDataset\n",
        "from gensim.models.keyedvectors import WordEmbeddingsKeyedVectors\n",
        "import torch.optim as optim\n",
        "from sklearn.model_selection import train_test_split\n",
        "from torch.utils.tensorboard import SummaryWriter\n",
        "import pandas as pd\n",
        "import numpy as np\n",
        "from IPython.display import clear_output\n",
        "\n",
        "import tqdm\n",
        "import matplotlib.pyplot as plt\n",
        "\n",
        "import re"
      ],
      "execution_count": 2,
      "outputs": []
    },
    {
      "cell_type": "code",
      "metadata": {
        "id": "MilEx22BEMbf",
        "outputId": "a1a60195-e16c-4282-e596-9a2d9129fd61",
        "colab": {
          "base_uri": "https://localhost:8080/"
        }
      },
      "source": [
        "from google.colab import drive\n",
        "drive.mount('/content/gdrive')"
      ],
      "execution_count": 3,
      "outputs": [
        {
          "output_type": "stream",
          "text": [
            "Mounted at /content/gdrive\n"
          ],
          "name": "stdout"
        }
      ]
    },
    {
      "cell_type": "code",
      "metadata": {
        "id": "5MlnofzGwzv7",
        "cellView": "form"
      },
      "source": [
        "#@title\n",
        "df = pd.read_csv('гороскопы мейла с фичами.csv', sep=';')\n",
        "\n",
        "signs = ['Овен',\t'Телец',\t'Близнецы',\t'Рак',\t'Лев',\t'Дева',\t'Весы',\t'Скорпион',\t'Стрелец',\t'Козерог',\t'Водолей',\t'Рыбы']\n",
        "planets = {'Sun': 10,  'Mercury': 199, 'Venus': 299, 'Mars': 499, 'Jupiter': 599, 'Saturn': 699, 'Uranus': 799, 'Neptune': 899, 'Pluto': 999}\n",
        "features = []\n",
        "for k, v in planets.items():\n",
        "  features += [k+'_x', k+'_y', k+'_z', k+'_vx', k+'_vy', k+'_vz', k+'_l', k+'_ry', k+'_rr']"
      ],
      "execution_count": null,
      "outputs": []
    },
    {
      "cell_type": "code",
      "metadata": {
        "id": "gZUslTdzZEDd",
        "cellView": "form"
      },
      "source": [
        "#@title\n",
        "df = df.drop(['date',\t'date_for_epoch'], axis=1)"
      ],
      "execution_count": null,
      "outputs": []
    },
    {
      "cell_type": "code",
      "metadata": {
        "id": "LBIW6QvWFkPs",
        "cellView": "both"
      },
      "source": [
        "#@title\n",
        "data = pd.read_csv('/content/gdrive/My Drive/MADE_graduation_project_ML_horoscopes/data/первые 5 слов коорд ohe emb.csv',sep=';')"
      ],
      "execution_count": 4,
      "outputs": []
    },
    {
      "cell_type": "code",
      "metadata": {
        "id": "GGeXIj15cE1g",
        "cellView": "both"
      },
      "source": [
        "#@title\n",
        "data = data.dropna()"
      ],
      "execution_count": 5,
      "outputs": []
    },
    {
      "cell_type": "code",
      "metadata": {
        "id": "m9H37iQt9NR1"
      },
      "source": [
        "model_size = 50"
      ],
      "execution_count": 9,
      "outputs": []
    },
    {
      "cell_type": "code",
      "metadata": {
        "id": "fe9nbSPqCQwA"
      },
      "source": [
        "from gensim.models.word2vec import Word2Vec\n",
        "from multiprocessing import cpu_count\n",
        "import gensim.downloader as api"
      ],
      "execution_count": 4,
      "outputs": []
    },
    {
      "cell_type": "code",
      "metadata": {
        "id": "lwGCDI2HtLPC"
      },
      "source": [
        "model = Word2Vec.load(\"/content/gdrive/My Drive/MADE_graduation_project_ML_horoscopes/data/word2vec_size_50_all_datasets.model\")"
      ],
      "execution_count": 8,
      "outputs": []
    },
    {
      "cell_type": "code",
      "metadata": {
        "id": "XOijqcURJL_r"
      },
      "source": [
        "kv_50 = WordEmbeddingsKeyedVectors.load(\"/content/gdrive/My Drive/MADE_graduation_project_ML_horoscopes/data/WordEmbeddingsKeyedVectors_size_50.model\")"
      ],
      "execution_count": 10,
      "outputs": []
    },
    {
      "cell_type": "code",
      "metadata": {
        "id": "Mbi8e8DL-Yd_",
        "outputId": "f0791892-d886-40e8-ef77-8b6402c9160f",
        "colab": {
          "base_uri": "https://localhost:8080/"
        }
      },
      "source": [
        "data.columns[10:]"
      ],
      "execution_count": 11,
      "outputs": [
        {
          "output_type": "execute_result",
          "data": {
            "text/plain": [
              "Index(['Sun_rr', 'Mercury_x', 'Mercury_y', 'Mercury_z', 'Mercury_vx',\n",
              "       'Mercury_vy', 'Mercury_vz', 'Mercury_l', 'Mercury_ry', 'Mercury_rr',\n",
              "       'Venus_x', 'Venus_y', 'Venus_z', 'Venus_vx', 'Venus_vy', 'Venus_vz',\n",
              "       'Venus_l', 'Venus_ry', 'Venus_rr', 'Mars_x', 'Mars_y', 'Mars_z',\n",
              "       'Mars_vx', 'Mars_vy', 'Mars_vz', 'Mars_l', 'Mars_ry', 'Mars_rr',\n",
              "       'Jupiter_x', 'Jupiter_y', 'Jupiter_z', 'Jupiter_vx', 'Jupiter_vy',\n",
              "       'Jupiter_vz', 'Jupiter_l', 'Jupiter_ry', 'Jupiter_rr', 'Saturn_x',\n",
              "       'Saturn_y', 'Saturn_z', 'Saturn_vx', 'Saturn_vy', 'Saturn_vz',\n",
              "       'Saturn_l', 'Saturn_ry', 'Saturn_rr', 'Uranus_x', 'Uranus_y',\n",
              "       'Uranus_z', 'Uranus_vx', 'Uranus_vy', 'Uranus_vz', 'Uranus_l',\n",
              "       'Uranus_ry', 'Uranus_rr', 'Neptune_x', 'Neptune_y', 'Neptune_z',\n",
              "       'Neptune_vx', 'Neptune_vy', 'Neptune_vz', 'Neptune_l', 'Neptune_ry',\n",
              "       'Neptune_rr', 'Pluto_x', 'Pluto_y', 'Pluto_z', 'Pluto_vx', 'Pluto_vy',\n",
              "       'Pluto_vz', 'Pluto_l', 'Pluto_ry', 'Pluto_rr', 'Овен_cls', 'Телец_cls',\n",
              "       'Близнецы_cls', 'Рак_cls', 'Лев_cls', 'Дева_cls', 'Весы_cls',\n",
              "       'Скорпион_cls', 'Стрелец_cls', 'Козерог_cls', 'Водолей_cls', 'Рыбы_cls',\n",
              "       'start_num', 'start_num_1', 'start_num_2', 'start_num_3', 'start_num_4',\n",
              "       'start_num_5'],\n",
              "      dtype='object')"
            ]
          },
          "metadata": {
            "tags": []
          },
          "execution_count": 11
        }
      ]
    },
    {
      "cell_type": "code",
      "metadata": {
        "id": "DmMD0iElJ2BR",
        "outputId": "2bc2db07-04e7-4843-a240-1b09387bc64b",
        "colab": {
          "base_uri": "https://localhost:8080/"
        }
      },
      "source": [
        "len(kv_50.vocab)"
      ],
      "execution_count": 12,
      "outputs": [
        {
          "output_type": "execute_result",
          "data": {
            "text/plain": [
              "3000"
            ]
          },
          "metadata": {
            "tags": []
          },
          "execution_count": 12
        }
      ]
    },
    {
      "cell_type": "code",
      "metadata": {
        "id": "LtIXxZO3MQya",
        "outputId": "2912a6f0-74a9-4395-d4df-c40c1cd74eaa",
        "colab": {
          "base_uri": "https://localhost:8080/"
        }
      },
      "source": [
        "data.shape"
      ],
      "execution_count": 13,
      "outputs": [
        {
          "output_type": "execute_result",
          "data": {
            "text/plain": [
              "(3730, 101)"
            ]
          },
          "metadata": {
            "tags": []
          },
          "execution_count": 13
        }
      ]
    },
    {
      "cell_type": "code",
      "metadata": {
        "id": "BAKO4cnRMdwl",
        "outputId": "57219a5e-719d-4410-be4a-21341aed7b29",
        "colab": {
          "base_uri": "https://localhost:8080/"
        }
      },
      "source": [
        "len(data['start'].unique())"
      ],
      "execution_count": 14,
      "outputs": [
        {
          "output_type": "execute_result",
          "data": {
            "text/plain": [
              "3016"
            ]
          },
          "metadata": {
            "tags": []
          },
          "execution_count": 14
        }
      ]
    },
    {
      "cell_type": "code",
      "metadata": {
        "id": "h0-tToxNLJJU"
      },
      "source": [
        "def get_kv_vector(x):\n",
        "  try:\n",
        "    return np.array(kv_50.get_vector(x))\n",
        "  except:\n",
        "    return np.nan"
      ],
      "execution_count": 15,
      "outputs": []
    },
    {
      "cell_type": "code",
      "metadata": {
        "id": "syMNMdYjJQtk"
      },
      "source": [
        "data['sentence'] = data['start'].apply(get_kv_vector)"
      ],
      "execution_count": 16,
      "outputs": []
    },
    {
      "cell_type": "code",
      "metadata": {
        "id": "ATzCXCNNNk5K",
        "outputId": "cc651ab2-4141-461a-c37b-8cb2b0a91356",
        "colab": {
          "base_uri": "https://localhost:8080/"
        }
      },
      "source": [
        "data['sentence'].isna().sum()"
      ],
      "execution_count": 17,
      "outputs": [
        {
          "output_type": "execute_result",
          "data": {
            "text/plain": [
              "16"
            ]
          },
          "metadata": {
            "tags": []
          },
          "execution_count": 17
        }
      ]
    },
    {
      "cell_type": "code",
      "metadata": {
        "id": "8JXrrj7T_KqU"
      },
      "source": [
        "y_cols = ['Sun_x', 'Sun_y', 'Sun_z', 'Sun_vx', 'Sun_vy', 'Sun_vz',\n",
        "       'Sun_l', 'Sun_ry', 'Sun_rr', 'Mercury_x', 'Mercury_y', 'Mercury_z',\n",
        "       'Mercury_vx', 'Mercury_vy', 'Mercury_vz', 'Mercury_l', 'Mercury_ry',\n",
        "       'Mercury_rr', 'Venus_x', 'Venus_y', 'Venus_z', 'Venus_vx', 'Venus_vy',\n",
        "       'Venus_vz', 'Venus_l', 'Venus_ry', 'Venus_rr', 'Mars_x', 'Mars_y',\n",
        "       'Mars_z', 'Mars_vx', 'Mars_vy', 'Mars_vz', 'Mars_l', 'Mars_ry',\n",
        "       'Mars_rr', 'Jupiter_x', 'Jupiter_y', 'Jupiter_z', 'Jupiter_vx',\n",
        "       'Jupiter_vy', 'Jupiter_vz', 'Jupiter_l', 'Jupiter_ry', 'Jupiter_rr',\n",
        "       'Saturn_x', 'Saturn_y', 'Saturn_z', 'Saturn_vx', 'Saturn_vy',\n",
        "       'Saturn_vz', 'Saturn_l', 'Saturn_ry', 'Saturn_rr', 'Uranus_x',\n",
        "       'Uranus_y', 'Uranus_z', 'Uranus_vx', 'Uranus_vy', 'Uranus_vz',\n",
        "       'Uranus_l', 'Uranus_ry', 'Uranus_rr', 'Neptune_x', 'Neptune_y',\n",
        "       'Neptune_z', 'Neptune_vx', 'Neptune_vy', 'Neptune_vz', 'Neptune_l',\n",
        "       'Neptune_ry', 'Neptune_rr', 'Pluto_x', 'Pluto_y', 'Pluto_z', 'Pluto_vx',\n",
        "       'Pluto_vy', 'Pluto_vz', 'Pluto_l', 'Pluto_ry', 'Pluto_rr','Овен_cls', 'Телец_cls',\n",
        "       'Близнецы_cls', 'Рак_cls', 'Лев_cls', 'Дева_cls', 'Весы_cls',\n",
        "       'Скорпион_cls', 'Стрелец_cls', 'Козерог_cls', 'Водолей_cls', 'Рыбы_cls']"
      ],
      "execution_count": 18,
      "outputs": []
    },
    {
      "cell_type": "code",
      "metadata": {
        "id": "ZVx4Cv30AVDu"
      },
      "source": [
        "data = data.dropna()"
      ],
      "execution_count": 19,
      "outputs": []
    },
    {
      "cell_type": "code",
      "metadata": {
        "id": "tD5d5yd6FdQm",
        "outputId": "289526eb-53ec-46e0-9f7d-ddd6fd9b6293",
        "colab": {
          "base_uri": "https://localhost:8080/",
          "height": 610
        }
      },
      "source": [
        "data.head()"
      ],
      "execution_count": 20,
      "outputs": [
        {
          "output_type": "execute_result",
          "data": {
            "text/html": [
              "<div>\n",
              "<style scoped>\n",
              "    .dataframe tbody tr th:only-of-type {\n",
              "        vertical-align: middle;\n",
              "    }\n",
              "\n",
              "    .dataframe tbody tr th {\n",
              "        vertical-align: top;\n",
              "    }\n",
              "\n",
              "    .dataframe thead th {\n",
              "        text-align: right;\n",
              "    }\n",
              "</style>\n",
              "<table border=\"1\" class=\"dataframe\">\n",
              "  <thead>\n",
              "    <tr style=\"text-align: right;\">\n",
              "      <th></th>\n",
              "      <th>Unnamed: 0</th>\n",
              "      <th>start</th>\n",
              "      <th>Sun_x</th>\n",
              "      <th>Sun_y</th>\n",
              "      <th>Sun_z</th>\n",
              "      <th>Sun_vx</th>\n",
              "      <th>Sun_vy</th>\n",
              "      <th>Sun_vz</th>\n",
              "      <th>Sun_l</th>\n",
              "      <th>Sun_ry</th>\n",
              "      <th>Sun_rr</th>\n",
              "      <th>Mercury_x</th>\n",
              "      <th>Mercury_y</th>\n",
              "      <th>Mercury_z</th>\n",
              "      <th>Mercury_vx</th>\n",
              "      <th>Mercury_vy</th>\n",
              "      <th>Mercury_vz</th>\n",
              "      <th>Mercury_l</th>\n",
              "      <th>Mercury_ry</th>\n",
              "      <th>Mercury_rr</th>\n",
              "      <th>Venus_x</th>\n",
              "      <th>Venus_y</th>\n",
              "      <th>Venus_z</th>\n",
              "      <th>Venus_vx</th>\n",
              "      <th>Venus_vy</th>\n",
              "      <th>Venus_vz</th>\n",
              "      <th>Venus_l</th>\n",
              "      <th>Venus_ry</th>\n",
              "      <th>Venus_rr</th>\n",
              "      <th>Mars_x</th>\n",
              "      <th>Mars_y</th>\n",
              "      <th>Mars_z</th>\n",
              "      <th>Mars_vx</th>\n",
              "      <th>Mars_vy</th>\n",
              "      <th>Mars_vz</th>\n",
              "      <th>Mars_l</th>\n",
              "      <th>Mars_ry</th>\n",
              "      <th>Mars_rr</th>\n",
              "      <th>Jupiter_x</th>\n",
              "      <th>Jupiter_y</th>\n",
              "      <th>...</th>\n",
              "      <th>Uranus_l</th>\n",
              "      <th>Uranus_ry</th>\n",
              "      <th>Uranus_rr</th>\n",
              "      <th>Neptune_x</th>\n",
              "      <th>Neptune_y</th>\n",
              "      <th>Neptune_z</th>\n",
              "      <th>Neptune_vx</th>\n",
              "      <th>Neptune_vy</th>\n",
              "      <th>Neptune_vz</th>\n",
              "      <th>Neptune_l</th>\n",
              "      <th>Neptune_ry</th>\n",
              "      <th>Neptune_rr</th>\n",
              "      <th>Pluto_x</th>\n",
              "      <th>Pluto_y</th>\n",
              "      <th>Pluto_z</th>\n",
              "      <th>Pluto_vx</th>\n",
              "      <th>Pluto_vy</th>\n",
              "      <th>Pluto_vz</th>\n",
              "      <th>Pluto_l</th>\n",
              "      <th>Pluto_ry</th>\n",
              "      <th>Pluto_rr</th>\n",
              "      <th>Овен_cls</th>\n",
              "      <th>Телец_cls</th>\n",
              "      <th>Близнецы_cls</th>\n",
              "      <th>Рак_cls</th>\n",
              "      <th>Лев_cls</th>\n",
              "      <th>Дева_cls</th>\n",
              "      <th>Весы_cls</th>\n",
              "      <th>Скорпион_cls</th>\n",
              "      <th>Стрелец_cls</th>\n",
              "      <th>Козерог_cls</th>\n",
              "      <th>Водолей_cls</th>\n",
              "      <th>Рыбы_cls</th>\n",
              "      <th>start_num</th>\n",
              "      <th>start_num_1</th>\n",
              "      <th>start_num_2</th>\n",
              "      <th>start_num_3</th>\n",
              "      <th>start_num_4</th>\n",
              "      <th>start_num_5</th>\n",
              "      <th>sentence</th>\n",
              "    </tr>\n",
              "  </thead>\n",
              "  <tbody>\n",
              "    <tr>\n",
              "      <th>0</th>\n",
              "      <td>0</td>\n",
              "      <td>насыщенный интересный день за любые</td>\n",
              "      <td>-0.904546</td>\n",
              "      <td>-0.417749</td>\n",
              "      <td>0.000024</td>\n",
              "      <td>0.007499</td>\n",
              "      <td>-0.015560</td>\n",
              "      <td>1.876724e-07</td>\n",
              "      <td>0.005754</td>\n",
              "      <td>0.996353</td>\n",
              "      <td>-0.000283</td>\n",
              "      <td>-0.545200</td>\n",
              "      <td>-0.462993</td>\n",
              "      <td>-0.036637</td>\n",
              "      <td>0.005571</td>\n",
              "      <td>0.013612</td>\n",
              "      <td>0.002561</td>\n",
              "      <td>0.004136</td>\n",
              "      <td>0.716204</td>\n",
              "      <td>-0.013171</td>\n",
              "      <td>-1.157731</td>\n",
              "      <td>0.254497</td>\n",
              "      <td>0.023859</td>\n",
              "      <td>-0.011498</td>\n",
              "      <td>-0.022803</td>\n",
              "      <td>0.000997</td>\n",
              "      <td>0.006848</td>\n",
              "      <td>1.185614</td>\n",
              "      <td>0.006353</td>\n",
              "      <td>0.400402</td>\n",
              "      <td>0.142048</td>\n",
              "      <td>-0.020257</td>\n",
              "      <td>0.002517</td>\n",
              "      <td>-0.001505</td>\n",
              "      <td>0.000417</td>\n",
              "      <td>0.002457</td>\n",
              "      <td>0.425335</td>\n",
              "      <td>0.001847</td>\n",
              "      <td>1.671105</td>\n",
              "      <td>-4.844475</td>\n",
              "      <td>...</td>\n",
              "      <td>0.108663</td>\n",
              "      <td>18.814379</td>\n",
              "      <td>-0.004033</td>\n",
              "      <td>28.514965</td>\n",
              "      <td>-5.883028</td>\n",
              "      <td>-0.565512</td>\n",
              "      <td>0.008058</td>\n",
              "      <td>-0.012450</td>\n",
              "      <td>-0.000076</td>\n",
              "      <td>0.168189</td>\n",
              "      <td>29.121007</td>\n",
              "      <td>0.010407</td>\n",
              "      <td>12.935142</td>\n",
              "      <td>-31.622146</td>\n",
              "      <td>-0.663183</td>\n",
              "      <td>0.010449</td>\n",
              "      <td>-0.014963</td>\n",
              "      <td>-0.000927</td>\n",
              "      <td>0.197360</td>\n",
              "      <td>34.171886</td>\n",
              "      <td>0.017819</td>\n",
              "      <td>1</td>\n",
              "      <td>0</td>\n",
              "      <td>0</td>\n",
              "      <td>0</td>\n",
              "      <td>0</td>\n",
              "      <td>0</td>\n",
              "      <td>0</td>\n",
              "      <td>0</td>\n",
              "      <td>0</td>\n",
              "      <td>0</td>\n",
              "      <td>0</td>\n",
              "      <td>0</td>\n",
              "      <td>[-0.20097116 -0.39993128 -0.38080287 -0.772286...</td>\n",
              "      <td>[-0.20097116 -0.39993128 -0.38080287 -0.772286...</td>\n",
              "      <td>[-0.24224697 -0.32531098 -0.29583368 -0.704362...</td>\n",
              "      <td>[-0.7106669  -0.23918846 -0.68920034 -0.818579...</td>\n",
              "      <td>[ 0.8948045   0.23784168  0.38576618  0.473802...</td>\n",
              "      <td>[ 0.05232921 -0.0726626  -0.6013601  -0.753021...</td>\n",
              "      <td>[-1.45803964138031, 1.085614562034607, -2.6173...</td>\n",
              "    </tr>\n",
              "    <tr>\n",
              "      <th>1</th>\n",
              "      <td>1</td>\n",
              "      <td>будьте практичны этот день может</td>\n",
              "      <td>-0.911909</td>\n",
              "      <td>-0.402126</td>\n",
              "      <td>0.000024</td>\n",
              "      <td>0.007225</td>\n",
              "      <td>-0.015684</td>\n",
              "      <td>3.191686e-07</td>\n",
              "      <td>0.005756</td>\n",
              "      <td>0.996636</td>\n",
              "      <td>-0.000283</td>\n",
              "      <td>-0.551720</td>\n",
              "      <td>-0.476378</td>\n",
              "      <td>-0.039085</td>\n",
              "      <td>0.007454</td>\n",
              "      <td>0.013131</td>\n",
              "      <td>0.002334</td>\n",
              "      <td>0.004216</td>\n",
              "      <td>0.729972</td>\n",
              "      <td>-0.014328</td>\n",
              "      <td>-1.145999</td>\n",
              "      <td>0.277093</td>\n",
              "      <td>0.022853</td>\n",
              "      <td>-0.011965</td>\n",
              "      <td>-0.022388</td>\n",
              "      <td>0.001016</td>\n",
              "      <td>0.006811</td>\n",
              "      <td>1.179244</td>\n",
              "      <td>0.006387</td>\n",
              "      <td>0.397954</td>\n",
              "      <td>0.143586</td>\n",
              "      <td>-0.020673</td>\n",
              "      <td>0.002379</td>\n",
              "      <td>-0.001572</td>\n",
              "      <td>0.000415</td>\n",
              "      <td>0.002446</td>\n",
              "      <td>0.423570</td>\n",
              "      <td>0.001682</td>\n",
              "      <td>1.657301</td>\n",
              "      <td>-4.833002</td>\n",
              "      <td>...</td>\n",
              "      <td>0.108687</td>\n",
              "      <td>18.818561</td>\n",
              "      <td>-0.004331</td>\n",
              "      <td>28.507044</td>\n",
              "      <td>-5.870516</td>\n",
              "      <td>-0.565436</td>\n",
              "      <td>0.007785</td>\n",
              "      <td>-0.012574</td>\n",
              "      <td>-0.000076</td>\n",
              "      <td>0.168130</td>\n",
              "      <td>29.110723</td>\n",
              "      <td>0.010160</td>\n",
              "      <td>12.924825</td>\n",
              "      <td>-31.607126</td>\n",
              "      <td>-0.662256</td>\n",
              "      <td>0.010184</td>\n",
              "      <td>-0.015076</td>\n",
              "      <td>-0.000926</td>\n",
              "      <td>0.197257</td>\n",
              "      <td>34.154064</td>\n",
              "      <td>0.017824</td>\n",
              "      <td>1</td>\n",
              "      <td>0</td>\n",
              "      <td>0</td>\n",
              "      <td>0</td>\n",
              "      <td>0</td>\n",
              "      <td>0</td>\n",
              "      <td>0</td>\n",
              "      <td>0</td>\n",
              "      <td>0</td>\n",
              "      <td>0</td>\n",
              "      <td>0</td>\n",
              "      <td>0</td>\n",
              "      <td>[ 0.39644277  0.0206436   0.0720196  -0.075878...</td>\n",
              "      <td>[ 0.39644277  0.0206436   0.0720196  -0.075878...</td>\n",
              "      <td>[ 0.23707008 -0.21587744  0.03597016 -0.249976...</td>\n",
              "      <td>[ 0.11832371 -0.2798793  -0.7086075  -0.636874...</td>\n",
              "      <td>[-0.7106669  -0.23918846 -0.68920034 -0.818579...</td>\n",
              "      <td>[-0.23870714 -0.26901338 -0.12962128 -0.091806...</td>\n",
              "      <td>[-3.3848729133605957, 3.2354576587677, -0.3398...</td>\n",
              "    </tr>\n",
              "    <tr>\n",
              "      <th>2</th>\n",
              "      <td>2</td>\n",
              "      <td>благоприятный день если вы проявите</td>\n",
              "      <td>-0.918996</td>\n",
              "      <td>-0.386383</td>\n",
              "      <td>0.000023</td>\n",
              "      <td>0.006950</td>\n",
              "      <td>-0.015802</td>\n",
              "      <td>4.764212e-07</td>\n",
              "      <td>0.005758</td>\n",
              "      <td>0.996918</td>\n",
              "      <td>-0.000282</td>\n",
              "      <td>-0.560073</td>\n",
              "      <td>-0.489208</td>\n",
              "      <td>-0.041304</td>\n",
              "      <td>0.009234</td>\n",
              "      <td>0.012507</td>\n",
              "      <td>0.002104</td>\n",
              "      <td>0.004302</td>\n",
              "      <td>0.744790</td>\n",
              "      <td>-0.015276</td>\n",
              "      <td>-1.133805</td>\n",
              "      <td>0.299270</td>\n",
              "      <td>0.021828</td>\n",
              "      <td>-0.012420</td>\n",
              "      <td>-0.021963</td>\n",
              "      <td>0.001034</td>\n",
              "      <td>0.006774</td>\n",
              "      <td>1.172839</td>\n",
              "      <td>0.006421</td>\n",
              "      <td>0.395644</td>\n",
              "      <td>0.145190</td>\n",
              "      <td>-0.021087</td>\n",
              "      <td>0.002240</td>\n",
              "      <td>-0.001634</td>\n",
              "      <td>0.000413</td>\n",
              "      <td>0.002437</td>\n",
              "      <td>0.421971</td>\n",
              "      <td>0.001517</td>\n",
              "      <td>1.643766</td>\n",
              "      <td>-4.821399</td>\n",
              "      <td>...</td>\n",
              "      <td>0.108713</td>\n",
              "      <td>18.823040</td>\n",
              "      <td>-0.004627</td>\n",
              "      <td>28.499397</td>\n",
              "      <td>-5.857882</td>\n",
              "      <td>-0.565359</td>\n",
              "      <td>0.007509</td>\n",
              "      <td>-0.012693</td>\n",
              "      <td>-0.000076</td>\n",
              "      <td>0.168072</td>\n",
              "      <td>29.100688</td>\n",
              "      <td>0.009911</td>\n",
              "      <td>12.914777</td>\n",
              "      <td>-31.591994</td>\n",
              "      <td>-0.661335</td>\n",
              "      <td>0.009910</td>\n",
              "      <td>-0.015187</td>\n",
              "      <td>-0.000915</td>\n",
              "      <td>0.197154</td>\n",
              "      <td>34.136241</td>\n",
              "      <td>0.017822</td>\n",
              "      <td>1</td>\n",
              "      <td>0</td>\n",
              "      <td>0</td>\n",
              "      <td>0</td>\n",
              "      <td>0</td>\n",
              "      <td>0</td>\n",
              "      <td>0</td>\n",
              "      <td>0</td>\n",
              "      <td>0</td>\n",
              "      <td>0</td>\n",
              "      <td>0</td>\n",
              "      <td>0</td>\n",
              "      <td>[-2.89365470e-01 -4.67128426e-01 -6.83596671e-...</td>\n",
              "      <td>[-2.8936547e-01 -4.6712843e-01 -6.8359667e-01 ...</td>\n",
              "      <td>[-0.7106669  -0.23918846 -0.68920034 -0.818579...</td>\n",
              "      <td>[ 0.60200465 -0.55100614  0.12129481 -0.820373...</td>\n",
              "      <td>[ 0.33136016 -0.3066615   0.30393177 -0.716541...</td>\n",
              "      <td>[ 0.3615729  -0.41036066 -0.25291285 -0.054604...</td>\n",
              "      <td>[-2.120943784713745, 1.8139744997024536, -1.01...</td>\n",
              "    </tr>\n",
              "    <tr>\n",
              "      <th>3</th>\n",
              "      <td>3</td>\n",
              "      <td>первая половина дня удачна вам</td>\n",
              "      <td>-0.925808</td>\n",
              "      <td>-0.370523</td>\n",
              "      <td>0.000023</td>\n",
              "      <td>0.006673</td>\n",
              "      <td>-0.015916</td>\n",
              "      <td>6.468198e-07</td>\n",
              "      <td>0.005759</td>\n",
              "      <td>0.997200</td>\n",
              "      <td>-0.000281</td>\n",
              "      <td>-0.570154</td>\n",
              "      <td>-0.501349</td>\n",
              "      <td>-0.043293</td>\n",
              "      <td>0.010908</td>\n",
              "      <td>0.011757</td>\n",
              "      <td>0.001873</td>\n",
              "      <td>0.004392</td>\n",
              "      <td>0.760461</td>\n",
              "      <td>-0.016035</td>\n",
              "      <td>-1.121164</td>\n",
              "      <td>0.321016</td>\n",
              "      <td>0.020786</td>\n",
              "      <td>-0.012860</td>\n",
              "      <td>-0.021527</td>\n",
              "      <td>0.001051</td>\n",
              "      <td>0.006737</td>\n",
              "      <td>1.166401</td>\n",
              "      <td>0.006455</td>\n",
              "      <td>0.393475</td>\n",
              "      <td>0.146854</td>\n",
              "      <td>-0.021499</td>\n",
              "      <td>0.002099</td>\n",
              "      <td>-0.001693</td>\n",
              "      <td>0.000411</td>\n",
              "      <td>0.002429</td>\n",
              "      <td>0.420536</td>\n",
              "      <td>0.001352</td>\n",
              "      <td>1.630503</td>\n",
              "      <td>-4.809670</td>\n",
              "      <td>...</td>\n",
              "      <td>0.108740</td>\n",
              "      <td>18.827815</td>\n",
              "      <td>-0.004922</td>\n",
              "      <td>28.492025</td>\n",
              "      <td>-5.845132</td>\n",
              "      <td>-0.565283</td>\n",
              "      <td>0.007233</td>\n",
              "      <td>-0.012806</td>\n",
              "      <td>-0.000076</td>\n",
              "      <td>0.168015</td>\n",
              "      <td>29.090903</td>\n",
              "      <td>0.009658</td>\n",
              "      <td>12.905009</td>\n",
              "      <td>-31.576750</td>\n",
              "      <td>-0.660425</td>\n",
              "      <td>0.009625</td>\n",
              "      <td>-0.015302</td>\n",
              "      <td>-0.000904</td>\n",
              "      <td>0.197052</td>\n",
              "      <td>34.118420</td>\n",
              "      <td>0.017820</td>\n",
              "      <td>1</td>\n",
              "      <td>0</td>\n",
              "      <td>0</td>\n",
              "      <td>0</td>\n",
              "      <td>0</td>\n",
              "      <td>0</td>\n",
              "      <td>0</td>\n",
              "      <td>0</td>\n",
              "      <td>0</td>\n",
              "      <td>0</td>\n",
              "      <td>0</td>\n",
              "      <td>0</td>\n",
              "      <td>[ 4.70629036e-01  5.07097617e-02 -3.72145981e-...</td>\n",
              "      <td>[ 0.47062904  0.05070976 -0.37214598 -0.964988...</td>\n",
              "      <td>[ 0.07806443 -0.89951843 -0.45950305 -0.878136...</td>\n",
              "      <td>[ 0.51019806  0.23064396 -0.57588553 -1.007524...</td>\n",
              "      <td>[ 0.22293736 -0.12208479 -0.22341345 -0.563982...</td>\n",
              "      <td>[ 4.3780473e-01  9.7655812e-03 -2.3801965e-01 ...</td>\n",
              "      <td>[-2.9842889308929443, 2.914031505584717, -0.73...</td>\n",
              "    </tr>\n",
              "    <tr>\n",
              "      <th>4</th>\n",
              "      <td>4</td>\n",
              "      <td>серьезных проблем этот день не</td>\n",
              "      <td>-0.932341</td>\n",
              "      <td>-0.354553</td>\n",
              "      <td>0.000022</td>\n",
              "      <td>0.006394</td>\n",
              "      <td>-0.016023</td>\n",
              "      <td>8.170752e-07</td>\n",
              "      <td>0.005761</td>\n",
              "      <td>0.997481</td>\n",
              "      <td>-0.000281</td>\n",
              "      <td>-0.581852</td>\n",
              "      <td>-0.512684</td>\n",
              "      <td>-0.045051</td>\n",
              "      <td>0.012471</td>\n",
              "      <td>0.010896</td>\n",
              "      <td>0.001643</td>\n",
              "      <td>0.004486</td>\n",
              "      <td>0.776805</td>\n",
              "      <td>-0.016627</td>\n",
              "      <td>-1.108089</td>\n",
              "      <td>0.342322</td>\n",
              "      <td>0.019727</td>\n",
              "      <td>-0.013287</td>\n",
              "      <td>-0.021082</td>\n",
              "      <td>0.001067</td>\n",
              "      <td>0.006699</td>\n",
              "      <td>1.159929</td>\n",
              "      <td>0.006489</td>\n",
              "      <td>0.391446</td>\n",
              "      <td>0.148574</td>\n",
              "      <td>-0.021909</td>\n",
              "      <td>0.001958</td>\n",
              "      <td>-0.001748</td>\n",
              "      <td>0.000409</td>\n",
              "      <td>0.002421</td>\n",
              "      <td>0.419267</td>\n",
              "      <td>0.001187</td>\n",
              "      <td>1.617511</td>\n",
              "      <td>-4.797821</td>\n",
              "      <td>...</td>\n",
              "      <td>0.108770</td>\n",
              "      <td>18.832883</td>\n",
              "      <td>-0.005214</td>\n",
              "      <td>28.484931</td>\n",
              "      <td>-5.832272</td>\n",
              "      <td>-0.565207</td>\n",
              "      <td>0.006955</td>\n",
              "      <td>-0.012914</td>\n",
              "      <td>-0.000076</td>\n",
              "      <td>0.167960</td>\n",
              "      <td>29.081372</td>\n",
              "      <td>0.009403</td>\n",
              "      <td>12.895529</td>\n",
              "      <td>-31.561389</td>\n",
              "      <td>-0.659523</td>\n",
              "      <td>0.009337</td>\n",
              "      <td>-0.015420</td>\n",
              "      <td>-0.000903</td>\n",
              "      <td>0.196949</td>\n",
              "      <td>34.100600</td>\n",
              "      <td>0.017820</td>\n",
              "      <td>1</td>\n",
              "      <td>0</td>\n",
              "      <td>0</td>\n",
              "      <td>0</td>\n",
              "      <td>0</td>\n",
              "      <td>0</td>\n",
              "      <td>0</td>\n",
              "      <td>0</td>\n",
              "      <td>0</td>\n",
              "      <td>0</td>\n",
              "      <td>0</td>\n",
              "      <td>0</td>\n",
              "      <td>[-0.08978786 -1.0651004  -0.04228695 -1.142393...</td>\n",
              "      <td>[-0.08978786 -1.0651004  -0.04228695 -1.142393...</td>\n",
              "      <td>[-0.3413711  -0.7453939  -0.25079343 -0.527937...</td>\n",
              "      <td>[ 0.11832371 -0.2798793  -0.7086075  -0.636874...</td>\n",
              "      <td>[-0.7106669  -0.23918846 -0.68920034 -0.818579...</td>\n",
              "      <td>[ 0.8134651  -0.67809945  0.25046396 -0.339632...</td>\n",
              "      <td>[-1.8202193975448608, 2.5727202892303467, -1.0...</td>\n",
              "    </tr>\n",
              "  </tbody>\n",
              "</table>\n",
              "<p>5 rows × 102 columns</p>\n",
              "</div>"
            ],
            "text/plain": [
              "   Unnamed: 0  ...                                           sentence\n",
              "0           0  ...  [-1.45803964138031, 1.085614562034607, -2.6173...\n",
              "1           1  ...  [-3.3848729133605957, 3.2354576587677, -0.3398...\n",
              "2           2  ...  [-2.120943784713745, 1.8139744997024536, -1.01...\n",
              "3           3  ...  [-2.9842889308929443, 2.914031505584717, -0.73...\n",
              "4           4  ...  [-1.8202193975448608, 2.5727202892303467, -1.0...\n",
              "\n",
              "[5 rows x 102 columns]"
            ]
          },
          "metadata": {
            "tags": []
          },
          "execution_count": 20
        }
      ]
    },
    {
      "cell_type": "code",
      "metadata": {
        "id": "OyluflIJ-4En"
      },
      "source": [
        "y = data[y_cols]"
      ],
      "execution_count": 21,
      "outputs": []
    },
    {
      "cell_type": "code",
      "metadata": {
        "id": "oJK0YdhK_shv"
      },
      "source": [
        "def get_device():\n",
        "    if torch.cuda.is_available():\n",
        "        device = torch.device('cuda:0')\n",
        "    else:\n",
        "        device = torch.device('cpu') \n",
        "    return device"
      ],
      "execution_count": 22,
      "outputs": []
    },
    {
      "cell_type": "code",
      "metadata": {
        "id": "kPUjkih1-ZE_"
      },
      "source": [
        "def df_to_tensor(df):\n",
        "    device = get_device()\n",
        "    return torch.from_numpy(df.values).float().to(device)"
      ],
      "execution_count": 23,
      "outputs": []
    },
    {
      "cell_type": "code",
      "metadata": {
        "id": "2f2rMphs_gRg"
      },
      "source": [
        "targets = df_to_tensor(y)"
      ],
      "execution_count": 24,
      "outputs": []
    },
    {
      "cell_type": "code",
      "metadata": {
        "id": "Lww4FN2y_uLS",
        "outputId": "1daa2ef5-948c-4e62-81ad-1a96987e4f90",
        "colab": {
          "base_uri": "https://localhost:8080/"
        }
      },
      "source": [
        "targets"
      ],
      "execution_count": 25,
      "outputs": [
        {
          "output_type": "execute_result",
          "data": {
            "text/plain": [
              "tensor([[-9.0455e-01, -4.1775e-01,  2.3805e-05,  ...,  0.0000e+00,\n",
              "          0.0000e+00,  0.0000e+00],\n",
              "        [-9.1191e-01, -4.0213e-01,  2.3554e-05,  ...,  0.0000e+00,\n",
              "          0.0000e+00,  0.0000e+00],\n",
              "        [-9.1900e-01, -3.8638e-01,  2.3158e-05,  ...,  0.0000e+00,\n",
              "          0.0000e+00,  0.0000e+00],\n",
              "        ...,\n",
              "        [-8.2391e-01, -5.5570e-01,  2.9905e-05,  ...,  0.0000e+00,\n",
              "          0.0000e+00,  1.0000e+00],\n",
              "        [-8.3369e-01, -5.4142e-01,  2.9420e-05,  ...,  0.0000e+00,\n",
              "          0.0000e+00,  1.0000e+00],\n",
              "        [-8.6150e-01, -4.9759e-01,  2.6956e-05,  ...,  0.0000e+00,\n",
              "          0.0000e+00,  1.0000e+00]], device='cuda:0')"
            ]
          },
          "metadata": {
            "tags": []
          },
          "execution_count": 25
        }
      ]
    },
    {
      "cell_type": "code",
      "metadata": {
        "id": "AF2YOBIQADWC"
      },
      "source": [
        "x_cols = ['sentence']"
      ],
      "execution_count": 26,
      "outputs": []
    },
    {
      "cell_type": "code",
      "metadata": {
        "id": "1UD2Ym3zAWsN",
        "outputId": "2e3bb6a9-d2af-404d-a2ab-b386cc908b3c",
        "colab": {
          "base_uri": "https://localhost:8080/"
        }
      },
      "source": [
        "x_cols"
      ],
      "execution_count": 27,
      "outputs": [
        {
          "output_type": "execute_result",
          "data": {
            "text/plain": [
              "['sentence']"
            ]
          },
          "metadata": {
            "tags": []
          },
          "execution_count": 27
        }
      ]
    },
    {
      "cell_type": "code",
      "metadata": {
        "id": "xIRUOLXpOWc-"
      },
      "source": [
        "x_cols = ['sentence']"
      ],
      "execution_count": 28,
      "outputs": []
    },
    {
      "cell_type": "code",
      "metadata": {
        "id": "LFWp79OXOd1Q",
        "outputId": "d8671867-6fac-4981-c53e-b29c675a781d",
        "colab": {
          "base_uri": "https://localhost:8080/"
        }
      },
      "source": [
        "data[x_cols].values"
      ],
      "execution_count": 29,
      "outputs": [
        {
          "output_type": "execute_result",
          "data": {
            "text/plain": [
              "array([[array([-1.45803964,  1.08561456, -2.61732244,  0.31249788,  3.6280787 ,\n",
              "       -2.61232924, -5.83150244,  1.05586815, -0.07457191, -0.01311547,\n",
              "       -3.27058053,  0.32240713,  0.12138078,  3.97137547, -0.03816813,\n",
              "        2.7501235 , -1.0767113 , -1.02983463,  0.51102436,  3.89514518,\n",
              "       -2.77423477, -0.94586945,  2.07668042, -5.63616848,  2.45161843,\n",
              "       -0.25273716, -3.86158609,  2.44153237, -2.23870206, -2.56828976,\n",
              "       -1.30579281,  1.51927054,  1.36916149, -2.24898362, -4.16566277,\n",
              "       -0.5056724 , -4.09440517, -6.62296152,  2.9077065 ,  0.91330194,\n",
              "       -1.54240286, -0.16582775, -2.4099226 ,  1.12863398,  3.00414133,\n",
              "        0.07415885, -1.11876321, -1.80352569, -1.36433876, -3.17386675])],\n",
              "       [array([-3.38487291,  3.23545766, -0.33986923,  0.74598098,  3.06837368,\n",
              "       -0.68221319, -3.49436283,  1.04541659, -2.86087251, -0.11893424,\n",
              "       -4.55145311, -1.21118081,  0.75547391,  4.28840637, -0.92231905,\n",
              "        2.72595596,  1.61777139,  0.3137697 ,  2.21910429,  2.74712372,\n",
              "       -3.72787571, -0.55801433,  1.17948997, -3.62694931,  1.24137044,\n",
              "        0.22209398, -0.53289819,  1.36350989, -3.02498198,  0.85834908,\n",
              "       -0.90183824,  0.60955667, -1.08758247, -3.05693984, -1.51018918,\n",
              "       -1.36925483, -0.75358939, -6.36529827,  0.89361399, -2.1266222 ,\n",
              "        1.62714016, -1.1351763 ,  0.70663142,  1.19290996,  1.0710907 ,\n",
              "       -0.24232864,  0.22560814, -3.07667875, -3.52305937, -2.8328054 ])],\n",
              "       [array([-2.12094378,  1.8139745 , -1.01357865,  0.04209712,  2.88964248,\n",
              "        0.43569171, -5.39209414, -0.57824337, -2.54706836, -0.73955625,\n",
              "       -4.53844404, -1.87051392,  0.81760448,  3.42804861, -0.24175501,\n",
              "        0.12570229, -1.05677426, -0.89510089,  1.91704404,  0.91292465,\n",
              "       -3.65758061, -0.26681104,  1.2795434 , -4.88222599,  2.92672133,\n",
              "       -1.14643788, -2.66693878,  0.98369062, -5.1540699 , -1.69807661,\n",
              "       -1.39641869, -0.82209992, -2.6036191 , -0.76222956, -3.52249694,\n",
              "       -1.8115325 , -3.23830104, -5.34244585,  0.33405778, -2.51593375,\n",
              "       -2.61113429, -2.32792521,  0.54235619,  0.91046792,  1.45658743,\n",
              "       -1.15233421,  0.86005402, -2.72285223, -1.25698185, -3.05837417])],\n",
              "       ...,\n",
              "       [array([-3.44622231,  1.10938632, -1.69042397, -0.70500624,  3.12569046,\n",
              "       -1.51857913, -2.8770709 , -0.31509927, -2.83000469,  0.47778684,\n",
              "       -1.9583801 , -0.04757202,  1.66418982,  5.37464714,  0.8391065 ,\n",
              "       -1.79319191,  1.42969286,  0.05127439,  0.26801947, -1.42752242,\n",
              "       -2.68935251, -1.74989033,  0.99630499, -4.97561455,  1.9235357 ,\n",
              "        0.10572585,  0.08695221, -2.7441349 , -2.64307952,  0.08289081,\n",
              "       -3.21790099,  1.89540052,  0.43320867, -1.09472919, -3.8803153 ,\n",
              "        1.21587992, -3.38211155, -2.55190682,  2.7547245 ,  0.56950808,\n",
              "       -1.10280621, -0.3936398 ,  1.94452286,  4.63575935,  0.83809352,\n",
              "        0.68553948,  1.28030419, -2.87663651, -1.54794097, -3.5189817 ])],\n",
              "       [array([-4.07146454,  1.98398495, -0.74710482,  0.99641085,  2.88123822,\n",
              "       -0.24062745, -0.29102254,  0.38850373, -2.12965012,  3.00009727,\n",
              "       -1.46808827,  1.2980814 , -0.39454633,  2.71102142, -0.87234503,\n",
              "       -0.92499191, -1.13210905, -1.2995615 ,  1.67428422,  0.17846489,\n",
              "       -1.81329775, -1.10361278, -1.45181859, -5.33346081,  2.07973194,\n",
              "       -0.24230479, -0.05018321, -0.82141382, -2.52344632,  0.23804858,\n",
              "       -2.65600586,  0.38925895,  1.93776202, -0.61598599, -1.86327541,\n",
              "        1.49882817, -3.03439522, -6.16897392, -0.02201176, -1.16063619,\n",
              "       -1.35564184, -2.83138084,  1.22251678,  1.3076551 ,  1.36050463,\n",
              "       -0.88384902,  2.82552361, -0.11085257, -0.8191812 , -3.33398938])],\n",
              "       [array([-3.40640831,  1.08171248,  1.28549016,  2.71715665,  2.13622069,\n",
              "       -0.68066776, -3.6431613 , -1.34211564,  0.10511059, -0.18621761,\n",
              "       -3.92398477, -0.1076152 ,  2.44585562,  3.44434905, -0.97124082,\n",
              "       -0.8210749 , -0.61984736, -1.69437325,  1.28003967, -0.88985932,\n",
              "       -4.57304859, -0.81378293, -0.89108181, -4.13436604,  1.58125734,\n",
              "       -0.55892646, -1.21622097, -2.54035139, -1.52028894, -0.21010613,\n",
              "       -1.61455452,  0.91271156,  2.18895936, -0.11778438, -4.19828129,\n",
              "       -1.38913071, -0.73637813, -4.57588005,  3.23304486, -0.51499355,\n",
              "       -1.09416389, -1.57502961,  0.01964489,  2.06795955,  2.47253799,\n",
              "        0.14190122,  3.13199472, -0.29742029, -2.58071733, -0.84794623])]],\n",
              "      dtype=object)"
            ]
          },
          "metadata": {
            "tags": []
          },
          "execution_count": 29
        }
      ]
    },
    {
      "cell_type": "code",
      "metadata": {
        "id": "3ytjI7_sBGsY"
      },
      "source": [
        "float_arr = np.vstack(data['sentence'].values).astype(np.float)"
      ],
      "execution_count": 30,
      "outputs": []
    },
    {
      "cell_type": "code",
      "metadata": {
        "id": "g2NyCnLgCWpp",
        "outputId": "915eb88a-29bc-419a-984a-972390fc3b68",
        "colab": {
          "base_uri": "https://localhost:8080/"
        }
      },
      "source": [
        "float_arr"
      ],
      "execution_count": 31,
      "outputs": [
        {
          "output_type": "execute_result",
          "data": {
            "text/plain": [
              "array([[-1.45803964,  1.08561456, -2.61732244, ..., -1.80352569,\n",
              "        -1.36433876, -3.17386675],\n",
              "       [-3.38487291,  3.23545766, -0.33986923, ..., -3.07667875,\n",
              "        -3.52305937, -2.8328054 ],\n",
              "       [-2.12094378,  1.8139745 , -1.01357865, ..., -2.72285223,\n",
              "        -1.25698185, -3.05837417],\n",
              "       ...,\n",
              "       [-3.44622231,  1.10938632, -1.69042397, ..., -2.87663651,\n",
              "        -1.54794097, -3.5189817 ],\n",
              "       [-4.07146454,  1.98398495, -0.74710482, ..., -0.11085257,\n",
              "        -0.8191812 , -3.33398938],\n",
              "       [-3.40640831,  1.08171248,  1.28549016, ..., -0.29742029,\n",
              "        -2.58071733, -0.84794623]])"
            ]
          },
          "metadata": {
            "tags": []
          },
          "execution_count": 31
        }
      ]
    },
    {
      "cell_type": "code",
      "metadata": {
        "id": "gcdNvg2cA35P"
      },
      "source": [
        "inps_1= torch.tensor(float_arr,dtype=torch.float32)"
      ],
      "execution_count": 32,
      "outputs": []
    },
    {
      "cell_type": "code",
      "metadata": {
        "id": "A3Ya-U13C4FZ"
      },
      "source": [
        "# float_arr_2 = np.vstack((data['start_num_2'].values)).astype(np.float)"
      ],
      "execution_count": 33,
      "outputs": []
    },
    {
      "cell_type": "code",
      "metadata": {
        "id": "bl46naoCC_Jk"
      },
      "source": [
        "# inps_2 = torch.tensor(float_arr_2,dtype=torch.float32)"
      ],
      "execution_count": 34,
      "outputs": []
    },
    {
      "cell_type": "code",
      "metadata": {
        "id": "anifduqRDCpF"
      },
      "source": [
        "# inps = torch.cat((inps_1,inps_2),dim=-1)"
      ],
      "execution_count": 35,
      "outputs": []
    },
    {
      "cell_type": "code",
      "metadata": {
        "id": "MbbBe3G7Jmfc"
      },
      "source": [
        "# len(data[x_cols[0]][0])"
      ],
      "execution_count": 36,
      "outputs": []
    },
    {
      "cell_type": "code",
      "metadata": {
        "id": "Wr95276HK5QI",
        "outputId": "25400a78-8cc2-45d1-a167-4412a856bbd3",
        "colab": {
          "base_uri": "https://localhost:8080/"
        }
      },
      "source": [
        "data.columns"
      ],
      "execution_count": 37,
      "outputs": [
        {
          "output_type": "execute_result",
          "data": {
            "text/plain": [
              "Index(['Unnamed: 0', 'start', 'Sun_x', 'Sun_y', 'Sun_z', 'Sun_vx', 'Sun_vy',\n",
              "       'Sun_vz', 'Sun_l', 'Sun_ry',\n",
              "       ...\n",
              "       'Козерог_cls', 'Водолей_cls', 'Рыбы_cls', 'start_num', 'start_num_1',\n",
              "       'start_num_2', 'start_num_3', 'start_num_4', 'start_num_5', 'sentence'],\n",
              "      dtype='object', length=102)"
            ]
          },
          "metadata": {
            "tags": []
          },
          "execution_count": 37
        }
      ]
    },
    {
      "cell_type": "code",
      "metadata": {
        "id": "vMklM2NVKR7u",
        "outputId": "e79fdaeb-a4ad-4538-c61b-5f2e4b450851",
        "colab": {
          "base_uri": "https://localhost:8080/"
        }
      },
      "source": [
        "targets.shape"
      ],
      "execution_count": 38,
      "outputs": [
        {
          "output_type": "execute_result",
          "data": {
            "text/plain": [
              "torch.Size([3714, 93])"
            ]
          },
          "metadata": {
            "tags": []
          },
          "execution_count": 38
        }
      ]
    },
    {
      "cell_type": "code",
      "metadata": {
        "id": "34_edIsnDNl0",
        "outputId": "0059873b-1c14-41ea-d12a-8f4cd7e36747",
        "colab": {
          "base_uri": "https://localhost:8080/"
        }
      },
      "source": [
        "inps_1.shape"
      ],
      "execution_count": 39,
      "outputs": [
        {
          "output_type": "execute_result",
          "data": {
            "text/plain": [
              "torch.Size([3714, 50])"
            ]
          },
          "metadata": {
            "tags": []
          },
          "execution_count": 39
        }
      ]
    },
    {
      "cell_type": "code",
      "metadata": {
        "id": "lnOGCX308qB8"
      },
      "source": [
        "LATENT_DIM = 8"
      ],
      "execution_count": 40,
      "outputs": []
    },
    {
      "cell_type": "code",
      "metadata": {
        "id": "0VvC-4Hd81hH"
      },
      "source": [
        "input_size = len(y_cols)"
      ],
      "execution_count": 41,
      "outputs": []
    },
    {
      "cell_type": "code",
      "metadata": {
        "id": "kAkFqS2Y9Tfk",
        "outputId": "e630254f-bb13-4270-8ff0-f5fa1362623b",
        "colab": {
          "base_uri": "https://localhost:8080/"
        }
      },
      "source": [
        "input_size"
      ],
      "execution_count": 42,
      "outputs": [
        {
          "output_type": "execute_result",
          "data": {
            "text/plain": [
              "93"
            ]
          },
          "metadata": {
            "tags": []
          },
          "execution_count": 42
        }
      ]
    },
    {
      "cell_type": "code",
      "metadata": {
        "id": "uPkrWfXiPOjM"
      },
      "source": [
        "sent_len = 1"
      ],
      "execution_count": 43,
      "outputs": []
    },
    {
      "cell_type": "code",
      "metadata": {
        "id": "m8vkGihe9cVv"
      },
      "source": [
        "output_size = sent_len * model_size"
      ],
      "execution_count": 44,
      "outputs": []
    },
    {
      "cell_type": "code",
      "metadata": {
        "id": "YcOb4lS19kSW",
        "outputId": "b2c0310c-1cdf-4c14-b215-5fde364f11be",
        "colab": {
          "base_uri": "https://localhost:8080/"
        }
      },
      "source": [
        "output_size"
      ],
      "execution_count": 45,
      "outputs": [
        {
          "output_type": "execute_result",
          "data": {
            "text/plain": [
              "50"
            ]
          },
          "metadata": {
            "tags": []
          },
          "execution_count": 45
        }
      ]
    },
    {
      "cell_type": "code",
      "metadata": {
        "id": "47w8rd2z8xrj"
      },
      "source": [
        "gen = nn.Sequential(nn.Linear(input_size + LATENT_DIM, 128), nn.LeakyReLU(),\n",
        "                    nn.Linear(128, 128), nn.LeakyReLU(),\n",
        "                    nn.Linear(128, 64), nn.LeakyReLU(),\n",
        "                    nn.Linear(64, 64), nn.LeakyReLU(),\n",
        "                    nn.Linear(64, output_size)).cuda()\n",
        "gen_opt = torch.optim.AdamW(gen.parameters(), lr=1e-2)\n",
        "gen_scheduler = torch.optim.lr_scheduler.MultiStepLR(gen_opt, milestones=[30000, 50000], gamma=0.1)"
      ],
      "execution_count": 187,
      "outputs": []
    },
    {
      "cell_type": "code",
      "metadata": {
        "id": "0PPsgj269xnV"
      },
      "source": [
        "disc = nn.Sequential(nn.Linear(input_size + output_size, 128), nn.LeakyReLU(),\n",
        "                     nn.Linear(128, 64), nn.LeakyReLU(),\n",
        "                     nn.Linear(64, 64), nn.LeakyReLU(),\n",
        "                     nn.Linear(64, 1)).cuda()\n",
        "\n",
        "disc_opt = torch.optim.AdamW(disc.parameters(), lr=1e-2)\n",
        "disc_scheduler = torch.optim.lr_scheduler.MultiStepLR(disc_opt, milestones=[40000, 60000], gamma=0.1)"
      ],
      "execution_count": 188,
      "outputs": []
    },
    {
      "cell_type": "code",
      "metadata": {
        "id": "HgYMrWDCDvWq"
      },
      "source": [
        "dataset = TensorDataset(inps_1, targets)"
      ],
      "execution_count": 189,
      "outputs": []
    },
    {
      "cell_type": "code",
      "metadata": {
        "id": "EGEBixlKEHfI"
      },
      "source": [
        "train, test = train_test_split(dataset, test_size=0.1, random_state=124124)"
      ],
      "execution_count": 190,
      "outputs": []
    },
    {
      "cell_type": "code",
      "metadata": {
        "id": "465ZApMpe772"
      },
      "source": [
        "#train = dataset"
      ],
      "execution_count": 191,
      "outputs": []
    },
    {
      "cell_type": "code",
      "metadata": {
        "id": "TXRNwNU4-HXz"
      },
      "source": [
        "TRAIN_BATCH_SIZE = 4"
      ],
      "execution_count": 192,
      "outputs": []
    },
    {
      "cell_type": "code",
      "metadata": {
        "id": "0r7ba3xe-A-J"
      },
      "source": [
        "def sample_real_data(batch_size):\n",
        "  while True:\n",
        "    dataloader = torch.utils.data.DataLoader(train, batch_size=batch_size,\n",
        "                                             shuffle=True, drop_last=True)\n",
        "    for batch in dataloader:\n",
        "        yield batch\n"
      ],
      "execution_count": 193,
      "outputs": []
    },
    {
      "cell_type": "code",
      "metadata": {
        "id": "wVdI0kUf-JIw"
      },
      "source": [
        "infinite_data = sample_real_data(TRAIN_BATCH_SIZE)"
      ],
      "execution_count": 194,
      "outputs": []
    },
    {
      "cell_type": "code",
      "metadata": {
        "id": "UAfWOo-eERhy"
      },
      "source": [
        "def sample_gen_data(y):\n",
        "    noise = torch.randn(y.shape[0], LATENT_DIM, dtype=torch.float32, device=\"cuda\")\n",
        "    return torch.cat((gen(torch.cat((noise, y), dim=1)), y), dim=1)"
      ],
      "execution_count": 195,
      "outputs": []
    },
    {
      "cell_type": "code",
      "metadata": {
        "id": "XeVlC_iTJRt-"
      },
      "source": [
        "def calc_gradient_penalty_classic(critic:torch.nn.Module,\n",
        "                                  real_data:torch.Tensor,\n",
        "                                  fake_data:torch.Tensor):\n",
        "    assert real_data.shape == fake_data.shape\n",
        "    alpha = torch.rand(real_data.shape[0], 1)\n",
        "    alpha = alpha.expand(real_data.size()).cuda()\n",
        "\n",
        "    interpolates = (alpha * real_data + ((1 - alpha) * fake_data)).cuda()\n",
        "    interpolates = torch.autograd.Variable(interpolates, requires_grad=True)\n",
        "\n",
        "    disc_interpolates = critic(interpolates)\n",
        "\n",
        "    gradients = torch.autograd.grad(\n",
        "      outputs=disc_interpolates, inputs=interpolates,\n",
        "      grad_outputs=torch.ones(disc_interpolates.size(), device=\"cuda\"),\n",
        "      create_graph=True, retain_graph=True, only_inputs=True)[0]\n",
        "\n",
        "    gradient_penalty = ((gradients.norm(2, dim=1) - 1) ** 2).mean()\n",
        "    return gradient_penalty"
      ],
      "execution_count": 196,
      "outputs": []
    },
    {
      "cell_type": "code",
      "metadata": {
        "id": "0PF9KgCQJUiv"
      },
      "source": [
        "LAMBDA = 1.\n",
        "def train_disc(gan_type=\"WGAN-GP\"):\n",
        "   \n",
        "    real_img, real_target = next(infinite_data) \n",
        "    real_img=real_img.to('cuda')\n",
        "    real_target=real_target.to('cuda')\n",
        "    y_gen = next(infinite_data)[1].to(\"cuda\")\n",
        "    gen_data = sample_gen_data(y_gen)\n",
        "    real_data = torch.cat([real_img,real_target],dim = -1).to(\"cuda\")\n",
        "\n",
        "    if gan_type == \"JS\":\n",
        "        logp_real_is_real = F.logsigmoid(disc(real_data))\n",
        "        logp_gen_is_fake = F.logsigmoid(-disc(gen_data))\n",
        "        disc_loss = -logp_real_is_real.mean() - logp_gen_is_fake.mean()\n",
        "    elif gan_type == \"WGAN-GP\":\n",
        "        disc_loss = disc(real_data).mean() - disc(gen_data).mean() + \\\n",
        "                  calc_gradient_penalty_classic(disc, real_data, gen_data)*LAMBDA\n",
        "    else:\n",
        "        raise ValueError(\"Unknown GAN type. Valid ones are: JS, WGAN-GP\")\n",
        "\n",
        "    disc_opt.zero_grad()\n",
        "    disc_loss.backward()\n",
        "    disc_opt.step()\n",
        "    return disc_loss"
      ],
      "execution_count": 197,
      "outputs": []
    },
    {
      "cell_type": "code",
      "metadata": {
        "id": "Oj1aIXwJJXbV"
      },
      "source": [
        "def train_gen(gan_type=\"WGAN-GP\"):\n",
        "    real_data_y = next(infinite_data)[1].to(\"cuda\")\n",
        "    gen_data = sample_gen_data(real_data_y)\n",
        "\n",
        "    if gan_type == \"JS\":\n",
        "        logp_gen_is_real = F.logsigmoid(disc(gen_data))\n",
        "        gen_loss = -logp_gen_is_real.mean()\n",
        "    elif gan_type == \"WGAN-GP\":\n",
        "        gen_loss = disc(gen_data).mean()\n",
        "    gen_opt.zero_grad()\n",
        "    gen_loss.backward()\n",
        "    gen_opt.step()\n",
        "    return gen_loss"
      ],
      "execution_count": 198,
      "outputs": []
    },
    {
      "cell_type": "code",
      "metadata": {
        "id": "NCftsiPgJgMb"
      },
      "source": [
        "RESULTS_PATH = '/content/gdrive/My Drive/MADE_graduation_project_ML_horoscopes/GANs_results/GAN50_Lin_Lin_SentBySent_eval/'"
      ],
      "execution_count": 5,
      "outputs": []
    },
    {
      "cell_type": "code",
      "metadata": {
        "id": "cYAkSqHYJZa0"
      },
      "source": [
        "TENSORBOARD_LOGDIR = RESULTS_PATH + \"logs/\"\n",
        "summary_writer = SummaryWriter(log_dir=TENSORBOARD_LOGDIR)\n",
        "local_writer = SummaryWriter(log_dir=\"./logs\")\n",
        "eval_writer = SummaryWriter(log_dir= TENSORBOARD_LOGDIR + \"dists/\")\n",
        "eval_writer_local = SummaryWriter(log_dir= TENSORBOARD_LOGDIR + \"./logs/dists/\")"
      ],
      "execution_count": 200,
      "outputs": []
    },
    {
      "cell_type": "code",
      "metadata": {
        "id": "ZytOemt1-wxW"
      },
      "source": [
        "def sample_test_data(test):\n",
        "  while True:\n",
        "    dataloader = torch.utils.data.DataLoader(test, batch_size=len(test),\n",
        "                                             shuffle=False, drop_last=True)\n",
        "    for batch in dataloader:\n",
        "        yield batch"
      ],
      "execution_count": 201,
      "outputs": []
    },
    {
      "cell_type": "code",
      "metadata": {
        "id": "z9Y1KTzD-hkm"
      },
      "source": [
        "test_data = sample_test_data(test)"
      ],
      "execution_count": 89,
      "outputs": []
    },
    {
      "cell_type": "code",
      "metadata": {
        "id": "vgf8-H3Y9I6s"
      },
      "source": [
        "def eval_dist(top = 3):\n",
        "  gen.eval()\n",
        "  xs_real,ys_real = next(test_data)\n",
        "  xs_gen = sample_gen_data(ys_real.to('cuda'))[:,:output_size]\n",
        "  dist = torch.cdist(xs_real.cuda(),xs_gen).mean().item()\n",
        "  similars = []\n",
        "  for x in xs_gen:\n",
        "    d = kv_50.similar_by_vector(np.array(x.data.tolist()))\n",
        "    ds = []\n",
        "    for i in range(top):\n",
        "      ds.append(d[i][1])\n",
        "    similars.append(ds)\n",
        "  a,b,c = np.array(similars).mean(axis = 0)\n",
        "  gen.train()\n",
        "  return dist, a,b,c"
      ],
      "execution_count": 202,
      "outputs": []
    },
    {
      "cell_type": "code",
      "metadata": {
        "id": "YK45CH6_MDmj",
        "outputId": "0bf4f15b-a2c8-4181-83cb-de4e30bd2c52",
        "colab": {
          "base_uri": "https://localhost:8080/"
        }
      },
      "source": [
        "eval_dist()"
      ],
      "execution_count": 203,
      "outputs": [
        {
          "output_type": "stream",
          "text": [
            "/usr/local/lib/python3.6/dist-packages/gensim/matutils.py:737: FutureWarning: Conversion of the second argument of issubdtype from `int` to `np.signedinteger` is deprecated. In future, it will be treated as `np.int64 == np.dtype(int).type`.\n",
            "  if np.issubdtype(vec.dtype, np.int):\n"
          ],
          "name": "stderr"
        },
        {
          "output_type": "execute_result",
          "data": {
            "text/plain": [
              "(16.50670623779297,\n",
              " 0.31969824096848887,\n",
              " 0.29777792929321206,\n",
              " 0.29432836142919394)"
            ]
          },
          "metadata": {
            "tags": []
          },
          "execution_count": 203
        }
      ]
    },
    {
      "cell_type": "code",
      "metadata": {
        "id": "EYBMViTNPwyQ"
      },
      "source": [
        "def show_gen_text(sample_size = 1):  \n",
        "  x_real,y_real = next(sample_real_data(sample_size))\n",
        "  x_gen = sample_gen_data(y_real.to('cuda'))\n",
        "  real = []\n",
        "  generated = []\n",
        "  for i in range(sample_size):\n",
        "    print('Реальный текст:')\n",
        "    real_text = kv_50.similar_by_vector(np.array(x_real[i]))[0][0]\n",
        "    print(real_text)\n",
        "    real.append(real_text)\n",
        "    print('Сгенерированный текст:')\n",
        "    b = np.array(x_gen[i][:50].tolist())\n",
        "    gen_text = kv_50.similar_by_vector(b)\n",
        "    for text in gen_text:\n",
        "      print(text[0])\n",
        "    generated.append(gen_text)\n",
        "    print('\\n')\n",
        "  return real, generated"
      ],
      "execution_count": 204,
      "outputs": []
    },
    {
      "cell_type": "code",
      "metadata": {
        "id": "Mh_owAEgQb_N",
        "outputId": "2eace987-2f1c-4938-945d-da7f6dd8f0e5",
        "colab": {
          "base_uri": "https://localhost:8080/"
        }
      },
      "source": [
        "show_gen_text()"
      ],
      "execution_count": null,
      "outputs": [
        {
          "output_type": "stream",
          "text": [
            "Реальный текст:\n",
            "вы хорошо знаете к чему\n",
            "Сгенерированный текст:\n",
            "переживаний и волнений будет много\n",
            "будет много волнений и забот\n",
            "появляется много новых идей каждая\n",
            "дел и забот будет много\n",
            "дел будет много но вряд\n",
            "будет много интересных но довольно\n",
            "появляется много новых идей но\n",
            "появляется много хороших идей реализовать\n",
            "привычные дела быстро начинают казаться\n",
            "избежать волнений и переживаний едва\n",
            "\n",
            "\n"
          ],
          "name": "stdout"
        },
        {
          "output_type": "stream",
          "text": [
            "/usr/local/lib/python3.6/dist-packages/gensim/matutils.py:737: FutureWarning: Conversion of the second argument of issubdtype from `int` to `np.signedinteger` is deprecated. In future, it will be treated as `np.int64 == np.dtype(int).type`.\n",
            "  if np.issubdtype(vec.dtype, np.int):\n"
          ],
          "name": "stderr"
        },
        {
          "output_type": "execute_result",
          "data": {
            "text/plain": [
              "(['вы хорошо знаете к чему'],\n",
              " [[('переживаний и волнений будет много', 0.11546826362609863),\n",
              "   ('будет много волнений и забот', 0.11428096890449524),\n",
              "   ('появляется много новых идей каждая', 0.06568700075149536),\n",
              "   ('дел и забот будет много', 0.0539109967648983),\n",
              "   ('дел будет много но вряд', 0.050193216651678085),\n",
              "   ('будет много интересных но довольно', 0.040719807147979736),\n",
              "   ('появляется много новых идей но', 0.04030922055244446),\n",
              "   ('появляется много хороших идей реализовать', 0.038583334535360336),\n",
              "   ('привычные дела быстро начинают казаться', 0.031552694737911224),\n",
              "   ('избежать волнений и переживаний едва', 0.026828650385141373)]])"
            ]
          },
          "metadata": {
            "tags": []
          },
          "execution_count": 64
        }
      ]
    },
    {
      "cell_type": "code",
      "metadata": {
        "id": "yr950V6iJx40",
        "outputId": "5e2c1d5a-2c1b-4733-8ec1-e986c4179b73",
        "colab": {
          "base_uri": "https://localhost:8080/"
        }
      },
      "source": [
        "DISCRIMINATOR_ITERATIONS_PER_GENEREATOR = 5\n",
        "VALIDATION_INTERVAL = 5000\n",
        "SAVE_INTERVAL = 25000\n",
        "EVAL_INTERVAL = 1000\n",
        "gen.train()\n",
        "for i in range(1000001):\n",
        "    for _ in range(DISCRIMINATOR_ITERATIONS_PER_GENEREATOR):\n",
        "        disc_loss_this_iter = train_disc()\n",
        "\n",
        "    gen_loss_this_iter = train_gen()\n",
        "    gen_scheduler.step()\n",
        "    disc_scheduler.step()\n",
        "    summary_writer.add_scalar(\"discriminator loss\", disc_loss_this_iter,\n",
        "                              global_step=i)\n",
        "    summary_writer.add_scalar(\"generator loss\", gen_loss_this_iter,\n",
        "                              global_step=i)\n",
        "    local_writer.add_scalar(\"discriminator loss\", disc_loss_this_iter,\n",
        "                              global_step=i)\n",
        "    local_writer.add_scalar(\"generator loss\", gen_loss_this_iter,\n",
        "                              global_step=i)\n",
        "    if i % EVAL_INTERVAL == 0 and i > 0:\n",
        "      dist_1, dist_2,dist_3,dist_4 = eval_dist()\n",
        "      eval_writer.add_scalar(\"Mean distance\", dist_1,\n",
        "                              global_step=i)\n",
        "      eval_writer.add_scalar(\"Top 1 distance\", dist_2,\n",
        "                              global_step=i)\n",
        "      eval_writer.add_scalar(\"Top 2 distance\", dist_3,\n",
        "                              global_step=i)\n",
        "      eval_writer.add_scalar(\"Top 3 distance\", dist_4,\n",
        "                              global_step=i)\n",
        "      eval_writer_local.add_scalar(\"Mean distance\", dist_1,\n",
        "                              global_step=i)\n",
        "      eval_writer_local.add_scalar(\"Top 1 distance\", dist_2,\n",
        "                              global_step=i)\n",
        "      eval_writer_local.add_scalar(\"Top 2 distance\", dist_3,\n",
        "                              global_step=i)\n",
        "      eval_writer_local.add_scalar(\"Top 3 distance\", dist_4,\n",
        "                              global_step=i) \n",
        "    if i % VALIDATION_INTERVAL == 0 and i > 0:\n",
        "      clear_output(True)\n",
        "      print('Iter = ', i, 'D Loss = ', disc_loss_this_iter, 'G Loss = ', gen_loss_this_iter)\n",
        "      show_gen_text(4)\n",
        "    if i % SAVE_INTERVAL == 0 and i > 0:\n",
        "      torch.save({'gen_state_dict': gen.state_dict(),\n",
        "            'optimizer_state_dict': gen_opt.state_dict(),\n",
        "            }, RESULTS_PATH + 'gen_'+ str(i))\n",
        "      torch.save({'disc_state_dict': disc.state_dict(),\n",
        "            'optimizer_state_dict': disc_opt.state_dict(),\n",
        "            }, RESULTS_PATH + 'opt_'+ str(i))\n",
        "      temp_df = pd.DataFrame(show_gen_text(20)).transpose()\n",
        "      temp_df.columns = ['real', 'generated_sentence']\n",
        "      temp_df.to_csv(RESULTS_PATH + 'texts_' + str(i) + '.csv')\n",
        "\n",
        "      "
      ],
      "execution_count": null,
      "outputs": [
        {
          "output_type": "stream",
          "text": [
            "Iter =  890000 D Loss =  tensor(-5.7950, device='cuda:0', grad_fn=<AddBackward0>) G Loss =  tensor(-0.1726, device='cuda:0', grad_fn=<MeanBackward0>)\n",
            "Реальный текст:\n",
            "первая половина дня складывается удачно\n",
            "Сгенерированный текст:\n",
            "неоднозначный день но точно не\n",
            "напряженный но не безнадежный день\n",
            "день складывается непросто не всегда\n",
            "день не лишен трудностей но\n",
            "день не лишен трудностей но\n",
            "день не лишен трудностей но\n",
            "день не лишен трудностей но\n",
            "день не лишен трудностей но\n",
            "день не лишен трудностей но\n",
            "день не лишен трудностей но\n",
            "\n",
            "\n",
            "Реальный текст:\n",
            "насыщенный день который позволяет добиться\n",
            "Сгенерированный текст:\n",
            "старайтесь сохранять спокойствие сегодня это\n",
            "старайтесь сохранять спокойствие сегодня это\n",
            "трудно сохранять самообладание сегодня любой\n",
            "нелегко сохранять спокойствие вы возмущаетесь\n",
            "старайтесь сохранять самообладание хоть это\n",
            "старайтесь сохранять самообладание если вы\n",
            "старайтесь сохранять спокойствие даже если\n",
            "нелегко сохранять спокойствие особенно в\n",
            "нелегко сохранять спокойствие особенно в\n",
            "важно сохранять самообладание если вам\n",
            "\n",
            "\n",
            "Реальный текст:\n",
            "будьте осторожны и старайтесь не\n",
            "Сгенерированный текст:\n",
            "благоприятный день с деловой точки\n",
            "благоприятный день с деловой точки\n",
            "благоприятный день с деловой точки\n",
            "сложный день с деловой точки\n",
            "отличный день с деловой точки\n",
            "благоприятный день с финансовой точки\n",
            "благоприятный день с финансовой точки\n",
            "благоприятный день с финансовой точки\n",
            "удачный день с точки зрения\n",
            "удачный день с точки зрения\n",
            "\n",
            "\n",
            "Реальный текст:\n",
            "благоприятный день интересный и многообещающий\n",
            "Сгенерированный текст:\n",
            "день будет беспокойным и насыщенным\n",
            "день будет непростым и довольно\n",
            "день складывается удачно и открывает\n",
            "день будет насыщенным и довольно\n",
            "день будет насыщенным и довольно\n",
            "день будет насыщенным и довольно\n",
            "день будет беспокойным и довольно\n",
            "день будет противоречивым беспокойным и\n",
            "день складывается удачно и обещает\n",
            "день будет интересным и насыщенным\n",
            "\n",
            "\n"
          ],
          "name": "stdout"
        }
      ]
    },
    {
      "cell_type": "code",
      "metadata": {
        "id": "ishqUEwB6i-t"
      },
      "source": [
        "%load_ext tensorboard"
      ],
      "execution_count": 6,
      "outputs": []
    },
    {
      "cell_type": "code",
      "metadata": {
        "id": "o63NDSfVoXAa"
      },
      "source": [
        "#test"
      ],
      "execution_count": 11,
      "outputs": []
    },
    {
      "cell_type": "code",
      "metadata": {
        "id": "7d4n4Mg2bwvo"
      },
      "source": [
        "gen_load = nn.Sequential(nn.Linear(input_size + LATENT_DIM, 128), nn.LeakyReLU(),\n",
        "                    nn.Linear(128, 64), nn.LeakyReLU(),\n",
        "                    nn.Linear(64, 64), nn.LeakyReLU(),\n",
        "                    nn.Linear(64, 64), nn.LeakyReLU(),\n",
        "                    nn.Linear(64, output_size)).cuda()"
      ],
      "execution_count": null,
      "outputs": []
    },
    {
      "cell_type": "code",
      "metadata": {
        "id": "3yC4KAtQnqoH",
        "outputId": "08915439-6c50-45bb-a14e-dd83e3654621",
        "colab": {
          "base_uri": "https://localhost:8080/"
        }
      },
      "source": [
        "gen_load.load_state_dict(torch.load(RESULTS_PATH + 'gen_'+ str(i))['gen_state_dict']) # test"
      ],
      "execution_count": null,
      "outputs": [
        {
          "output_type": "execute_result",
          "data": {
            "text/plain": [
              "<All keys matched successfully>"
            ]
          },
          "metadata": {
            "tags": []
          },
          "execution_count": 112
        }
      ]
    },
    {
      "cell_type": "code",
      "metadata": {
        "id": "kZ_jrq-ooNTe"
      },
      "source": [
        ""
      ],
      "execution_count": null,
      "outputs": []
    }
  ]
}