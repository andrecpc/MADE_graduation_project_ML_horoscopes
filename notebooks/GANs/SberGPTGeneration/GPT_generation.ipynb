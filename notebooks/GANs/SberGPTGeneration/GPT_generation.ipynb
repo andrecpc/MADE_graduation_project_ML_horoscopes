{
 "cells": [
  {
   "cell_type": "code",
   "execution_count": 31,
   "metadata": {
    "id": "I-Zx_KnBsE-W"
   },
   "outputs": [],
   "source": [
    "import torch\n",
    "import torch.nn as nn\n",
    "import pickle\n",
    "import numpy as np\n",
    "from gensim.models.keyedvectors import WordEmbeddingsKeyedVectors"
   ]
  },
  {
   "cell_type": "code",
   "execution_count": 17,
   "metadata": {
    "id": "9fcthfB0S_Oa"
   },
   "outputs": [],
   "source": [
    "def get_device():\n",
    "    if torch.cuda.is_available():\n",
    "        device = torch.device('cuda:0')\n",
    "    else:\n",
    "        device = torch.device('cpu') \n",
    "    return device"
   ]
  },
  {
   "cell_type": "code",
   "execution_count": 18,
   "metadata": {
    "id": "MpQuPa14TAte"
   },
   "outputs": [],
   "source": [
    "device = get_device()"
   ]
  },
  {
   "cell_type": "code",
   "execution_count": 2,
   "metadata": {
    "colab": {
     "base_uri": "https://localhost:8080/"
    },
    "id": "5RcPsyYRqZ62",
    "outputId": "28e39419-dcbe-4043-ccaa-598b0edd8be5"
   },
   "outputs": [
    {
     "name": "stdout",
     "output_type": "stream",
     "text": [
      "Mounted at /content/gdrive\n"
     ]
    }
   ],
   "source": [
    "from google.colab import drive\n",
    "drive.mount('/content/gdrive')"
   ]
  },
  {
   "cell_type": "code",
   "execution_count": 3,
   "metadata": {
    "id": "VWk_Cl9qn0O-"
   },
   "outputs": [],
   "source": [
    "#!wget https://raw.githubusercontent.com/sberbank-ai/ru-gpts/master/generate_transformers.py"
   ]
  },
  {
   "cell_type": "code",
   "execution_count": 3,
   "metadata": {
    "colab": {
     "base_uri": "https://localhost:8080/"
    },
    "id": "5yzxF35lAZZ1",
    "outputId": "bce8579f-deca-47ab-8d77-de8a7a78881e"
   },
   "outputs": [
    {
     "name": "stdout",
     "output_type": "stream",
     "text": [
      "Collecting urllib3==1.25.4\n",
      "\u001b[?25l  Downloading https://files.pythonhosted.org/packages/91/0d/7777358f672a14b7ae0dfcd29f949f409f913e0578190d6bfa68eb55864b/urllib3-1.25.4-py2.py3-none-any.whl (125kB)\n",
      "\r",
      "\u001b[K     |██▋                             | 10kB 21.5MB/s eta 0:00:01\r",
      "\u001b[K     |█████▏                          | 20kB 16.1MB/s eta 0:00:01\r",
      "\u001b[K     |███████▉                        | 30kB 14.0MB/s eta 0:00:01\r",
      "\u001b[K     |██████████▍                     | 40kB 13.5MB/s eta 0:00:01\r",
      "\u001b[K     |█████████████                   | 51kB 11.2MB/s eta 0:00:01\r",
      "\u001b[K     |███████████████▋                | 61kB 11.4MB/s eta 0:00:01\r",
      "\u001b[K     |██████████████████▎             | 71kB 11.2MB/s eta 0:00:01\r",
      "\u001b[K     |████████████████████▉           | 81kB 11.2MB/s eta 0:00:01\r",
      "\u001b[K     |███████████████████████▌        | 92kB 11.2MB/s eta 0:00:01\r",
      "\u001b[K     |██████████████████████████      | 102kB 11.4MB/s eta 0:00:01\r",
      "\u001b[K     |████████████████████████████▊   | 112kB 11.4MB/s eta 0:00:01\r",
      "\u001b[K     |███████████████████████████████▎| 122kB 11.4MB/s eta 0:00:01\r",
      "\u001b[K     |████████████████████████████████| 133kB 11.4MB/s \n",
      "\u001b[31mERROR: datascience 0.10.6 has requirement folium==0.2.1, but you'll have folium 0.8.3 which is incompatible.\u001b[0m\n",
      "\u001b[?25hInstalling collected packages: urllib3\n",
      "  Found existing installation: urllib3 1.24.3\n",
      "    Uninstalling urllib3-1.24.3:\n",
      "      Successfully uninstalled urllib3-1.24.3\n",
      "Successfully installed urllib3-1.25.4\n"
     ]
    }
   ],
   "source": [
    "!pip3 install urllib3==1.25.4"
   ]
  },
  {
   "cell_type": "code",
   "execution_count": 4,
   "metadata": {
    "colab": {
     "base_uri": "https://localhost:8080/"
    },
    "id": "W1bnQrMb_WM4",
    "outputId": "909b5ef6-710c-498a-c177-e69df33ecb37"
   },
   "outputs": [
    {
     "name": "stdout",
     "output_type": "stream",
     "text": [
      "Collecting transformers==2.8.0\n",
      "\u001b[?25l  Downloading https://files.pythonhosted.org/packages/a3/78/92cedda05552398352ed9784908b834ee32a0bd071a9b32de287327370b7/transformers-2.8.0-py3-none-any.whl (563kB)\n",
      "\r",
      "\u001b[K     |▋                               | 10kB 24.2MB/s eta 0:00:01\r",
      "\u001b[K     |█▏                              | 20kB 31.1MB/s eta 0:00:01\r",
      "\u001b[K     |█▊                              | 30kB 22.0MB/s eta 0:00:01\r",
      "\u001b[K     |██▎                             | 40kB 19.7MB/s eta 0:00:01\r",
      "\u001b[K     |███                             | 51kB 22.2MB/s eta 0:00:01\r",
      "\u001b[K     |███▌                            | 61kB 20.7MB/s eta 0:00:01\r",
      "\u001b[K     |████                            | 71kB 19.2MB/s eta 0:00:01\r",
      "\u001b[K     |████▋                           | 81kB 15.3MB/s eta 0:00:01\r",
      "\u001b[K     |█████▎                          | 92kB 16.2MB/s eta 0:00:01\r",
      "\u001b[K     |█████▉                          | 102kB 17.3MB/s eta 0:00:01\r",
      "\u001b[K     |██████▍                         | 112kB 17.3MB/s eta 0:00:01\r",
      "\u001b[K     |███████                         | 122kB 17.3MB/s eta 0:00:01\r",
      "\u001b[K     |███████▋                        | 133kB 17.3MB/s eta 0:00:01\r",
      "\u001b[K     |████████▏                       | 143kB 17.3MB/s eta 0:00:01\r",
      "\u001b[K     |████████▊                       | 153kB 17.3MB/s eta 0:00:01\r",
      "\u001b[K     |█████████▎                      | 163kB 17.3MB/s eta 0:00:01\r",
      "\u001b[K     |█████████▉                      | 174kB 17.3MB/s eta 0:00:01\r",
      "\u001b[K     |██████████▌                     | 184kB 17.3MB/s eta 0:00:01\r",
      "\u001b[K     |███████████                     | 194kB 17.3MB/s eta 0:00:01\r",
      "\u001b[K     |███████████▋                    | 204kB 17.3MB/s eta 0:00:01\r",
      "\u001b[K     |████████████▏                   | 215kB 17.3MB/s eta 0:00:01\r",
      "\u001b[K     |████████████▉                   | 225kB 17.3MB/s eta 0:00:01\r",
      "\u001b[K     |█████████████▍                  | 235kB 17.3MB/s eta 0:00:01\r",
      "\u001b[K     |██████████████                  | 245kB 17.3MB/s eta 0:00:01\r",
      "\u001b[K     |██████████████▌                 | 256kB 17.3MB/s eta 0:00:01\r",
      "\u001b[K     |███████████████▏                | 266kB 17.3MB/s eta 0:00:01\r",
      "\u001b[K     |███████████████▊                | 276kB 17.3MB/s eta 0:00:01\r",
      "\u001b[K     |████████████████▎               | 286kB 17.3MB/s eta 0:00:01\r",
      "\u001b[K     |████████████████▉               | 296kB 17.3MB/s eta 0:00:01\r",
      "\u001b[K     |█████████████████▍              | 307kB 17.3MB/s eta 0:00:01\r",
      "\u001b[K     |██████████████████              | 317kB 17.3MB/s eta 0:00:01\r",
      "\u001b[K     |██████████████████▋             | 327kB 17.3MB/s eta 0:00:01\r",
      "\u001b[K     |███████████████████▏            | 337kB 17.3MB/s eta 0:00:01\r",
      "\u001b[K     |███████████████████▊            | 348kB 17.3MB/s eta 0:00:01\r",
      "\u001b[K     |████████████████████▍           | 358kB 17.3MB/s eta 0:00:01\r",
      "\u001b[K     |█████████████████████           | 368kB 17.3MB/s eta 0:00:01\r",
      "\u001b[K     |█████████████████████▌          | 378kB 17.3MB/s eta 0:00:01\r",
      "\u001b[K     |██████████████████████          | 389kB 17.3MB/s eta 0:00:01\r",
      "\u001b[K     |██████████████████████▊         | 399kB 17.3MB/s eta 0:00:01\r",
      "\u001b[K     |███████████████████████▎        | 409kB 17.3MB/s eta 0:00:01\r",
      "\u001b[K     |███████████████████████▉        | 419kB 17.3MB/s eta 0:00:01\r",
      "\u001b[K     |████████████████████████▍       | 430kB 17.3MB/s eta 0:00:01\r",
      "\u001b[K     |█████████████████████████       | 440kB 17.3MB/s eta 0:00:01\r",
      "\u001b[K     |█████████████████████████▋      | 450kB 17.3MB/s eta 0:00:01\r",
      "\u001b[K     |██████████████████████████▏     | 460kB 17.3MB/s eta 0:00:01\r",
      "\u001b[K     |██████████████████████████▊     | 471kB 17.3MB/s eta 0:00:01\r",
      "\u001b[K     |███████████████████████████▎    | 481kB 17.3MB/s eta 0:00:01\r",
      "\u001b[K     |████████████████████████████    | 491kB 17.3MB/s eta 0:00:01\r",
      "\u001b[K     |████████████████████████████▌   | 501kB 17.3MB/s eta 0:00:01\r",
      "\u001b[K     |█████████████████████████████   | 512kB 17.3MB/s eta 0:00:01\r",
      "\u001b[K     |█████████████████████████████▋  | 522kB 17.3MB/s eta 0:00:01\r",
      "\u001b[K     |██████████████████████████████▎ | 532kB 17.3MB/s eta 0:00:01\r",
      "\u001b[K     |██████████████████████████████▉ | 542kB 17.3MB/s eta 0:00:01\r",
      "\u001b[K     |███████████████████████████████▍| 552kB 17.3MB/s eta 0:00:01\r",
      "\u001b[K     |████████████████████████████████| 563kB 17.3MB/s eta 0:00:01\r",
      "\u001b[K     |████████████████████████████████| 573kB 17.3MB/s \n",
      "\u001b[?25hRequirement already satisfied: tqdm>=4.27 in /usr/local/lib/python3.6/dist-packages (from transformers==2.8.0) (4.41.1)\n",
      "Requirement already satisfied: filelock in /usr/local/lib/python3.6/dist-packages (from transformers==2.8.0) (3.0.12)\n",
      "Requirement already satisfied: dataclasses; python_version < \"3.7\" in /usr/local/lib/python3.6/dist-packages (from transformers==2.8.0) (0.7)\n",
      "Requirement already satisfied: requests in /usr/local/lib/python3.6/dist-packages (from transformers==2.8.0) (2.23.0)\n",
      "Requirement already satisfied: regex!=2019.12.17 in /usr/local/lib/python3.6/dist-packages (from transformers==2.8.0) (2019.12.20)\n",
      "Requirement already satisfied: numpy in /usr/local/lib/python3.6/dist-packages (from transformers==2.8.0) (1.18.5)\n",
      "Collecting boto3\n",
      "\u001b[?25l  Downloading https://files.pythonhosted.org/packages/6d/7e/3668fb3049a568dead633f8727810e04db95fda9269effdaf8abab56b8fd/boto3-1.16.18-py2.py3-none-any.whl (129kB)\n",
      "\u001b[K     |████████████████████████████████| 133kB 54.8MB/s \n",
      "\u001b[?25hCollecting sacremoses\n",
      "\u001b[?25l  Downloading https://files.pythonhosted.org/packages/7d/34/09d19aff26edcc8eb2a01bed8e98f13a1537005d31e95233fd48216eed10/sacremoses-0.0.43.tar.gz (883kB)\n",
      "\u001b[K     |████████████████████████████████| 890kB 49.8MB/s \n",
      "\u001b[?25hCollecting sentencepiece\n",
      "\u001b[?25l  Downloading https://files.pythonhosted.org/packages/e5/2d/6d4ca4bef9a67070fa1cac508606328329152b1df10bdf31fb6e4e727894/sentencepiece-0.1.94-cp36-cp36m-manylinux2014_x86_64.whl (1.1MB)\n",
      "\u001b[K     |████████████████████████████████| 1.1MB 47.2MB/s \n",
      "\u001b[?25hCollecting tokenizers==0.5.2\n",
      "\u001b[?25l  Downloading https://files.pythonhosted.org/packages/d1/3f/73c881ea4723e43c1e9acf317cf407fab3a278daab3a69c98dcac511c04f/tokenizers-0.5.2-cp36-cp36m-manylinux1_x86_64.whl (3.7MB)\n",
      "\u001b[K     |████████████████████████████████| 3.7MB 46.6MB/s \n",
      "\u001b[?25hRequirement already satisfied: certifi>=2017.4.17 in /usr/local/lib/python3.6/dist-packages (from requests->transformers==2.8.0) (2020.6.20)\n",
      "Requirement already satisfied: chardet<4,>=3.0.2 in /usr/local/lib/python3.6/dist-packages (from requests->transformers==2.8.0) (3.0.4)\n",
      "Requirement already satisfied: idna<3,>=2.5 in /usr/local/lib/python3.6/dist-packages (from requests->transformers==2.8.0) (2.10)\n",
      "Requirement already satisfied: urllib3!=1.25.0,!=1.25.1,<1.26,>=1.21.1 in /usr/local/lib/python3.6/dist-packages (from requests->transformers==2.8.0) (1.25.4)\n",
      "Collecting jmespath<1.0.0,>=0.7.1\n",
      "  Downloading https://files.pythonhosted.org/packages/07/cb/5f001272b6faeb23c1c9e0acc04d48eaaf5c862c17709d20e3469c6e0139/jmespath-0.10.0-py2.py3-none-any.whl\n",
      "Collecting botocore<1.20.0,>=1.19.18\n",
      "\u001b[?25l  Downloading https://files.pythonhosted.org/packages/d1/e4/3f243b98244f13ac3f7bbe3ec6c4f8473194a200e9785d68696dc5e0d72f/botocore-1.19.18-py2.py3-none-any.whl (6.8MB)\n",
      "\u001b[K     |████████████████████████████████| 6.8MB 44.8MB/s \n",
      "\u001b[?25hCollecting s3transfer<0.4.0,>=0.3.0\n",
      "\u001b[?25l  Downloading https://files.pythonhosted.org/packages/69/79/e6afb3d8b0b4e96cefbdc690f741d7dd24547ff1f94240c997a26fa908d3/s3transfer-0.3.3-py2.py3-none-any.whl (69kB)\n",
      "\u001b[K     |████████████████████████████████| 71kB 10.8MB/s \n",
      "\u001b[?25hRequirement already satisfied: six in /usr/local/lib/python3.6/dist-packages (from sacremoses->transformers==2.8.0) (1.15.0)\n",
      "Requirement already satisfied: click in /usr/local/lib/python3.6/dist-packages (from sacremoses->transformers==2.8.0) (7.1.2)\n",
      "Requirement already satisfied: joblib in /usr/local/lib/python3.6/dist-packages (from sacremoses->transformers==2.8.0) (0.17.0)\n",
      "Requirement already satisfied: python-dateutil<3.0.0,>=2.1 in /usr/local/lib/python3.6/dist-packages (from botocore<1.20.0,>=1.19.18->boto3->transformers==2.8.0) (2.8.1)\n",
      "Building wheels for collected packages: sacremoses\n",
      "  Building wheel for sacremoses (setup.py) ... \u001b[?25l\u001b[?25hdone\n",
      "  Created wheel for sacremoses: filename=sacremoses-0.0.43-cp36-none-any.whl size=893257 sha256=8f48c67d5600ccef3537c8b9bf1f2ed79cb2469813b318ee7e0cc53d3d4b4045\n",
      "  Stored in directory: /root/.cache/pip/wheels/29/3c/fd/7ce5c3f0666dab31a50123635e6fb5e19ceb42ce38d4e58f45\n",
      "Successfully built sacremoses\n",
      "Installing collected packages: jmespath, botocore, s3transfer, boto3, sacremoses, sentencepiece, tokenizers, transformers\n",
      "Successfully installed boto3-1.16.18 botocore-1.19.18 jmespath-0.10.0 s3transfer-0.3.3 sacremoses-0.0.43 sentencepiece-0.1.94 tokenizers-0.5.2 transformers-2.8.0\n"
     ]
    }
   ],
   "source": [
    "!pip3 install transformers==2.8.0"
   ]
  },
  {
   "cell_type": "code",
   "execution_count": 5,
   "metadata": {
    "id": "SLo4hFnZcXW2"
   },
   "outputs": [],
   "source": [
    "from generate_transformers import predict"
   ]
  },
  {
   "cell_type": "code",
   "execution_count": 6,
   "metadata": {
    "id": "p5Y8msTOOixy"
   },
   "outputs": [],
   "source": [
    "input_size = 93\n",
    "output_size = 300\n",
    "LATENT_DIM = 8"
   ]
  },
  {
   "cell_type": "code",
   "execution_count": 7,
   "metadata": {
    "id": "CpEWcym2Oh1C"
   },
   "outputs": [],
   "source": [
    "gen = nn.Sequential(nn.Linear(input_size + LATENT_DIM, 1024), nn.LeakyReLU(),\n",
    "                    nn.Linear(1024, 512), nn.LeakyReLU(),\n",
    "                    nn.Linear(512, 512), nn.LeakyReLU(),\n",
    "                    nn.Linear(512, output_size)).cuda()"
   ]
  },
  {
   "cell_type": "code",
   "execution_count": 8,
   "metadata": {
    "colab": {
     "base_uri": "https://localhost:8080/"
    },
    "id": "nnSgqaEkOn-L",
    "outputId": "abf2cf24-4379-438e-ec24-e06568ad2dd0"
   },
   "outputs": [
    {
     "data": {
      "text/plain": [
       "<All keys matched successfully>"
      ]
     },
     "execution_count": 8,
     "metadata": {
      "tags": []
     },
     "output_type": "execute_result"
    }
   ],
   "source": [
    "gen.load_state_dict(torch.load('/content/gdrive/My Drive/MADE_graduation_project_ML_horoscopes/GANs_results/GAN300_Lin_Lin_SentBySent_eval_norm/gen_500000')['gen_state_dict'])"
   ]
  },
  {
   "cell_type": "code",
   "execution_count": 12,
   "metadata": {
    "id": "zFrBxWGXRc0Y"
   },
   "outputs": [],
   "source": [
    "with open('/content/datatransformer.pickle', 'rb') as f:\n",
    "  scaler = pickle.load(f)"
   ]
  },
  {
   "cell_type": "code",
   "execution_count": 14,
   "metadata": {
    "cellView": "form",
    "id": "1C2dYf-8RqjI"
   },
   "outputs": [],
   "source": [
    "#@title\n",
    "test = np.array([[-9.04546430e-01, -4.17748878e-01,  2.38048487e-05,\n",
    "         7.49852345e-03, -1.55603482e-02,  1.87672386e-07,\n",
    "         5.75445232e-03,  9.96352533e-01, -2.83478578e-04,\n",
    "        -5.45199613e-01, -4.62993467e-01, -3.66367909e-02,\n",
    "         5.57102562e-03,  1.36120381e-02,  2.56083748e-03,\n",
    "         4.13644793e-03,  7.16203758e-01, -1.31714285e-02,\n",
    "        -1.15773141e+00,  2.54496757e-01,  2.38593471e-02,\n",
    "        -1.14981276e-02, -2.28031021e-02,  9.97018852e-04,\n",
    "         6.84753376e-03,  1.18561372e+00,  6.35301037e-03,\n",
    "         4.00402366e-01,  1.42047587e-01, -2.02573152e-02,\n",
    "         2.51712582e-03, -1.50526949e-03,  4.16931550e-04,\n",
    "         2.45653055e-03,  4.25335080e-01,  1.84700806e-03,\n",
    "         1.67110522e+00, -4.84447457e+00, -3.92164066e-02,\n",
    "         1.39378035e-02, -1.14042461e-02, -1.61073246e-04,\n",
    "         2.95980886e-02,  5.12475018e+00,  1.53266853e-02,\n",
    "         4.25454661e+00, -8.98213988e+00, -5.64098150e-02,\n",
    "         1.19736740e-02, -1.26916878e-02, -2.27757868e-04,\n",
    "         5.74027212e-02,  9.93897307e+00,  1.65966762e-02,\n",
    "         1.46314909e+01,  1.18269218e+01, -1.55756943e-01,\n",
    "         5.04074977e-03, -1.26505387e-02,  4.26581528e-05,\n",
    "         1.08662792e-01,  1.88143792e+01, -4.03254824e-03,\n",
    "         2.85149653e+01, -5.88302774e+00, -5.65511943e-01,\n",
    "         8.05801347e-03, -1.24497378e-02, -7.64796960e-05,\n",
    "         1.68188911e-01,  2.91210073e+01,  1.04068989e-02,\n",
    "         1.29351421e+01, -3.16221459e+01, -6.63183494e-01,\n",
    "         1.04485438e-02, -1.49625070e-02, -9.27382882e-04,\n",
    "         1.97360357e-01,  3.41718865e+01,  1.78191802e-02,\n",
    "         1.00000000e+00,  0.00000000e+00,  0.00000000e+00,\n",
    "         0.00000000e+00,  0.00000000e+00,  0.00000000e+00,\n",
    "         0.00000000e+00,  0.00000000e+00,  0.00000000e+00,\n",
    "         0.00000000e+00,  0.00000000e+00,  0.00000000e+00],\n",
    "       [-9.11908546e-01, -4.02126265e-01,  2.35540374e-05,\n",
    "         7.22533246e-03, -1.56840134e-02,  3.19168644e-07,\n",
    "         5.75608779e-03,  9.96635706e-01, -2.82840242e-04,\n",
    "        -5.51720439e-01, -4.76377605e-01, -3.90845170e-02,\n",
    "         7.45404568e-03,  1.31309676e-02,  2.33397070e-03,\n",
    "         4.21596486e-03,  7.29971687e-01, -1.43280494e-02,\n",
    "        -1.14599852e+00,  2.77093314e-01,  2.28529004e-02,\n",
    "        -1.19654852e-02, -2.23882399e-02,  1.01574528e-03,\n",
    "         6.81074328e-03,  1.17924364e+00,  6.38715298e-03,\n",
    "         3.97954095e-01,  1.43586422e-01, -2.06732541e-02,\n",
    "         2.37916980e-03, -1.57175853e-03,  4.14943558e-04,\n",
    "         2.44633876e-03,  4.23570426e-01,  1.68222072e-03,\n",
    "         1.65730108e+00, -4.83300225e+00, -3.90553185e-02,\n",
    "         1.36695174e-02, -1.15389669e-02, -1.61086708e-04,\n",
    "         2.95094981e-02,  5.10941122e+00,  1.53498411e-02,\n",
    "         4.24270854e+00, -8.96938478e+00, -5.61820403e-02,\n",
    "         1.17021106e-02, -1.28176384e-02, -2.27791332e-04,\n",
    "         5.73068791e-02,  9.92237853e+00,  1.65915634e-02,\n",
    "         1.46265862e+01,  1.18396344e+01, -1.55799592e-01,\n",
    "         4.76825764e-03, -1.27737792e-02,  4.26834303e-05,\n",
    "         1.08686944e-01,  1.88185611e+01, -4.33084090e-03,\n",
    "         2.85070438e+01, -5.87051564e+00, -5.65435654e-01,\n",
    "         7.78468934e-03, -1.25736667e-02, -7.61588214e-05,\n",
    "         1.68129517e-01,  2.91107234e+01,  1.01603607e-02,\n",
    "         1.29248252e+01, -3.16071258e+01, -6.62255726e-01,\n",
    "         1.01840408e-02, -1.50763755e-02, -9.26121637e-04,\n",
    "         1.97257423e-01,  3.41540641e+01,  1.78239747e-02,\n",
    "         1.00000000e+00,  0.00000000e+00,  0.00000000e+00,\n",
    "         0.00000000e+00,  0.00000000e+00,  0.00000000e+00,\n",
    "         0.00000000e+00,  0.00000000e+00,  0.00000000e+00,\n",
    "         0.00000000e+00,  0.00000000e+00,  0.00000000e+00],\n",
    "       [-9.18996377e-01, -3.86382600e-01,  2.31578922e-05,\n",
    "         6.94998940e-03, -1.58024334e-02,  4.76421240e-07,\n",
    "         5.75771922e-03,  9.96918179e-01, -2.82099138e-04,\n",
    "        -5.60073485e-01, -4.89207770e-01, -4.13037788e-02,\n",
    "         9.23449109e-03,  1.25069672e-02,  2.10423335e-03,\n",
    "         4.30154989e-03,  7.44790275e-01, -1.52759942e-02,\n",
    "        -1.13380483e+00,  2.99269747e-01,  2.18281189e-02,\n",
    "        -1.24196632e-02, -2.19629104e-02,  1.03368439e-03,\n",
    "         6.77375543e-03,  1.17283940e+00,  6.42134203e-03,\n",
    "         3.95644486e-01,  1.45189805e-01, -2.10871952e-02,\n",
    "         2.23983517e-03, -1.63435020e-03,  4.12934087e-04,\n",
    "         2.43709977e-03,  4.21970744e-01,  1.51711899e-03,\n",
    "         1.64376621e+00, -4.82139900e+00, -3.88942744e-02,\n",
    "         1.34000114e-02, -1.16671965e-02, -1.61015593e-04,\n",
    "         2.94207922e-02,  5.09405226e+00,  1.53679142e-02,\n",
    "         4.23114304e+00, -8.95650632e+00, -5.59542508e-02,\n",
    "         1.14285666e-02, -1.29384331e-02, -2.27769397e-04,\n",
    "         5.72110812e-02,  9.90579163e+00,  1.65813909e-02,\n",
    "         1.46219551e+01,  1.18524676e+01, -1.55842350e-01,\n",
    "         4.49355656e-03, -1.28917509e-02,  4.28157382e-05,\n",
    "         1.08712814e-01,  1.88230403e+01, -4.62736881e-03,\n",
    "         2.84993966e+01, -5.85788207e+00, -5.65359485e-01,\n",
    "         7.50946321e-03, -1.26925951e-02, -7.62378007e-05,\n",
    "         1.68071555e-01,  2.91006876e+01,  9.91076229e-03,\n",
    "         1.29147774e+01, -3.15919941e+01, -6.61334571e-01,\n",
    "         9.90972078e-03, -1.51873356e-02, -9.15219790e-04,\n",
    "         1.97154484e-01,  3.41362407e+01,  1.78222707e-02,\n",
    "         1.00000000e+00,  0.00000000e+00,  0.00000000e+00,\n",
    "         0.00000000e+00,  0.00000000e+00,  0.00000000e+00,\n",
    "         0.00000000e+00,  0.00000000e+00,  0.00000000e+00,\n",
    "         0.00000000e+00,  0.00000000e+00,  0.00000000e+00],\n",
    "       [-9.25807885e-01, -3.70523170e-01,  2.25968055e-05,\n",
    "         6.67272717e-03, -1.59155393e-02,  6.46819839e-07,\n",
    "         5.75934636e-03,  9.97199910e-01, -2.81375230e-04,\n",
    "        -5.70153637e-01, -5.01349471e-01, -4.32926296e-02,\n",
    "         1.09076502e-02,  1.17567222e-02,  1.87342423e-03,\n",
    "         4.39205561e-03,  7.60460856e-01, -1.60354978e-02,\n",
    "        -1.12116371e+00,  3.21015770e-01,  2.07858030e-02,\n",
    "        -1.28602905e-02, -2.15274884e-02,  1.05080951e-03,\n",
    "         6.73657024e-03,  1.16640098e+00,  6.45547269e-03,\n",
    "         3.93474811e-01,  1.46853804e-01, -2.14991109e-02,\n",
    "         2.09934068e-03, -1.69298807e-03,  4.10890615e-04,\n",
    "         2.42881442e-03,  4.20536180e-01,  1.35204100e-03,\n",
    "         1.63050262e+00, -4.80966987e+00, -3.87332880e-02,\n",
    "         1.31271132e-02, -1.17894380e-02, -1.60924424e-04,\n",
    "         2.93319939e-02,  5.07867732e+00,  1.53806445e-02,\n",
    "         4.21985206e+00, -8.94350964e+00, -5.57265308e-02,\n",
    "         1.11530856e-02, -1.30540446e-02, -2.27665973e-04,\n",
    "         5.71153566e-02,  9.88921744e+00,  1.65661270e-02,\n",
    "         1.46175997e+01,  1.18654161e+01, -1.55885225e-01,\n",
    "         4.21704714e-03, -1.30044310e-02,  4.29693741e-05,\n",
    "         1.08740391e-01,  1.88278151e+01, -4.92179131e-03,\n",
    "         2.84920253e+01, -5.84513230e+00, -5.65283117e-01,\n",
    "         7.23279073e-03, -1.28059985e-02, -7.64906319e-05,\n",
    "         1.68015042e-01,  2.90909028e+01,  9.65844384e-03,\n",
    "         1.29050094e+01, -3.15767497e+01, -6.60425301e-01,\n",
    "         9.62499742e-03, -1.53021907e-02, -9.04275604e-04,\n",
    "         1.97051557e-01,  3.41184195e+01,  1.78203253e-02,\n",
    "         1.00000000e+00,  0.00000000e+00,  0.00000000e+00,\n",
    "         0.00000000e+00,  0.00000000e+00,  0.00000000e+00,\n",
    "         0.00000000e+00,  0.00000000e+00,  0.00000000e+00,\n",
    "         0.00000000e+00,  0.00000000e+00,  0.00000000e+00],\n",
    "       [-9.32341269e-01, -3.54553298e-01,  2.18643179e-05,\n",
    "         6.39377842e-03, -1.60233195e-02,  8.17075218e-07,\n",
    "         5.76096962e-03,  9.97480969e-01, -2.80769975e-04,\n",
    "        -5.81852105e-01, -5.12684307e-01, -4.50507795e-02,\n",
    "         1.24708181e-02,  1.08957117e-02,  1.64306345e-03,\n",
    "         4.48645388e-03,  7.76805409e-01, -1.66273989e-02,\n",
    "        -1.10808889e+00,  3.42321504e-01,  1.97267801e-02,\n",
    "        -1.32870095e-02, -2.10824096e-02,  1.06709401e-03,\n",
    "         6.69918837e-03,  1.15992851e+00,  6.48943077e-03,\n",
    "         3.91446119e-01,  1.48574463e-01, -2.19089607e-02,\n",
    "         1.95790461e-03, -1.74767291e-03,  4.08799955e-04,\n",
    "         2.42148163e-03,  4.19266547e-01,  1.18730726e-03,\n",
    "         1.61751136e+00, -4.79782143e+00, -3.85724269e-02,\n",
    "         1.28547809e-02, -1.19072187e-02, -1.60829395e-04,\n",
    "         2.92431332e-02,  5.06329155e+00,  1.53907129e-02,\n",
    "         4.20883742e+00, -8.93040000e+00, -5.54989225e-02,\n",
    "         1.08759438e-02, -1.31643777e-02, -2.27541543e-04,\n",
    "         5.70197350e-02,  9.87266108e+00,  1.65457787e-02,\n",
    "         1.46135216e+01,  1.18784746e+01, -1.55928370e-01,\n",
    "         3.93874863e-03, -1.31117345e-02,  4.33317067e-05,\n",
    "         1.08769662e-01,  1.88328832e+01, -5.21402765e-03,\n",
    "         2.84849315e+01, -5.83227201e+00, -5.65206588e-01,\n",
    "         6.95463710e-03, -1.29136282e-02, -7.64979445e-05,\n",
    "         1.67959995e-01,  2.90813716e+01,  9.40331818e-03,\n",
    "         1.28955285e+01, -3.15613888e+01, -6.59522715e-01,\n",
    "         9.33685739e-03, -1.54195871e-02, -9.02923828e-04,\n",
    "         1.96948638e-01,  3.41005995e+01,  1.78197100e-02,\n",
    "         1.00000000e+00,  0.00000000e+00,  0.00000000e+00,\n",
    "         0.00000000e+00,  0.00000000e+00,  0.00000000e+00,\n",
    "         0.00000000e+00,  0.00000000e+00,  0.00000000e+00,\n",
    "         0.00000000e+00,  0.00000000e+00,  0.00000000e+00]])"
   ]
  },
  {
   "cell_type": "code",
   "execution_count": 21,
   "metadata": {
    "id": "qYTszimkScs1"
   },
   "outputs": [],
   "source": [
    "test_transformed = scaler.transform(test)"
   ]
  },
  {
   "cell_type": "code",
   "execution_count": 22,
   "metadata": {
    "id": "cRPGP7llS2lh"
   },
   "outputs": [],
   "source": [
    "test_transformed = torch.from_numpy((test_transformed).astype(np.float32)).float().to(device)"
   ]
  },
  {
   "cell_type": "code",
   "execution_count": 37,
   "metadata": {
    "id": "eBBqiIoeO6MB"
   },
   "outputs": [],
   "source": [
    "def sample_gen_data(y):\n",
    "    noise = torch.randn(y.shape[0], LATENT_DIM, dtype=torch.float32, device=\"cuda\")\n",
    "    return gen(torch.cat((noise, y), dim=1))"
   ]
  },
  {
   "cell_type": "code",
   "execution_count": 38,
   "metadata": {
    "id": "lNucy2uTSrA3"
   },
   "outputs": [],
   "source": [
    "gen_output = sample_gen_data(test_transformed)"
   ]
  },
  {
   "cell_type": "code",
   "execution_count": 47,
   "metadata": {
    "id": "JH3NAUUYVBlo"
   },
   "outputs": [],
   "source": [
    "def output_to_text(gen_output):\n",
    "  results = []\n",
    "  for out in gen_output:\n",
    "    results.append(kv_300.similar_by_vector(np.array(out.tolist()))[0][0])\n",
    "  return results"
   ]
  },
  {
   "cell_type": "code",
   "execution_count": 32,
   "metadata": {
    "colab": {
     "base_uri": "https://localhost:8080/"
    },
    "id": "9yN78xbDUDJT",
    "outputId": "be82c986-8753-438a-f59f-a0a82c287992"
   },
   "outputs": [
    {
     "name": "stderr",
     "output_type": "stream",
     "text": [
      "11/16/2020 13:48:19 - INFO - gensim.utils -   loading WordEmbeddingsKeyedVectors object from /content/gdrive/My Drive/MADE_graduation_project_ML_horoscopes/data/model_rusvectores.model\n",
      "11/16/2020 13:48:20 - INFO - gensim.utils -   setting ignored attribute vectors_norm to None\n",
      "11/16/2020 13:48:20 - INFO - gensim.utils -   loaded /content/gdrive/My Drive/MADE_graduation_project_ML_horoscopes/data/model_rusvectores.model\n"
     ]
    }
   ],
   "source": [
    "kv_300 = WordEmbeddingsKeyedVectors.load(\"/content/gdrive/My Drive/MADE_graduation_project_ML_horoscopes/data/model_rusvectores.model\")"
   ]
  },
  {
   "cell_type": "code",
   "execution_count": 48,
   "metadata": {
    "colab": {
     "base_uri": "https://localhost:8080/"
    },
    "id": "JJ9JBcbJVV70",
    "outputId": "31e18f49-3838-4a8c-abe1-a6c4b64c9842"
   },
   "outputs": [
    {
     "name": "stderr",
     "output_type": "stream",
     "text": [
      "/usr/local/lib/python3.6/dist-packages/gensim/matutils.py:737: FutureWarning: Conversion of the second argument of issubdtype from `int` to `np.signedinteger` is deprecated. In future, it will be treated as `np.int64 == np.dtype(int).type`.\n",
      "  if np.issubdtype(vec.dtype, np.int):\n"
     ]
    }
   ],
   "source": [
    "start = output_to_text(gen_output)"
   ]
  },
  {
   "cell_type": "code",
   "execution_count": 49,
   "metadata": {
    "colab": {
     "base_uri": "https://localhost:8080/"
    },
    "id": "enpYSNB1Vo2-",
    "outputId": "4b31dfcb-598c-4c06-dfe2-f14e86341c80"
   },
   "outputs": [
    {
     "data": {
      "text/plain": [
       "['благоприятный день для работы особенно',\n",
       " 'вас ждет немало соблазнов и',\n",
       " 'хотя день порой приносит трудности',\n",
       " 'вас ждет немало соблазнов и',\n",
       " 'вы энергичны настойчивы и решительны']"
      ]
     },
     "execution_count": 49,
     "metadata": {
      "tags": []
     },
     "output_type": "execute_result"
    }
   ],
   "source": [
    "start"
   ]
  },
  {
   "cell_type": "code",
   "execution_count": 50,
   "metadata": {
    "colab": {
     "base_uri": "https://localhost:8080/",
     "height": 1000,
     "referenced_widgets": [
      "893a8e4657204cd0a385eeb0e0f05cf5",
      "a13ec21f685d4a6b8a5d33e7b012b0aa",
      "aed4d7a06cdf4543b91e065e65990aca",
      "8baca2171aa6456d8f617766a94afb5e",
      "4a8dd885c31e4e8dade7aa17724d4670",
      "fc31e569f0704d6e92839955b2bd0278",
      "02ae77bf589e471d9a182d8f517cbb3e",
      "64a8e9f8cd814112a8719e5eb1e029bd",
      "5e4868da2d0449208e63cabfd4183113",
      "65e461caab204ad8b2835b5533af3fe2",
      "8625d45c05f44cab9f59451006a1b185",
      "ea98426d977c477aa28170a76dd7f505",
      "03b84bbf070d4c75a630146d48576c86",
      "050c5064721f44d6a288261e0a9a36a7",
      "08898798c88d4b549999353552d29c05",
      "3d5ec90186c349b4b8cca429050874da",
      "03be1f9deaaa4a859f4fe4668c39b3c9",
      "7e8f55cc439e457cb9dc8de2bc734d50",
      "92714898d60a48d8a59f579cf5d9c3b8",
      "a730717adc664d03b74f795a7991f555",
      "c5aba68d351541f1bf1b7dcdf8df896a",
      "1d6c0252f92c4d85b9ccae84ea9e7e58",
      "7c5f93d8d47049c598a2d4f771bef16b",
      "0aa460cfb40a4ebf8939d69f46c7380c",
      "1b9fbff9b83d4326aedfa03f676f41f4",
      "624da27841b44c26b7bea73ac2edf3f5",
      "79f4a17458794984ab11a560b4188ae8",
      "91b917e153f2427ca22ccbc3a2d56b9e",
      "3248c2289f854718b9948c2a9d41c461",
      "ef13cf0b32274cfa840b3400f57c8038",
      "ff3d69e5e8914c39916021457216fa09",
      "d9ec00be2e564304a304f5c7f3c6f46e"
     ]
    },
    "id": "dMht21tnccQC",
    "outputId": "127a9a09-3134-48eb-cfa9-73fbc6b38f09"
   },
   "outputs": [
    {
     "name": "stderr",
     "output_type": "stream",
     "text": [
      "11/16/2020 13:55:57 - INFO - transformers.tokenization_utils -   Model name 'sberbank-ai/rugpt3large_based_on_gpt2' not found in model shortcut name list (gpt2, gpt2-medium, gpt2-large, gpt2-xl, distilgpt2). Assuming 'sberbank-ai/rugpt3large_based_on_gpt2' is a path, a model identifier, or url to a directory containing tokenizer files.\n",
      "11/16/2020 13:55:57 - INFO - filelock -   Lock 140423595157320 acquired on /root/.cache/torch/transformers/39e50567636d4014628a4fb0b7665a179a6109d96765eb4e6a10e9f2306f963d.de52bc5880aff0437c7f24c33b71ecae48f6f03f0449dfe933503132c6c1cc26.lock\n",
      "11/16/2020 13:55:57 - INFO - transformers.file_utils -   https://s3.amazonaws.com/models.huggingface.co/bert/sberbank-ai/rugpt3large_based_on_gpt2/vocab.json not found in cache or force_download set to True, downloading to /root/.cache/torch/transformers/tmpemrwti91\n"
     ]
    },
    {
     "data": {
      "application/vnd.jupyter.widget-view+json": {
       "model_id": "893a8e4657204cd0a385eeb0e0f05cf5",
       "version_major": 2,
       "version_minor": 0
      },
      "text/plain": [
       "HBox(children=(FloatProgress(value=0.0, description='Downloading', max=1713123.0, style=ProgressStyle(descript…"
      ]
     },
     "metadata": {
      "tags": []
     },
     "output_type": "display_data"
    },
    {
     "name": "stderr",
     "output_type": "stream",
     "text": [
      "11/16/2020 13:55:57 - INFO - transformers.file_utils -   storing https://s3.amazonaws.com/models.huggingface.co/bert/sberbank-ai/rugpt3large_based_on_gpt2/vocab.json in cache at /root/.cache/torch/transformers/39e50567636d4014628a4fb0b7665a179a6109d96765eb4e6a10e9f2306f963d.de52bc5880aff0437c7f24c33b71ecae48f6f03f0449dfe933503132c6c1cc26\n",
      "11/16/2020 13:55:57 - INFO - transformers.file_utils -   creating metadata file for /root/.cache/torch/transformers/39e50567636d4014628a4fb0b7665a179a6109d96765eb4e6a10e9f2306f963d.de52bc5880aff0437c7f24c33b71ecae48f6f03f0449dfe933503132c6c1cc26\n",
      "11/16/2020 13:55:57 - INFO - filelock -   Lock 140423595157320 released on /root/.cache/torch/transformers/39e50567636d4014628a4fb0b7665a179a6109d96765eb4e6a10e9f2306f963d.de52bc5880aff0437c7f24c33b71ecae48f6f03f0449dfe933503132c6c1cc26.lock\n",
      "11/16/2020 13:55:57 - INFO - filelock -   Lock 140423595748712 acquired on /root/.cache/torch/transformers/0a94bcfc9ca640e268e53959b05f2ebe267a5cb686289b46cac4ffac589eac40.5885500c9887f152893bfadf3b511a9105243c57bfc45889e3552bdc61090032.lock\n",
      "11/16/2020 13:55:57 - INFO - transformers.file_utils -   https://s3.amazonaws.com/models.huggingface.co/bert/sberbank-ai/rugpt3large_based_on_gpt2/merges.txt not found in cache or force_download set to True, downloading to /root/.cache/torch/transformers/tmp0491k94z\n"
     ]
    },
    {
     "name": "stdout",
     "output_type": "stream",
     "text": [
      "\n"
     ]
    },
    {
     "data": {
      "application/vnd.jupyter.widget-view+json": {
       "model_id": "5e4868da2d0449208e63cabfd4183113",
       "version_major": 2,
       "version_minor": 0
      },
      "text/plain": [
       "HBox(children=(FloatProgress(value=0.0, description='Downloading', max=1270925.0, style=ProgressStyle(descript…"
      ]
     },
     "metadata": {
      "tags": []
     },
     "output_type": "display_data"
    },
    {
     "name": "stderr",
     "output_type": "stream",
     "text": [
      "11/16/2020 13:55:57 - INFO - transformers.file_utils -   storing https://s3.amazonaws.com/models.huggingface.co/bert/sberbank-ai/rugpt3large_based_on_gpt2/merges.txt in cache at /root/.cache/torch/transformers/0a94bcfc9ca640e268e53959b05f2ebe267a5cb686289b46cac4ffac589eac40.5885500c9887f152893bfadf3b511a9105243c57bfc45889e3552bdc61090032\n",
      "11/16/2020 13:55:57 - INFO - transformers.file_utils -   creating metadata file for /root/.cache/torch/transformers/0a94bcfc9ca640e268e53959b05f2ebe267a5cb686289b46cac4ffac589eac40.5885500c9887f152893bfadf3b511a9105243c57bfc45889e3552bdc61090032\n",
      "11/16/2020 13:55:57 - INFO - filelock -   Lock 140423595748712 released on /root/.cache/torch/transformers/0a94bcfc9ca640e268e53959b05f2ebe267a5cb686289b46cac4ffac589eac40.5885500c9887f152893bfadf3b511a9105243c57bfc45889e3552bdc61090032.lock\n",
      "11/16/2020 13:55:58 - INFO - transformers.tokenization_utils -   loading file https://s3.amazonaws.com/models.huggingface.co/bert/sberbank-ai/rugpt3large_based_on_gpt2/vocab.json from cache at /root/.cache/torch/transformers/39e50567636d4014628a4fb0b7665a179a6109d96765eb4e6a10e9f2306f963d.de52bc5880aff0437c7f24c33b71ecae48f6f03f0449dfe933503132c6c1cc26\n",
      "11/16/2020 13:55:58 - INFO - transformers.tokenization_utils -   loading file https://s3.amazonaws.com/models.huggingface.co/bert/sberbank-ai/rugpt3large_based_on_gpt2/merges.txt from cache at /root/.cache/torch/transformers/0a94bcfc9ca640e268e53959b05f2ebe267a5cb686289b46cac4ffac589eac40.5885500c9887f152893bfadf3b511a9105243c57bfc45889e3552bdc61090032\n",
      "11/16/2020 13:55:58 - INFO - transformers.tokenization_utils -   loading file https://s3.amazonaws.com/models.huggingface.co/bert/sberbank-ai/rugpt3large_based_on_gpt2/added_tokens.json from cache at None\n",
      "11/16/2020 13:55:58 - INFO - transformers.tokenization_utils -   loading file https://s3.amazonaws.com/models.huggingface.co/bert/sberbank-ai/rugpt3large_based_on_gpt2/special_tokens_map.json from cache at None\n",
      "11/16/2020 13:55:58 - INFO - transformers.tokenization_utils -   loading file https://s3.amazonaws.com/models.huggingface.co/bert/sberbank-ai/rugpt3large_based_on_gpt2/tokenizer_config.json from cache at None\n"
     ]
    },
    {
     "name": "stdout",
     "output_type": "stream",
     "text": [
      "\n"
     ]
    },
    {
     "name": "stderr",
     "output_type": "stream",
     "text": [
      "11/16/2020 13:55:58 - INFO - filelock -   Lock 140423595671624 acquired on /root/.cache/torch/transformers/53218293a9edec913332b4f2d178496a60f98d64a1af74f92984804152f9404c.02a103afdbdbf4896cc41fc6495e47b7e5e2f353a287fe98d178e669be028903.lock\n",
      "11/16/2020 13:55:58 - INFO - transformers.file_utils -   https://s3.amazonaws.com/models.huggingface.co/bert/sberbank-ai/rugpt3large_based_on_gpt2/config.json not found in cache or force_download set to True, downloading to /root/.cache/torch/transformers/tmplba_37xd\n"
     ]
    },
    {
     "data": {
      "application/vnd.jupyter.widget-view+json": {
       "model_id": "03be1f9deaaa4a859f4fe4668c39b3c9",
       "version_major": 2,
       "version_minor": 0
      },
      "text/plain": [
       "HBox(children=(FloatProgress(value=0.0, description='Downloading', max=609.0, style=ProgressStyle(description_…"
      ]
     },
     "metadata": {
      "tags": []
     },
     "output_type": "display_data"
    },
    {
     "name": "stderr",
     "output_type": "stream",
     "text": [
      "11/16/2020 13:55:58 - INFO - transformers.file_utils -   storing https://s3.amazonaws.com/models.huggingface.co/bert/sberbank-ai/rugpt3large_based_on_gpt2/config.json in cache at /root/.cache/torch/transformers/53218293a9edec913332b4f2d178496a60f98d64a1af74f92984804152f9404c.02a103afdbdbf4896cc41fc6495e47b7e5e2f353a287fe98d178e669be028903\n",
      "11/16/2020 13:55:58 - INFO - transformers.file_utils -   creating metadata file for /root/.cache/torch/transformers/53218293a9edec913332b4f2d178496a60f98d64a1af74f92984804152f9404c.02a103afdbdbf4896cc41fc6495e47b7e5e2f353a287fe98d178e669be028903\n",
      "11/16/2020 13:55:58 - INFO - filelock -   Lock 140423595671624 released on /root/.cache/torch/transformers/53218293a9edec913332b4f2d178496a60f98d64a1af74f92984804152f9404c.02a103afdbdbf4896cc41fc6495e47b7e5e2f353a287fe98d178e669be028903.lock\n",
      "11/16/2020 13:55:58 - INFO - transformers.configuration_utils -   loading configuration file https://s3.amazonaws.com/models.huggingface.co/bert/sberbank-ai/rugpt3large_based_on_gpt2/config.json from cache at /root/.cache/torch/transformers/53218293a9edec913332b4f2d178496a60f98d64a1af74f92984804152f9404c.02a103afdbdbf4896cc41fc6495e47b7e5e2f353a287fe98d178e669be028903\n",
      "11/16/2020 13:55:58 - INFO - transformers.configuration_utils -   Model config GPT2Config {\n",
      "  \"_num_labels\": 2,\n",
      "  \"activation_function\": \"gelu_new\",\n",
      "  \"architectures\": [\n",
      "    \"GPT2LMHeadModel\"\n",
      "  ],\n",
      "  \"attn_pdrop\": 0.1,\n",
      "  \"bad_words_ids\": null,\n",
      "  \"bos_token_id\": 50256,\n",
      "  \"decoder_start_token_id\": null,\n",
      "  \"do_sample\": false,\n",
      "  \"early_stopping\": false,\n",
      "  \"embd_pdrop\": 0.1,\n",
      "  \"eos_token_id\": 50256,\n",
      "  \"finetuning_task\": null,\n",
      "  \"gradient_checkpointing\": false,\n",
      "  \"id2label\": {\n",
      "    \"0\": \"LABEL_0\",\n",
      "    \"1\": \"LABEL_1\"\n",
      "  },\n",
      "  \"initializer_range\": 0.02,\n",
      "  \"is_decoder\": false,\n",
      "  \"is_encoder_decoder\": false,\n",
      "  \"label2id\": {\n",
      "    \"LABEL_0\": 0,\n",
      "    \"LABEL_1\": 1\n",
      "  },\n",
      "  \"layer_norm_epsilon\": 1e-05,\n",
      "  \"length_penalty\": 1.0,\n",
      "  \"max_length\": 20,\n",
      "  \"min_length\": 0,\n",
      "  \"model_type\": \"gpt2\",\n",
      "  \"n_ctx\": 2048,\n",
      "  \"n_embd\": 1536,\n",
      "  \"n_head\": 16,\n",
      "  \"n_inner\": null,\n",
      "  \"n_layer\": 24,\n",
      "  \"n_positions\": 2048,\n",
      "  \"no_repeat_ngram_size\": 0,\n",
      "  \"num_beams\": 1,\n",
      "  \"num_return_sequences\": 1,\n",
      "  \"output_attentions\": false,\n",
      "  \"output_hidden_states\": false,\n",
      "  \"output_past\": true,\n",
      "  \"pad_token_id\": null,\n",
      "  \"prefix\": null,\n",
      "  \"pruned_heads\": {},\n",
      "  \"repetition_penalty\": 1.0,\n",
      "  \"resid_pdrop\": 0.1,\n",
      "  \"summary_activation\": null,\n",
      "  \"summary_first_dropout\": 0.1,\n",
      "  \"summary_proj_to_labels\": true,\n",
      "  \"summary_type\": \"cls_index\",\n",
      "  \"summary_use_proj\": true,\n",
      "  \"task_specific_params\": null,\n",
      "  \"temperature\": 1.0,\n",
      "  \"top_k\": 50,\n",
      "  \"top_p\": 1.0,\n",
      "  \"torchscript\": false,\n",
      "  \"use_bfloat16\": false,\n",
      "  \"vocab_size\": 50257\n",
      "}\n",
      "\n",
      "11/16/2020 13:55:58 - INFO - filelock -   Lock 140423595671624 acquired on /root/.cache/torch/transformers/5f2ce73f5df1b0b20e9c0d5fadbedefdc9b484edcbc39252a1c913b1b4ce6cd2.5bdac7adaf803c2b7192441aba3020af4140f7177089f8f95940a0c073059a31.lock\n",
      "11/16/2020 13:55:58 - INFO - transformers.file_utils -   https://s3.amazonaws.com/models.huggingface.co/bert/sberbank-ai/rugpt3large_based_on_gpt2/pytorch_model.bin not found in cache or force_download set to True, downloading to /root/.cache/torch/transformers/tmprjaykk11\n"
     ]
    },
    {
     "name": "stdout",
     "output_type": "stream",
     "text": [
      "\n"
     ]
    },
    {
     "data": {
      "application/vnd.jupyter.widget-view+json": {
       "model_id": "1b9fbff9b83d4326aedfa03f676f41f4",
       "version_major": 2,
       "version_minor": 0
      },
      "text/plain": [
       "HBox(children=(FloatProgress(value=0.0, description='Downloading', max=3141928211.0, style=ProgressStyle(descr…"
      ]
     },
     "metadata": {
      "tags": []
     },
     "output_type": "display_data"
    },
    {
     "name": "stderr",
     "output_type": "stream",
     "text": [
      "11/16/2020 13:56:54 - INFO - transformers.file_utils -   storing https://s3.amazonaws.com/models.huggingface.co/bert/sberbank-ai/rugpt3large_based_on_gpt2/pytorch_model.bin in cache at /root/.cache/torch/transformers/5f2ce73f5df1b0b20e9c0d5fadbedefdc9b484edcbc39252a1c913b1b4ce6cd2.5bdac7adaf803c2b7192441aba3020af4140f7177089f8f95940a0c073059a31\n",
      "11/16/2020 13:56:54 - INFO - transformers.file_utils -   creating metadata file for /root/.cache/torch/transformers/5f2ce73f5df1b0b20e9c0d5fadbedefdc9b484edcbc39252a1c913b1b4ce6cd2.5bdac7adaf803c2b7192441aba3020af4140f7177089f8f95940a0c073059a31\n",
      "11/16/2020 13:56:54 - INFO - filelock -   Lock 140423595671624 released on /root/.cache/torch/transformers/5f2ce73f5df1b0b20e9c0d5fadbedefdc9b484edcbc39252a1c913b1b4ce6cd2.5bdac7adaf803c2b7192441aba3020af4140f7177089f8f95940a0c073059a31.lock\n",
      "11/16/2020 13:56:54 - INFO - transformers.modeling_utils -   loading weights file https://s3.amazonaws.com/models.huggingface.co/bert/sberbank-ai/rugpt3large_based_on_gpt2/pytorch_model.bin from cache at /root/.cache/torch/transformers/5f2ce73f5df1b0b20e9c0d5fadbedefdc9b484edcbc39252a1c913b1b4ce6cd2.5bdac7adaf803c2b7192441aba3020af4140f7177089f8f95940a0c073059a31\n"
     ]
    },
    {
     "name": "stdout",
     "output_type": "stream",
     "text": [
      "\n"
     ]
    },
    {
     "name": "stderr",
     "output_type": "stream",
     "text": [
      "11/16/2020 13:58:48 - INFO - transformers.modeling_utils -   Weights from pretrained model not used in GPT2LMHeadModel: ['transformer.h.0.attn.masked_bias', 'transformer.h.1.attn.masked_bias', 'transformer.h.2.attn.masked_bias', 'transformer.h.3.attn.masked_bias', 'transformer.h.4.attn.masked_bias', 'transformer.h.5.attn.masked_bias', 'transformer.h.6.attn.masked_bias', 'transformer.h.7.attn.masked_bias', 'transformer.h.8.attn.masked_bias', 'transformer.h.9.attn.masked_bias', 'transformer.h.10.attn.masked_bias', 'transformer.h.11.attn.masked_bias', 'transformer.h.12.attn.masked_bias', 'transformer.h.13.attn.masked_bias', 'transformer.h.14.attn.masked_bias', 'transformer.h.15.attn.masked_bias', 'transformer.h.16.attn.masked_bias', 'transformer.h.17.attn.masked_bias', 'transformer.h.18.attn.masked_bias', 'transformer.h.19.attn.masked_bias', 'transformer.h.20.attn.masked_bias', 'transformer.h.21.attn.masked_bias', 'transformer.h.22.attn.masked_bias', 'transformer.h.23.attn.masked_bias']\n",
      "11/16/2020 13:58:49 - INFO - generate_transformers -   <generate_transformers.predict.<locals>.Args object at 0x7fb6ea81e828>\n",
      "11/16/2020 13:58:49 - WARNING - transformers.modeling_utils -   Setting `pad_token_id` to 50256 (first `eos_token_id`) to generate sequence\n",
      "11/16/2020 13:58:52 - WARNING - transformers.modeling_utils -   Setting `pad_token_id` to 50256 (first `eos_token_id`) to generate sequence\n"
     ]
    },
    {
     "name": "stdout",
     "output_type": "stream",
     "text": [
      "ruGPT:\n",
      "благоприятный день для работы особенно полезен.  Он может принести вам много денег, но и многое другое, что вы не ожидали получить.  Если вы планируете начать новую, крупную и успешную карьеру, то этот день будет очень благоприятен для этого.  В этот день вы\n"
     ]
    },
    {
     "name": "stderr",
     "output_type": "stream",
     "text": [
      "11/16/2020 13:58:53 - WARNING - transformers.modeling_utils -   Setting `pad_token_id` to 50256 (first `eos_token_id`) to generate sequence\n"
     ]
    },
    {
     "name": "stdout",
     "output_type": "stream",
     "text": [
      "ruGPT:\n",
      "вас ждет немало соблазнов и искушений.  И не забывайте, что в этот период нужно быть особенно бдительными, чтобы не упустить ни одной возможности.  А в целом, этот год обещает быть очень благоприятным для всех, кто стремится к успеху и гармонии с собой. \n",
      "\n"
     ]
    },
    {
     "name": "stderr",
     "output_type": "stream",
     "text": [
      "11/16/2020 13:58:55 - WARNING - transformers.modeling_utils -   Setting `pad_token_id` to 50256 (first `eos_token_id`) to generate sequence\n"
     ]
    },
    {
     "name": "stdout",
     "output_type": "stream",
     "text": [
      "ruGPT:\n",
      "хотя день порой приносит трудности)\n",
      "\n",
      "\n",
      "\n",
      "\n",
      "\n",
      "\n",
      "\n",
      "\n",
      "\n",
      "\n",
      "\n",
      "\n",
      "\n",
      "\n",
      "\n",
      "\n",
      "\n",
      "\n",
      "\n",
      "\n",
      "\n",
      "\n",
      "\n",
      "\n",
      "\n",
      "\n",
      "\n",
      "\n",
      "\n",
      "\n",
      "\n",
      "\n",
      "\n",
      "\n",
      "\n",
      "\n",
      "\n",
      "\n",
      "\n",
      "\n",
      "\n",
      "\n",
      "\n",
      "\n",
      "\n",
      "\n",
      "\n",
      "\n",
      "\n"
     ]
    },
    {
     "name": "stderr",
     "output_type": "stream",
     "text": [
      "11/16/2020 13:58:56 - WARNING - transformers.modeling_utils -   Setting `pad_token_id` to 50256 (first `eos_token_id`) to generate sequence\n"
     ]
    },
    {
     "name": "stdout",
     "output_type": "stream",
     "text": [
      "ruGPT:\n",
      "вас ждет немало соблазнов и искушений, и в конце концов он должен будет принять решение. Он должен будет решить: «Я не могу жить без нее».\n",
      "\n",
      "– Я знаю.\n",
      "\n",
      "– Тогда ты должна понять: он не может жить без нее. Он\n",
      "ruGPT:\n",
      "вы энергичны настойчивы и решительны, но в то же время они очень чувствительны.\n",
      "\n",
      "\n",
      "\n",
      "\n",
      "\n",
      "\n",
      "\n",
      "\n",
      "\n",
      "\n",
      "\n",
      "\n",
      "\n",
      "\n",
      "\n",
      "\n",
      "\n",
      "\n",
      "\n",
      "\n",
      "\n",
      "\n",
      "\n",
      "\n",
      "\n",
      "\n",
      "\n",
      "\n",
      "\n",
      "\n",
      "\n",
      "\n",
      "\n",
      "\n",
      "\n",
      "\n",
      "\n",
      "\n",
      "\n"
     ]
    }
   ],
   "source": [
    "results = predict('gpt2','sberbank-ai/rugpt3large_based_on_gpt2', start)"
   ]
  },
  {
   "cell_type": "code",
   "execution_count": 51,
   "metadata": {
    "colab": {
     "base_uri": "https://localhost:8080/"
    },
    "id": "9xNuCPOYkGt8",
    "outputId": "49667c74-30b2-40f6-b747-e6d27474a432"
   },
   "outputs": [
    {
     "data": {
      "text/plain": [
       "['благоприятный день для работы особенно полезен.  Он может принести вам много денег, но и многое другое, что вы не ожидали получить.  Если вы планируете начать новую, крупную и успешную карьеру, то этот день будет очень благоприятен для этого.  В этот день вы',\n",
       " 'вас ждет немало соблазнов и искушений.  И не забывайте, что в этот период нужно быть особенно бдительными, чтобы не упустить ни одной возможности.  А в целом, этот год обещает быть очень благоприятным для всех, кто стремится к успеху и гармонии с собой. \\n',\n",
       " 'хотя день порой приносит трудности)\\n\\n\\n\\n\\n\\n\\n\\n\\n\\n\\n\\n\\n\\n\\n\\n\\n\\n\\n\\n\\n\\n\\n\\n\\n\\n\\n\\n\\n\\n\\n\\n\\n\\n\\n\\n\\n\\n\\n\\n\\n\\n\\n\\n\\n\\n\\n\\n\\n',\n",
       " 'вас ждет немало соблазнов и искушений, и в конце концов он должен будет принять решение. Он должен будет решить: «Я не могу жить без нее».\\n\\n–\\xa0Я знаю.\\n\\n–\\xa0Тогда ты должна понять: он не может жить без нее. Он',\n",
       " 'вы энергичны настойчивы и решительны, но в то же время они очень чувствительны.\\n\\n\\n\\n\\n\\n\\n\\n\\n\\n\\n\\n\\n\\n\\n\\n\\n\\n\\n\\n\\n\\n\\n\\n\\n\\n\\n\\n\\n\\n\\n\\n\\n\\n\\n\\n\\n\\n\\n']"
      ]
     },
     "execution_count": 51,
     "metadata": {
      "tags": []
     },
     "output_type": "execute_result"
    }
   ],
   "source": [
    "results"
   ]
  },
  {
   "cell_type": "code",
   "execution_count": null,
   "metadata": {
    "id": "AQ4xJJT8tRdY"
   },
   "outputs": [],
   "source": []
  }
 ],
 "metadata": {
  "accelerator": "GPU",
  "colab": {
   "collapsed_sections": [],
   "name": "GPT_generation_example (2).ipynb",
   "provenance": [],
   "toc_visible": true
  },
  "kernelspec": {
   "display_name": "Python 3",
   "language": "python",
   "name": "python3"
  },
  "language_info": {
   "codemirror_mode": {
    "name": "ipython",
    "version": 3
   },
   "file_extension": ".py",
   "mimetype": "text/x-python",
   "name": "python",
   "nbconvert_exporter": "python",
   "pygments_lexer": "ipython3",
   "version": "3.7.4"
  },
  "widgets": {
   "application/vnd.jupyter.widget-state+json": {
    "02ae77bf589e471d9a182d8f517cbb3e": {
     "model_module": "@jupyter-widgets/controls",
     "model_name": "DescriptionStyleModel",
     "state": {
      "_model_module": "@jupyter-widgets/controls",
      "_model_module_version": "1.5.0",
      "_model_name": "DescriptionStyleModel",
      "_view_count": null,
      "_view_module": "@jupyter-widgets/base",
      "_view_module_version": "1.2.0",
      "_view_name": "StyleView",
      "description_width": ""
     }
    },
    "03b84bbf070d4c75a630146d48576c86": {
     "model_module": "@jupyter-widgets/controls",
     "model_name": "ProgressStyleModel",
     "state": {
      "_model_module": "@jupyter-widgets/controls",
      "_model_module_version": "1.5.0",
      "_model_name": "ProgressStyleModel",
      "_view_count": null,
      "_view_module": "@jupyter-widgets/base",
      "_view_module_version": "1.2.0",
      "_view_name": "StyleView",
      "bar_color": null,
      "description_width": "initial"
     }
    },
    "03be1f9deaaa4a859f4fe4668c39b3c9": {
     "model_module": "@jupyter-widgets/controls",
     "model_name": "HBoxModel",
     "state": {
      "_dom_classes": [],
      "_model_module": "@jupyter-widgets/controls",
      "_model_module_version": "1.5.0",
      "_model_name": "HBoxModel",
      "_view_count": null,
      "_view_module": "@jupyter-widgets/controls",
      "_view_module_version": "1.5.0",
      "_view_name": "HBoxView",
      "box_style": "",
      "children": [
       "IPY_MODEL_92714898d60a48d8a59f579cf5d9c3b8",
       "IPY_MODEL_a730717adc664d03b74f795a7991f555"
      ],
      "layout": "IPY_MODEL_7e8f55cc439e457cb9dc8de2bc734d50"
     }
    },
    "050c5064721f44d6a288261e0a9a36a7": {
     "model_module": "@jupyter-widgets/base",
     "model_name": "LayoutModel",
     "state": {
      "_model_module": "@jupyter-widgets/base",
      "_model_module_version": "1.2.0",
      "_model_name": "LayoutModel",
      "_view_count": null,
      "_view_module": "@jupyter-widgets/base",
      "_view_module_version": "1.2.0",
      "_view_name": "LayoutView",
      "align_content": null,
      "align_items": null,
      "align_self": null,
      "border": null,
      "bottom": null,
      "display": null,
      "flex": null,
      "flex_flow": null,
      "grid_area": null,
      "grid_auto_columns": null,
      "grid_auto_flow": null,
      "grid_auto_rows": null,
      "grid_column": null,
      "grid_gap": null,
      "grid_row": null,
      "grid_template_areas": null,
      "grid_template_columns": null,
      "grid_template_rows": null,
      "height": null,
      "justify_content": null,
      "justify_items": null,
      "left": null,
      "margin": null,
      "max_height": null,
      "max_width": null,
      "min_height": null,
      "min_width": null,
      "object_fit": null,
      "object_position": null,
      "order": null,
      "overflow": null,
      "overflow_x": null,
      "overflow_y": null,
      "padding": null,
      "right": null,
      "top": null,
      "visibility": null,
      "width": null
     }
    },
    "08898798c88d4b549999353552d29c05": {
     "model_module": "@jupyter-widgets/controls",
     "model_name": "DescriptionStyleModel",
     "state": {
      "_model_module": "@jupyter-widgets/controls",
      "_model_module_version": "1.5.0",
      "_model_name": "DescriptionStyleModel",
      "_view_count": null,
      "_view_module": "@jupyter-widgets/base",
      "_view_module_version": "1.2.0",
      "_view_name": "StyleView",
      "description_width": ""
     }
    },
    "0aa460cfb40a4ebf8939d69f46c7380c": {
     "model_module": "@jupyter-widgets/base",
     "model_name": "LayoutModel",
     "state": {
      "_model_module": "@jupyter-widgets/base",
      "_model_module_version": "1.2.0",
      "_model_name": "LayoutModel",
      "_view_count": null,
      "_view_module": "@jupyter-widgets/base",
      "_view_module_version": "1.2.0",
      "_view_name": "LayoutView",
      "align_content": null,
      "align_items": null,
      "align_self": null,
      "border": null,
      "bottom": null,
      "display": null,
      "flex": null,
      "flex_flow": null,
      "grid_area": null,
      "grid_auto_columns": null,
      "grid_auto_flow": null,
      "grid_auto_rows": null,
      "grid_column": null,
      "grid_gap": null,
      "grid_row": null,
      "grid_template_areas": null,
      "grid_template_columns": null,
      "grid_template_rows": null,
      "height": null,
      "justify_content": null,
      "justify_items": null,
      "left": null,
      "margin": null,
      "max_height": null,
      "max_width": null,
      "min_height": null,
      "min_width": null,
      "object_fit": null,
      "object_position": null,
      "order": null,
      "overflow": null,
      "overflow_x": null,
      "overflow_y": null,
      "padding": null,
      "right": null,
      "top": null,
      "visibility": null,
      "width": null
     }
    },
    "1b9fbff9b83d4326aedfa03f676f41f4": {
     "model_module": "@jupyter-widgets/controls",
     "model_name": "HBoxModel",
     "state": {
      "_dom_classes": [],
      "_model_module": "@jupyter-widgets/controls",
      "_model_module_version": "1.5.0",
      "_model_name": "HBoxModel",
      "_view_count": null,
      "_view_module": "@jupyter-widgets/controls",
      "_view_module_version": "1.5.0",
      "_view_name": "HBoxView",
      "box_style": "",
      "children": [
       "IPY_MODEL_79f4a17458794984ab11a560b4188ae8",
       "IPY_MODEL_91b917e153f2427ca22ccbc3a2d56b9e"
      ],
      "layout": "IPY_MODEL_624da27841b44c26b7bea73ac2edf3f5"
     }
    },
    "1d6c0252f92c4d85b9ccae84ea9e7e58": {
     "model_module": "@jupyter-widgets/base",
     "model_name": "LayoutModel",
     "state": {
      "_model_module": "@jupyter-widgets/base",
      "_model_module_version": "1.2.0",
      "_model_name": "LayoutModel",
      "_view_count": null,
      "_view_module": "@jupyter-widgets/base",
      "_view_module_version": "1.2.0",
      "_view_name": "LayoutView",
      "align_content": null,
      "align_items": null,
      "align_self": null,
      "border": null,
      "bottom": null,
      "display": null,
      "flex": null,
      "flex_flow": null,
      "grid_area": null,
      "grid_auto_columns": null,
      "grid_auto_flow": null,
      "grid_auto_rows": null,
      "grid_column": null,
      "grid_gap": null,
      "grid_row": null,
      "grid_template_areas": null,
      "grid_template_columns": null,
      "grid_template_rows": null,
      "height": null,
      "justify_content": null,
      "justify_items": null,
      "left": null,
      "margin": null,
      "max_height": null,
      "max_width": null,
      "min_height": null,
      "min_width": null,
      "object_fit": null,
      "object_position": null,
      "order": null,
      "overflow": null,
      "overflow_x": null,
      "overflow_y": null,
      "padding": null,
      "right": null,
      "top": null,
      "visibility": null,
      "width": null
     }
    },
    "3248c2289f854718b9948c2a9d41c461": {
     "model_module": "@jupyter-widgets/controls",
     "model_name": "ProgressStyleModel",
     "state": {
      "_model_module": "@jupyter-widgets/controls",
      "_model_module_version": "1.5.0",
      "_model_name": "ProgressStyleModel",
      "_view_count": null,
      "_view_module": "@jupyter-widgets/base",
      "_view_module_version": "1.2.0",
      "_view_name": "StyleView",
      "bar_color": null,
      "description_width": "initial"
     }
    },
    "3d5ec90186c349b4b8cca429050874da": {
     "model_module": "@jupyter-widgets/base",
     "model_name": "LayoutModel",
     "state": {
      "_model_module": "@jupyter-widgets/base",
      "_model_module_version": "1.2.0",
      "_model_name": "LayoutModel",
      "_view_count": null,
      "_view_module": "@jupyter-widgets/base",
      "_view_module_version": "1.2.0",
      "_view_name": "LayoutView",
      "align_content": null,
      "align_items": null,
      "align_self": null,
      "border": null,
      "bottom": null,
      "display": null,
      "flex": null,
      "flex_flow": null,
      "grid_area": null,
      "grid_auto_columns": null,
      "grid_auto_flow": null,
      "grid_auto_rows": null,
      "grid_column": null,
      "grid_gap": null,
      "grid_row": null,
      "grid_template_areas": null,
      "grid_template_columns": null,
      "grid_template_rows": null,
      "height": null,
      "justify_content": null,
      "justify_items": null,
      "left": null,
      "margin": null,
      "max_height": null,
      "max_width": null,
      "min_height": null,
      "min_width": null,
      "object_fit": null,
      "object_position": null,
      "order": null,
      "overflow": null,
      "overflow_x": null,
      "overflow_y": null,
      "padding": null,
      "right": null,
      "top": null,
      "visibility": null,
      "width": null
     }
    },
    "4a8dd885c31e4e8dade7aa17724d4670": {
     "model_module": "@jupyter-widgets/controls",
     "model_name": "ProgressStyleModel",
     "state": {
      "_model_module": "@jupyter-widgets/controls",
      "_model_module_version": "1.5.0",
      "_model_name": "ProgressStyleModel",
      "_view_count": null,
      "_view_module": "@jupyter-widgets/base",
      "_view_module_version": "1.2.0",
      "_view_name": "StyleView",
      "bar_color": null,
      "description_width": "initial"
     }
    },
    "5e4868da2d0449208e63cabfd4183113": {
     "model_module": "@jupyter-widgets/controls",
     "model_name": "HBoxModel",
     "state": {
      "_dom_classes": [],
      "_model_module": "@jupyter-widgets/controls",
      "_model_module_version": "1.5.0",
      "_model_name": "HBoxModel",
      "_view_count": null,
      "_view_module": "@jupyter-widgets/controls",
      "_view_module_version": "1.5.0",
      "_view_name": "HBoxView",
      "box_style": "",
      "children": [
       "IPY_MODEL_8625d45c05f44cab9f59451006a1b185",
       "IPY_MODEL_ea98426d977c477aa28170a76dd7f505"
      ],
      "layout": "IPY_MODEL_65e461caab204ad8b2835b5533af3fe2"
     }
    },
    "624da27841b44c26b7bea73ac2edf3f5": {
     "model_module": "@jupyter-widgets/base",
     "model_name": "LayoutModel",
     "state": {
      "_model_module": "@jupyter-widgets/base",
      "_model_module_version": "1.2.0",
      "_model_name": "LayoutModel",
      "_view_count": null,
      "_view_module": "@jupyter-widgets/base",
      "_view_module_version": "1.2.0",
      "_view_name": "LayoutView",
      "align_content": null,
      "align_items": null,
      "align_self": null,
      "border": null,
      "bottom": null,
      "display": null,
      "flex": null,
      "flex_flow": null,
      "grid_area": null,
      "grid_auto_columns": null,
      "grid_auto_flow": null,
      "grid_auto_rows": null,
      "grid_column": null,
      "grid_gap": null,
      "grid_row": null,
      "grid_template_areas": null,
      "grid_template_columns": null,
      "grid_template_rows": null,
      "height": null,
      "justify_content": null,
      "justify_items": null,
      "left": null,
      "margin": null,
      "max_height": null,
      "max_width": null,
      "min_height": null,
      "min_width": null,
      "object_fit": null,
      "object_position": null,
      "order": null,
      "overflow": null,
      "overflow_x": null,
      "overflow_y": null,
      "padding": null,
      "right": null,
      "top": null,
      "visibility": null,
      "width": null
     }
    },
    "64a8e9f8cd814112a8719e5eb1e029bd": {
     "model_module": "@jupyter-widgets/base",
     "model_name": "LayoutModel",
     "state": {
      "_model_module": "@jupyter-widgets/base",
      "_model_module_version": "1.2.0",
      "_model_name": "LayoutModel",
      "_view_count": null,
      "_view_module": "@jupyter-widgets/base",
      "_view_module_version": "1.2.0",
      "_view_name": "LayoutView",
      "align_content": null,
      "align_items": null,
      "align_self": null,
      "border": null,
      "bottom": null,
      "display": null,
      "flex": null,
      "flex_flow": null,
      "grid_area": null,
      "grid_auto_columns": null,
      "grid_auto_flow": null,
      "grid_auto_rows": null,
      "grid_column": null,
      "grid_gap": null,
      "grid_row": null,
      "grid_template_areas": null,
      "grid_template_columns": null,
      "grid_template_rows": null,
      "height": null,
      "justify_content": null,
      "justify_items": null,
      "left": null,
      "margin": null,
      "max_height": null,
      "max_width": null,
      "min_height": null,
      "min_width": null,
      "object_fit": null,
      "object_position": null,
      "order": null,
      "overflow": null,
      "overflow_x": null,
      "overflow_y": null,
      "padding": null,
      "right": null,
      "top": null,
      "visibility": null,
      "width": null
     }
    },
    "65e461caab204ad8b2835b5533af3fe2": {
     "model_module": "@jupyter-widgets/base",
     "model_name": "LayoutModel",
     "state": {
      "_model_module": "@jupyter-widgets/base",
      "_model_module_version": "1.2.0",
      "_model_name": "LayoutModel",
      "_view_count": null,
      "_view_module": "@jupyter-widgets/base",
      "_view_module_version": "1.2.0",
      "_view_name": "LayoutView",
      "align_content": null,
      "align_items": null,
      "align_self": null,
      "border": null,
      "bottom": null,
      "display": null,
      "flex": null,
      "flex_flow": null,
      "grid_area": null,
      "grid_auto_columns": null,
      "grid_auto_flow": null,
      "grid_auto_rows": null,
      "grid_column": null,
      "grid_gap": null,
      "grid_row": null,
      "grid_template_areas": null,
      "grid_template_columns": null,
      "grid_template_rows": null,
      "height": null,
      "justify_content": null,
      "justify_items": null,
      "left": null,
      "margin": null,
      "max_height": null,
      "max_width": null,
      "min_height": null,
      "min_width": null,
      "object_fit": null,
      "object_position": null,
      "order": null,
      "overflow": null,
      "overflow_x": null,
      "overflow_y": null,
      "padding": null,
      "right": null,
      "top": null,
      "visibility": null,
      "width": null
     }
    },
    "79f4a17458794984ab11a560b4188ae8": {
     "model_module": "@jupyter-widgets/controls",
     "model_name": "FloatProgressModel",
     "state": {
      "_dom_classes": [],
      "_model_module": "@jupyter-widgets/controls",
      "_model_module_version": "1.5.0",
      "_model_name": "FloatProgressModel",
      "_view_count": null,
      "_view_module": "@jupyter-widgets/controls",
      "_view_module_version": "1.5.0",
      "_view_name": "ProgressView",
      "bar_style": "success",
      "description": "Downloading: 100%",
      "description_tooltip": null,
      "layout": "IPY_MODEL_ef13cf0b32274cfa840b3400f57c8038",
      "max": 3141928211,
      "min": 0,
      "orientation": "horizontal",
      "style": "IPY_MODEL_3248c2289f854718b9948c2a9d41c461",
      "value": 3141928211
     }
    },
    "7c5f93d8d47049c598a2d4f771bef16b": {
     "model_module": "@jupyter-widgets/controls",
     "model_name": "DescriptionStyleModel",
     "state": {
      "_model_module": "@jupyter-widgets/controls",
      "_model_module_version": "1.5.0",
      "_model_name": "DescriptionStyleModel",
      "_view_count": null,
      "_view_module": "@jupyter-widgets/base",
      "_view_module_version": "1.2.0",
      "_view_name": "StyleView",
      "description_width": ""
     }
    },
    "7e8f55cc439e457cb9dc8de2bc734d50": {
     "model_module": "@jupyter-widgets/base",
     "model_name": "LayoutModel",
     "state": {
      "_model_module": "@jupyter-widgets/base",
      "_model_module_version": "1.2.0",
      "_model_name": "LayoutModel",
      "_view_count": null,
      "_view_module": "@jupyter-widgets/base",
      "_view_module_version": "1.2.0",
      "_view_name": "LayoutView",
      "align_content": null,
      "align_items": null,
      "align_self": null,
      "border": null,
      "bottom": null,
      "display": null,
      "flex": null,
      "flex_flow": null,
      "grid_area": null,
      "grid_auto_columns": null,
      "grid_auto_flow": null,
      "grid_auto_rows": null,
      "grid_column": null,
      "grid_gap": null,
      "grid_row": null,
      "grid_template_areas": null,
      "grid_template_columns": null,
      "grid_template_rows": null,
      "height": null,
      "justify_content": null,
      "justify_items": null,
      "left": null,
      "margin": null,
      "max_height": null,
      "max_width": null,
      "min_height": null,
      "min_width": null,
      "object_fit": null,
      "object_position": null,
      "order": null,
      "overflow": null,
      "overflow_x": null,
      "overflow_y": null,
      "padding": null,
      "right": null,
      "top": null,
      "visibility": null,
      "width": null
     }
    },
    "8625d45c05f44cab9f59451006a1b185": {
     "model_module": "@jupyter-widgets/controls",
     "model_name": "FloatProgressModel",
     "state": {
      "_dom_classes": [],
      "_model_module": "@jupyter-widgets/controls",
      "_model_module_version": "1.5.0",
      "_model_name": "FloatProgressModel",
      "_view_count": null,
      "_view_module": "@jupyter-widgets/controls",
      "_view_module_version": "1.5.0",
      "_view_name": "ProgressView",
      "bar_style": "success",
      "description": "Downloading: 100%",
      "description_tooltip": null,
      "layout": "IPY_MODEL_050c5064721f44d6a288261e0a9a36a7",
      "max": 1270925,
      "min": 0,
      "orientation": "horizontal",
      "style": "IPY_MODEL_03b84bbf070d4c75a630146d48576c86",
      "value": 1270925
     }
    },
    "893a8e4657204cd0a385eeb0e0f05cf5": {
     "model_module": "@jupyter-widgets/controls",
     "model_name": "HBoxModel",
     "state": {
      "_dom_classes": [],
      "_model_module": "@jupyter-widgets/controls",
      "_model_module_version": "1.5.0",
      "_model_name": "HBoxModel",
      "_view_count": null,
      "_view_module": "@jupyter-widgets/controls",
      "_view_module_version": "1.5.0",
      "_view_name": "HBoxView",
      "box_style": "",
      "children": [
       "IPY_MODEL_aed4d7a06cdf4543b91e065e65990aca",
       "IPY_MODEL_8baca2171aa6456d8f617766a94afb5e"
      ],
      "layout": "IPY_MODEL_a13ec21f685d4a6b8a5d33e7b012b0aa"
     }
    },
    "8baca2171aa6456d8f617766a94afb5e": {
     "model_module": "@jupyter-widgets/controls",
     "model_name": "HTMLModel",
     "state": {
      "_dom_classes": [],
      "_model_module": "@jupyter-widgets/controls",
      "_model_module_version": "1.5.0",
      "_model_name": "HTMLModel",
      "_view_count": null,
      "_view_module": "@jupyter-widgets/controls",
      "_view_module_version": "1.5.0",
      "_view_name": "HTMLView",
      "description": "",
      "description_tooltip": null,
      "layout": "IPY_MODEL_64a8e9f8cd814112a8719e5eb1e029bd",
      "placeholder": "​",
      "style": "IPY_MODEL_02ae77bf589e471d9a182d8f517cbb3e",
      "value": " 1.71M/1.71M [00:00&lt;00:00, 3.60MB/s]"
     }
    },
    "91b917e153f2427ca22ccbc3a2d56b9e": {
     "model_module": "@jupyter-widgets/controls",
     "model_name": "HTMLModel",
     "state": {
      "_dom_classes": [],
      "_model_module": "@jupyter-widgets/controls",
      "_model_module_version": "1.5.0",
      "_model_name": "HTMLModel",
      "_view_count": null,
      "_view_module": "@jupyter-widgets/controls",
      "_view_module_version": "1.5.0",
      "_view_name": "HTMLView",
      "description": "",
      "description_tooltip": null,
      "layout": "IPY_MODEL_d9ec00be2e564304a304f5c7f3c6f46e",
      "placeholder": "​",
      "style": "IPY_MODEL_ff3d69e5e8914c39916021457216fa09",
      "value": " 3.14G/3.14G [01:05&lt;00:00, 47.9MB/s]"
     }
    },
    "92714898d60a48d8a59f579cf5d9c3b8": {
     "model_module": "@jupyter-widgets/controls",
     "model_name": "FloatProgressModel",
     "state": {
      "_dom_classes": [],
      "_model_module": "@jupyter-widgets/controls",
      "_model_module_version": "1.5.0",
      "_model_name": "FloatProgressModel",
      "_view_count": null,
      "_view_module": "@jupyter-widgets/controls",
      "_view_module_version": "1.5.0",
      "_view_name": "ProgressView",
      "bar_style": "success",
      "description": "Downloading: 100%",
      "description_tooltip": null,
      "layout": "IPY_MODEL_1d6c0252f92c4d85b9ccae84ea9e7e58",
      "max": 609,
      "min": 0,
      "orientation": "horizontal",
      "style": "IPY_MODEL_c5aba68d351541f1bf1b7dcdf8df896a",
      "value": 609
     }
    },
    "a13ec21f685d4a6b8a5d33e7b012b0aa": {
     "model_module": "@jupyter-widgets/base",
     "model_name": "LayoutModel",
     "state": {
      "_model_module": "@jupyter-widgets/base",
      "_model_module_version": "1.2.0",
      "_model_name": "LayoutModel",
      "_view_count": null,
      "_view_module": "@jupyter-widgets/base",
      "_view_module_version": "1.2.0",
      "_view_name": "LayoutView",
      "align_content": null,
      "align_items": null,
      "align_self": null,
      "border": null,
      "bottom": null,
      "display": null,
      "flex": null,
      "flex_flow": null,
      "grid_area": null,
      "grid_auto_columns": null,
      "grid_auto_flow": null,
      "grid_auto_rows": null,
      "grid_column": null,
      "grid_gap": null,
      "grid_row": null,
      "grid_template_areas": null,
      "grid_template_columns": null,
      "grid_template_rows": null,
      "height": null,
      "justify_content": null,
      "justify_items": null,
      "left": null,
      "margin": null,
      "max_height": null,
      "max_width": null,
      "min_height": null,
      "min_width": null,
      "object_fit": null,
      "object_position": null,
      "order": null,
      "overflow": null,
      "overflow_x": null,
      "overflow_y": null,
      "padding": null,
      "right": null,
      "top": null,
      "visibility": null,
      "width": null
     }
    },
    "a730717adc664d03b74f795a7991f555": {
     "model_module": "@jupyter-widgets/controls",
     "model_name": "HTMLModel",
     "state": {
      "_dom_classes": [],
      "_model_module": "@jupyter-widgets/controls",
      "_model_module_version": "1.5.0",
      "_model_name": "HTMLModel",
      "_view_count": null,
      "_view_module": "@jupyter-widgets/controls",
      "_view_module_version": "1.5.0",
      "_view_name": "HTMLView",
      "description": "",
      "description_tooltip": null,
      "layout": "IPY_MODEL_0aa460cfb40a4ebf8939d69f46c7380c",
      "placeholder": "​",
      "style": "IPY_MODEL_7c5f93d8d47049c598a2d4f771bef16b",
      "value": " 609/609 [00:00&lt;00:00, 2.64kB/s]"
     }
    },
    "aed4d7a06cdf4543b91e065e65990aca": {
     "model_module": "@jupyter-widgets/controls",
     "model_name": "FloatProgressModel",
     "state": {
      "_dom_classes": [],
      "_model_module": "@jupyter-widgets/controls",
      "_model_module_version": "1.5.0",
      "_model_name": "FloatProgressModel",
      "_view_count": null,
      "_view_module": "@jupyter-widgets/controls",
      "_view_module_version": "1.5.0",
      "_view_name": "ProgressView",
      "bar_style": "success",
      "description": "Downloading: 100%",
      "description_tooltip": null,
      "layout": "IPY_MODEL_fc31e569f0704d6e92839955b2bd0278",
      "max": 1713123,
      "min": 0,
      "orientation": "horizontal",
      "style": "IPY_MODEL_4a8dd885c31e4e8dade7aa17724d4670",
      "value": 1713123
     }
    },
    "c5aba68d351541f1bf1b7dcdf8df896a": {
     "model_module": "@jupyter-widgets/controls",
     "model_name": "ProgressStyleModel",
     "state": {
      "_model_module": "@jupyter-widgets/controls",
      "_model_module_version": "1.5.0",
      "_model_name": "ProgressStyleModel",
      "_view_count": null,
      "_view_module": "@jupyter-widgets/base",
      "_view_module_version": "1.2.0",
      "_view_name": "StyleView",
      "bar_color": null,
      "description_width": "initial"
     }
    },
    "d9ec00be2e564304a304f5c7f3c6f46e": {
     "model_module": "@jupyter-widgets/base",
     "model_name": "LayoutModel",
     "state": {
      "_model_module": "@jupyter-widgets/base",
      "_model_module_version": "1.2.0",
      "_model_name": "LayoutModel",
      "_view_count": null,
      "_view_module": "@jupyter-widgets/base",
      "_view_module_version": "1.2.0",
      "_view_name": "LayoutView",
      "align_content": null,
      "align_items": null,
      "align_self": null,
      "border": null,
      "bottom": null,
      "display": null,
      "flex": null,
      "flex_flow": null,
      "grid_area": null,
      "grid_auto_columns": null,
      "grid_auto_flow": null,
      "grid_auto_rows": null,
      "grid_column": null,
      "grid_gap": null,
      "grid_row": null,
      "grid_template_areas": null,
      "grid_template_columns": null,
      "grid_template_rows": null,
      "height": null,
      "justify_content": null,
      "justify_items": null,
      "left": null,
      "margin": null,
      "max_height": null,
      "max_width": null,
      "min_height": null,
      "min_width": null,
      "object_fit": null,
      "object_position": null,
      "order": null,
      "overflow": null,
      "overflow_x": null,
      "overflow_y": null,
      "padding": null,
      "right": null,
      "top": null,
      "visibility": null,
      "width": null
     }
    },
    "ea98426d977c477aa28170a76dd7f505": {
     "model_module": "@jupyter-widgets/controls",
     "model_name": "HTMLModel",
     "state": {
      "_dom_classes": [],
      "_model_module": "@jupyter-widgets/controls",
      "_model_module_version": "1.5.0",
      "_model_name": "HTMLModel",
      "_view_count": null,
      "_view_module": "@jupyter-widgets/controls",
      "_view_module_version": "1.5.0",
      "_view_name": "HTMLView",
      "description": "",
      "description_tooltip": null,
      "layout": "IPY_MODEL_3d5ec90186c349b4b8cca429050874da",
      "placeholder": "​",
      "style": "IPY_MODEL_08898798c88d4b549999353552d29c05",
      "value": " 1.27M/1.27M [00:00&lt;00:00, 4.77MB/s]"
     }
    },
    "ef13cf0b32274cfa840b3400f57c8038": {
     "model_module": "@jupyter-widgets/base",
     "model_name": "LayoutModel",
     "state": {
      "_model_module": "@jupyter-widgets/base",
      "_model_module_version": "1.2.0",
      "_model_name": "LayoutModel",
      "_view_count": null,
      "_view_module": "@jupyter-widgets/base",
      "_view_module_version": "1.2.0",
      "_view_name": "LayoutView",
      "align_content": null,
      "align_items": null,
      "align_self": null,
      "border": null,
      "bottom": null,
      "display": null,
      "flex": null,
      "flex_flow": null,
      "grid_area": null,
      "grid_auto_columns": null,
      "grid_auto_flow": null,
      "grid_auto_rows": null,
      "grid_column": null,
      "grid_gap": null,
      "grid_row": null,
      "grid_template_areas": null,
      "grid_template_columns": null,
      "grid_template_rows": null,
      "height": null,
      "justify_content": null,
      "justify_items": null,
      "left": null,
      "margin": null,
      "max_height": null,
      "max_width": null,
      "min_height": null,
      "min_width": null,
      "object_fit": null,
      "object_position": null,
      "order": null,
      "overflow": null,
      "overflow_x": null,
      "overflow_y": null,
      "padding": null,
      "right": null,
      "top": null,
      "visibility": null,
      "width": null
     }
    },
    "fc31e569f0704d6e92839955b2bd0278": {
     "model_module": "@jupyter-widgets/base",
     "model_name": "LayoutModel",
     "state": {
      "_model_module": "@jupyter-widgets/base",
      "_model_module_version": "1.2.0",
      "_model_name": "LayoutModel",
      "_view_count": null,
      "_view_module": "@jupyter-widgets/base",
      "_view_module_version": "1.2.0",
      "_view_name": "LayoutView",
      "align_content": null,
      "align_items": null,
      "align_self": null,
      "border": null,
      "bottom": null,
      "display": null,
      "flex": null,
      "flex_flow": null,
      "grid_area": null,
      "grid_auto_columns": null,
      "grid_auto_flow": null,
      "grid_auto_rows": null,
      "grid_column": null,
      "grid_gap": null,
      "grid_row": null,
      "grid_template_areas": null,
      "grid_template_columns": null,
      "grid_template_rows": null,
      "height": null,
      "justify_content": null,
      "justify_items": null,
      "left": null,
      "margin": null,
      "max_height": null,
      "max_width": null,
      "min_height": null,
      "min_width": null,
      "object_fit": null,
      "object_position": null,
      "order": null,
      "overflow": null,
      "overflow_x": null,
      "overflow_y": null,
      "padding": null,
      "right": null,
      "top": null,
      "visibility": null,
      "width": null
     }
    },
    "ff3d69e5e8914c39916021457216fa09": {
     "model_module": "@jupyter-widgets/controls",
     "model_name": "DescriptionStyleModel",
     "state": {
      "_model_module": "@jupyter-widgets/controls",
      "_model_module_version": "1.5.0",
      "_model_name": "DescriptionStyleModel",
      "_view_count": null,
      "_view_module": "@jupyter-widgets/base",
      "_view_module_version": "1.2.0",
      "_view_name": "StyleView",
      "description_width": ""
     }
    }
   }
  }
 },
 "nbformat": 4,
 "nbformat_minor": 1
}
