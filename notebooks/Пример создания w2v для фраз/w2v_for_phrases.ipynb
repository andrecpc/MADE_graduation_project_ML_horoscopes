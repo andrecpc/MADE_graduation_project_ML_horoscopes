{
  "nbformat": 4,
  "nbformat_minor": 0,
  "metadata": {
    "kernelspec": {
      "display_name": "Python 3",
      "language": "python",
      "name": "python3"
    },
    "language_info": {
      "codemirror_mode": {
        "name": "ipython",
        "version": 3
      },
      "file_extension": ".py",
      "mimetype": "text/x-python",
      "name": "python",
      "nbconvert_exporter": "python",
      "pygments_lexer": "ipython3",
      "version": "3.6.8"
    },
    "colab": {
      "name": "w2v for phrases.ipynb",
      "provenance": [],
      "collapsed_sections": []
    },
    "accelerator": "GPU"
  },
  "cells": [
    {
      "cell_type": "markdown",
      "metadata": {
        "id": "QVoPC4cMaErK"
      },
      "source": [
        "В начале привычные вещи, ничего необычного"
      ]
    },
    {
      "cell_type": "code",
      "metadata": {
        "id": "3zrhecYPtTcL"
      },
      "source": [
        "import math\n",
        "import torch\n",
        "import torch.nn as nn\n",
        "import torch.nn.functional as F\n",
        "from torch.utils.data import Dataset, DataLoader, random_split\n",
        "import torch.optim as optim\n",
        "\n",
        "import pandas as pd\n",
        "import numpy as np\n",
        "\n",
        "import tqdm\n",
        "import matplotlib.pyplot as plt\n",
        "\n",
        "import re"
      ],
      "execution_count": 3,
      "outputs": []
    },
    {
      "cell_type": "code",
      "metadata": {
        "id": "5MlnofzGwzv7"
      },
      "source": [
        "# Загружаем файлы и готовим некоторые списки\n",
        "\n",
        "df = pd.read_csv('гороскопы мейла с фичами.csv', sep=';') # в этом файле есть координаты, но только по 2 первых слова прогноза\n",
        "\n",
        "signs = ['Овен',\t'Телец',\t'Близнецы',\t'Рак',\t'Лев',\t'Дева',\t'Весы',\t'Скорпион',\t'Стрелец',\t'Козерог',\t'Водолей',\t'Рыбы']\n",
        "planets = {'Sun': 10,  'Mercury': 199, 'Venus': 299, 'Mars': 499, 'Jupiter': 599, 'Saturn': 699, 'Uranus': 799, 'Neptune': 899, 'Pluto': 999}\n",
        "features = []\n",
        "for k, v in planets.items():\n",
        "  features += [k+'_x', k+'_y', k+'_z', k+'_vx', k+'_vy', k+'_vz', k+'_l', k+'_ry', k+'_rr']"
      ],
      "execution_count": 4,
      "outputs": []
    },
    {
      "cell_type": "code",
      "metadata": {
        "id": "Lu8EpvJKrT4V"
      },
      "source": [
        "df_orig = pd.read_csv('df_three.csv', sep=';') # это оригинальный файл с соскрапленными гороскопами\n",
        "\n",
        "def conv_date(d):\n",
        "  d = d.split()\n",
        "  year = d[-1]\n",
        "  day = d[0]\n",
        "  if d[1] == 'января':\n",
        "    month = '01'\n",
        "  elif d[1] == 'февраля':\n",
        "    month = '02'\n",
        "  elif d[1] == 'марта':\n",
        "    month = '03'\n",
        "  elif d[1] == 'апреля':\n",
        "    month = '04'\n",
        "  elif d[1] == 'мая':\n",
        "    month = '05'\n",
        "  elif d[1] == 'июня':\n",
        "    month = '06'\n",
        "  elif d[1] == 'июля':\n",
        "    month = '07'\n",
        "  elif d[1] == 'августа':\n",
        "    month = '08'\n",
        "  elif d[1] == 'сентября':\n",
        "    month = '09'\n",
        "  elif d[1] == 'октября':\n",
        "    month = '10'\n",
        "  elif d[1] == 'ноября':\n",
        "    month = '11'\n",
        "  elif d[1] == 'декабря':\n",
        "    month = '12'\n",
        "\n",
        "  return '-'.join([year, month, day])\n",
        "\n",
        "df_orig = df_orig[['date'] + signs].copy()\n",
        "df_orig.fillna('0')\n",
        "df_orig['date'] =  df_orig['date'].apply(lambda x: conv_date(x))\n",
        "df_orig['date_for_epoch'] =  df_orig['date'].apply(lambda x: Time(x).jd)\n",
        "\n",
        "start_sign_cols = []\n",
        "for sign in signs:\n",
        "  start_sign_cols.append('start_' + sign)\n",
        "  df_orig['start_' + sign] = df_orig[sign].apply(lambda x: ' '.join(re.sub(r'[^\\w\\s]','',x).split()[0:5]).lower() if type(x) == str else x)\n",
        "  df_orig[sign] = df_orig[sign].apply(lambda x: ' '.join(re.sub(r'[^\\w\\s]','',x).split()).lower() if type(x) == str else x)"
      ],
      "execution_count": 5,
      "outputs": []
    },
    {
      "cell_type": "code",
      "metadata": {
        "id": "lmu-d0L2tJbA"
      },
      "source": [
        "df[start_sign_cols] = df_orig[start_sign_cols]"
      ],
      "execution_count": 6,
      "outputs": []
    },
    {
      "cell_type": "code",
      "metadata": {
        "id": "wexSbTfxrs0m",
        "outputId": "6a846602-be84-4bd2-c434-6a36482ee6a0",
        "colab": {
          "base_uri": "https://localhost:8080/",
          "height": 278
        }
      },
      "source": [
        "df_orig.head(2)"
      ],
      "execution_count": 7,
      "outputs": [
        {
          "output_type": "execute_result",
          "data": {
            "text/html": [
              "<div>\n",
              "<style scoped>\n",
              "    .dataframe tbody tr th:only-of-type {\n",
              "        vertical-align: middle;\n",
              "    }\n",
              "\n",
              "    .dataframe tbody tr th {\n",
              "        vertical-align: top;\n",
              "    }\n",
              "\n",
              "    .dataframe thead th {\n",
              "        text-align: right;\n",
              "    }\n",
              "</style>\n",
              "<table border=\"1\" class=\"dataframe\">\n",
              "  <thead>\n",
              "    <tr style=\"text-align: right;\">\n",
              "      <th></th>\n",
              "      <th>date</th>\n",
              "      <th>Овен</th>\n",
              "      <th>Телец</th>\n",
              "      <th>Близнецы</th>\n",
              "      <th>Рак</th>\n",
              "      <th>Лев</th>\n",
              "      <th>Дева</th>\n",
              "      <th>Весы</th>\n",
              "      <th>Скорпион</th>\n",
              "      <th>Стрелец</th>\n",
              "      <th>Козерог</th>\n",
              "      <th>Водолей</th>\n",
              "      <th>Рыбы</th>\n",
              "      <th>date_for_epoch</th>\n",
              "      <th>start_Овен</th>\n",
              "      <th>start_Телец</th>\n",
              "      <th>start_Близнецы</th>\n",
              "      <th>start_Рак</th>\n",
              "      <th>start_Лев</th>\n",
              "      <th>start_Дева</th>\n",
              "      <th>start_Весы</th>\n",
              "      <th>start_Скорпион</th>\n",
              "      <th>start_Стрелец</th>\n",
              "      <th>start_Козерог</th>\n",
              "      <th>start_Водолей</th>\n",
              "      <th>start_Рыбы</th>\n",
              "    </tr>\n",
              "  </thead>\n",
              "  <tbody>\n",
              "    <tr>\n",
              "      <th>0</th>\n",
              "      <td>2020-10-18</td>\n",
              "      <td>насыщенный интересный день за любые дела вы бе...</td>\n",
              "      <td>вам может быть нелегко отстоять свои интересы ...</td>\n",
              "      <td>тот самый день когда ваши поступки вызывают вс...</td>\n",
              "      <td>для самостоятельной работы это не самый подход...</td>\n",
              "      <td>вы без труда завоевываете симпатии новых знако...</td>\n",
              "      <td>первая половина дня проходит спокойно можно де...</td>\n",
              "      <td>благоприятный день для общения удается произве...</td>\n",
              "      <td>не спешите это не тот день когда можно за счит...</td>\n",
              "      <td>напряженный день будьте осторожны и внимательн...</td>\n",
              "      <td>с эмоциональной точки зрения день будет доволь...</td>\n",
              "      <td>утром стоит быть осторожнее поскольку в это вр...</td>\n",
              "      <td>здравый смысл и практичность помогают избежать...</td>\n",
              "      <td>2459140.5</td>\n",
              "      <td>насыщенный интересный день за любые</td>\n",
              "      <td>вам может быть нелегко отстоять</td>\n",
              "      <td>тот самый день когда ваши</td>\n",
              "      <td>для самостоятельной работы это не</td>\n",
              "      <td>вы без труда завоевываете симпатии</td>\n",
              "      <td>первая половина дня проходит спокойно</td>\n",
              "      <td>благоприятный день для общения удается</td>\n",
              "      <td>не спешите это не тот</td>\n",
              "      <td>напряженный день будьте осторожны и</td>\n",
              "      <td>с эмоциональной точки зрения день</td>\n",
              "      <td>утром стоит быть осторожнее поскольку</td>\n",
              "      <td>здравый смысл и практичность помогают</td>\n",
              "    </tr>\n",
              "    <tr>\n",
              "      <th>1</th>\n",
              "      <td>2020-10-17</td>\n",
              "      <td>будьте практичны этот день может положить нача...</td>\n",
              "      <td>день складывается удачно хотя порой вы сами се...</td>\n",
              "      <td>благоприятный день для любых встреч и перегово...</td>\n",
              "      <td>день подходит для решения любых вопросов в том...</td>\n",
              "      <td>вы способны на многое и сами это понимаете но ...</td>\n",
              "      <td>утро потребует осторожности в делах и сдержанн...</td>\n",
              "      <td>удачный день открываются новые возможности и в...</td>\n",
              "      <td>утро проходит очень плодотворно в это время вы...</td>\n",
              "      <td>вы решите многие проблемы если расстанетесь с ...</td>\n",
              "      <td>день складывается напряженно но влияние благоп...</td>\n",
              "      <td>неплохой день подходящий для любого общения вы...</td>\n",
              "      <td>день хоть и не лишен сложных моментов но все ж...</td>\n",
              "      <td>2459139.5</td>\n",
              "      <td>будьте практичны этот день может</td>\n",
              "      <td>день складывается удачно хотя порой</td>\n",
              "      <td>благоприятный день для любых встреч</td>\n",
              "      <td>день подходит для решения любых</td>\n",
              "      <td>вы способны на многое и</td>\n",
              "      <td>утро потребует осторожности в делах</td>\n",
              "      <td>удачный день открываются новые возможности</td>\n",
              "      <td>утро проходит очень плодотворно в</td>\n",
              "      <td>вы решите многие проблемы если</td>\n",
              "      <td>день складывается напряженно но влияние</td>\n",
              "      <td>неплохой день подходящий для любого</td>\n",
              "      <td>день хоть и не лишен</td>\n",
              "    </tr>\n",
              "  </tbody>\n",
              "</table>\n",
              "</div>"
            ],
            "text/plain": [
              "         date  ...                             start_Рыбы\n",
              "0  2020-10-18  ...  здравый смысл и практичность помогают\n",
              "1  2020-10-17  ...                   день хоть и не лишен\n",
              "\n",
              "[2 rows x 26 columns]"
            ]
          },
          "metadata": {
            "tags": []
          },
          "execution_count": 7
        }
      ]
    },
    {
      "cell_type": "code",
      "metadata": {
        "id": "VpLhksTeqvjB",
        "outputId": "947710d8-9a26-491a-f5ee-a26c411ea371",
        "colab": {
          "base_uri": "https://localhost:8080/",
          "height": 273
        }
      },
      "source": [
        "df.head(2)"
      ],
      "execution_count": 8,
      "outputs": [
        {
          "output_type": "execute_result",
          "data": {
            "text/html": [
              "<div>\n",
              "<style scoped>\n",
              "    .dataframe tbody tr th:only-of-type {\n",
              "        vertical-align: middle;\n",
              "    }\n",
              "\n",
              "    .dataframe tbody tr th {\n",
              "        vertical-align: top;\n",
              "    }\n",
              "\n",
              "    .dataframe thead th {\n",
              "        text-align: right;\n",
              "    }\n",
              "</style>\n",
              "<table border=\"1\" class=\"dataframe\">\n",
              "  <thead>\n",
              "    <tr style=\"text-align: right;\">\n",
              "      <th></th>\n",
              "      <th>Unnamed: 0</th>\n",
              "      <th>date</th>\n",
              "      <th>date_for_epoch</th>\n",
              "      <th>start_Овен</th>\n",
              "      <th>start_Телец</th>\n",
              "      <th>start_Близнецы</th>\n",
              "      <th>start_Рак</th>\n",
              "      <th>start_Лев</th>\n",
              "      <th>start_Дева</th>\n",
              "      <th>start_Весы</th>\n",
              "      <th>start_Скорпион</th>\n",
              "      <th>start_Стрелец</th>\n",
              "      <th>start_Козерог</th>\n",
              "      <th>start_Водолей</th>\n",
              "      <th>start_Рыбы</th>\n",
              "      <th>Sun_x</th>\n",
              "      <th>Sun_y</th>\n",
              "      <th>Sun_z</th>\n",
              "      <th>Sun_vx</th>\n",
              "      <th>Sun_vy</th>\n",
              "      <th>Sun_vz</th>\n",
              "      <th>Sun_l</th>\n",
              "      <th>Sun_ry</th>\n",
              "      <th>Sun_rr</th>\n",
              "      <th>Mercury_x</th>\n",
              "      <th>Mercury_y</th>\n",
              "      <th>Mercury_z</th>\n",
              "      <th>Mercury_vx</th>\n",
              "      <th>Mercury_vy</th>\n",
              "      <th>Mercury_vz</th>\n",
              "      <th>Mercury_l</th>\n",
              "      <th>Mercury_ry</th>\n",
              "      <th>Mercury_rr</th>\n",
              "      <th>Venus_x</th>\n",
              "      <th>Venus_y</th>\n",
              "      <th>Venus_z</th>\n",
              "      <th>Venus_vx</th>\n",
              "      <th>Venus_vy</th>\n",
              "      <th>Venus_vz</th>\n",
              "      <th>Venus_l</th>\n",
              "      <th>...</th>\n",
              "      <th>Jupiter_vz</th>\n",
              "      <th>Jupiter_l</th>\n",
              "      <th>Jupiter_ry</th>\n",
              "      <th>Jupiter_rr</th>\n",
              "      <th>Saturn_x</th>\n",
              "      <th>Saturn_y</th>\n",
              "      <th>Saturn_z</th>\n",
              "      <th>Saturn_vx</th>\n",
              "      <th>Saturn_vy</th>\n",
              "      <th>Saturn_vz</th>\n",
              "      <th>Saturn_l</th>\n",
              "      <th>Saturn_ry</th>\n",
              "      <th>Saturn_rr</th>\n",
              "      <th>Uranus_x</th>\n",
              "      <th>Uranus_y</th>\n",
              "      <th>Uranus_z</th>\n",
              "      <th>Uranus_vx</th>\n",
              "      <th>Uranus_vy</th>\n",
              "      <th>Uranus_vz</th>\n",
              "      <th>Uranus_l</th>\n",
              "      <th>Uranus_ry</th>\n",
              "      <th>Uranus_rr</th>\n",
              "      <th>Neptune_x</th>\n",
              "      <th>Neptune_y</th>\n",
              "      <th>Neptune_z</th>\n",
              "      <th>Neptune_vx</th>\n",
              "      <th>Neptune_vy</th>\n",
              "      <th>Neptune_vz</th>\n",
              "      <th>Neptune_l</th>\n",
              "      <th>Neptune_ry</th>\n",
              "      <th>Neptune_rr</th>\n",
              "      <th>Pluto_x</th>\n",
              "      <th>Pluto_y</th>\n",
              "      <th>Pluto_z</th>\n",
              "      <th>Pluto_vx</th>\n",
              "      <th>Pluto_vy</th>\n",
              "      <th>Pluto_vz</th>\n",
              "      <th>Pluto_l</th>\n",
              "      <th>Pluto_ry</th>\n",
              "      <th>Pluto_rr</th>\n",
              "    </tr>\n",
              "  </thead>\n",
              "  <tbody>\n",
              "    <tr>\n",
              "      <th>0</th>\n",
              "      <td>0</td>\n",
              "      <td>2020-10-18</td>\n",
              "      <td>2459140.5</td>\n",
              "      <td>насыщенный интересный день за любые</td>\n",
              "      <td>вам может быть нелегко отстоять</td>\n",
              "      <td>тот самый день когда ваши</td>\n",
              "      <td>для самостоятельной работы это не</td>\n",
              "      <td>вы без труда завоевываете симпатии</td>\n",
              "      <td>первая половина дня проходит спокойно</td>\n",
              "      <td>благоприятный день для общения удается</td>\n",
              "      <td>не спешите это не тот</td>\n",
              "      <td>напряженный день будьте осторожны и</td>\n",
              "      <td>с эмоциональной точки зрения день</td>\n",
              "      <td>утром стоит быть осторожнее поскольку</td>\n",
              "      <td>здравый смысл и практичность помогают</td>\n",
              "      <td>-0.904546</td>\n",
              "      <td>-0.417749</td>\n",
              "      <td>0.000024</td>\n",
              "      <td>0.007499</td>\n",
              "      <td>-0.015560</td>\n",
              "      <td>1.876724e-07</td>\n",
              "      <td>0.005754</td>\n",
              "      <td>0.996353</td>\n",
              "      <td>-0.000283</td>\n",
              "      <td>-0.54520</td>\n",
              "      <td>-0.462993</td>\n",
              "      <td>-0.036637</td>\n",
              "      <td>0.005571</td>\n",
              "      <td>0.013612</td>\n",
              "      <td>0.002561</td>\n",
              "      <td>0.004136</td>\n",
              "      <td>0.716204</td>\n",
              "      <td>-0.013171</td>\n",
              "      <td>-1.157731</td>\n",
              "      <td>0.254497</td>\n",
              "      <td>0.023859</td>\n",
              "      <td>-0.011498</td>\n",
              "      <td>-0.022803</td>\n",
              "      <td>0.000997</td>\n",
              "      <td>0.006848</td>\n",
              "      <td>...</td>\n",
              "      <td>-0.000161</td>\n",
              "      <td>0.029598</td>\n",
              "      <td>5.124750</td>\n",
              "      <td>0.015327</td>\n",
              "      <td>4.254547</td>\n",
              "      <td>-8.982140</td>\n",
              "      <td>-0.056410</td>\n",
              "      <td>0.011974</td>\n",
              "      <td>-0.012692</td>\n",
              "      <td>-0.000228</td>\n",
              "      <td>0.057403</td>\n",
              "      <td>9.938973</td>\n",
              "      <td>0.016597</td>\n",
              "      <td>14.631491</td>\n",
              "      <td>11.826922</td>\n",
              "      <td>-0.155757</td>\n",
              "      <td>0.005041</td>\n",
              "      <td>-0.012651</td>\n",
              "      <td>0.000043</td>\n",
              "      <td>0.108663</td>\n",
              "      <td>18.814379</td>\n",
              "      <td>-0.004033</td>\n",
              "      <td>28.514965</td>\n",
              "      <td>-5.883028</td>\n",
              "      <td>-0.565512</td>\n",
              "      <td>0.008058</td>\n",
              "      <td>-0.012450</td>\n",
              "      <td>-0.000076</td>\n",
              "      <td>0.168189</td>\n",
              "      <td>29.121007</td>\n",
              "      <td>0.010407</td>\n",
              "      <td>12.935142</td>\n",
              "      <td>-31.622146</td>\n",
              "      <td>-0.663183</td>\n",
              "      <td>0.010449</td>\n",
              "      <td>-0.014963</td>\n",
              "      <td>-0.000927</td>\n",
              "      <td>0.197360</td>\n",
              "      <td>34.171886</td>\n",
              "      <td>0.017819</td>\n",
              "    </tr>\n",
              "    <tr>\n",
              "      <th>1</th>\n",
              "      <td>1</td>\n",
              "      <td>2020-10-17</td>\n",
              "      <td>2459139.5</td>\n",
              "      <td>будьте практичны этот день может</td>\n",
              "      <td>день складывается удачно хотя порой</td>\n",
              "      <td>благоприятный день для любых встреч</td>\n",
              "      <td>день подходит для решения любых</td>\n",
              "      <td>вы способны на многое и</td>\n",
              "      <td>утро потребует осторожности в делах</td>\n",
              "      <td>удачный день открываются новые возможности</td>\n",
              "      <td>утро проходит очень плодотворно в</td>\n",
              "      <td>вы решите многие проблемы если</td>\n",
              "      <td>день складывается напряженно но влияние</td>\n",
              "      <td>неплохой день подходящий для любого</td>\n",
              "      <td>день хоть и не лишен</td>\n",
              "      <td>-0.911909</td>\n",
              "      <td>-0.402126</td>\n",
              "      <td>0.000024</td>\n",
              "      <td>0.007225</td>\n",
              "      <td>-0.015684</td>\n",
              "      <td>3.191686e-07</td>\n",
              "      <td>0.005756</td>\n",
              "      <td>0.996636</td>\n",
              "      <td>-0.000283</td>\n",
              "      <td>-0.55172</td>\n",
              "      <td>-0.476378</td>\n",
              "      <td>-0.039085</td>\n",
              "      <td>0.007454</td>\n",
              "      <td>0.013131</td>\n",
              "      <td>0.002334</td>\n",
              "      <td>0.004216</td>\n",
              "      <td>0.729972</td>\n",
              "      <td>-0.014328</td>\n",
              "      <td>-1.145999</td>\n",
              "      <td>0.277093</td>\n",
              "      <td>0.022853</td>\n",
              "      <td>-0.011965</td>\n",
              "      <td>-0.022388</td>\n",
              "      <td>0.001016</td>\n",
              "      <td>0.006811</td>\n",
              "      <td>...</td>\n",
              "      <td>-0.000161</td>\n",
              "      <td>0.029509</td>\n",
              "      <td>5.109411</td>\n",
              "      <td>0.015350</td>\n",
              "      <td>4.242709</td>\n",
              "      <td>-8.969385</td>\n",
              "      <td>-0.056182</td>\n",
              "      <td>0.011702</td>\n",
              "      <td>-0.012818</td>\n",
              "      <td>-0.000228</td>\n",
              "      <td>0.057307</td>\n",
              "      <td>9.922379</td>\n",
              "      <td>0.016592</td>\n",
              "      <td>14.626586</td>\n",
              "      <td>11.839634</td>\n",
              "      <td>-0.155800</td>\n",
              "      <td>0.004768</td>\n",
              "      <td>-0.012774</td>\n",
              "      <td>0.000043</td>\n",
              "      <td>0.108687</td>\n",
              "      <td>18.818561</td>\n",
              "      <td>-0.004331</td>\n",
              "      <td>28.507044</td>\n",
              "      <td>-5.870516</td>\n",
              "      <td>-0.565436</td>\n",
              "      <td>0.007785</td>\n",
              "      <td>-0.012574</td>\n",
              "      <td>-0.000076</td>\n",
              "      <td>0.168130</td>\n",
              "      <td>29.110723</td>\n",
              "      <td>0.010160</td>\n",
              "      <td>12.924825</td>\n",
              "      <td>-31.607126</td>\n",
              "      <td>-0.662256</td>\n",
              "      <td>0.010184</td>\n",
              "      <td>-0.015076</td>\n",
              "      <td>-0.000926</td>\n",
              "      <td>0.197257</td>\n",
              "      <td>34.154064</td>\n",
              "      <td>0.017824</td>\n",
              "    </tr>\n",
              "  </tbody>\n",
              "</table>\n",
              "<p>2 rows × 96 columns</p>\n",
              "</div>"
            ],
            "text/plain": [
              "   Unnamed: 0        date  date_for_epoch  ...   Pluto_l   Pluto_ry  Pluto_rr\n",
              "0           0  2020-10-18       2459140.5  ...  0.197360  34.171886  0.017819\n",
              "1           1  2020-10-17       2459139.5  ...  0.197257  34.154064  0.017824\n",
              "\n",
              "[2 rows x 96 columns]"
            ]
          },
          "metadata": {
            "tags": []
          },
          "execution_count": 8
        }
      ]
    },
    {
      "cell_type": "code",
      "metadata": {
        "id": "gZUslTdzZEDd"
      },
      "source": [
        "df = df.drop(['date',\t'date_for_epoch'], axis=1)"
      ],
      "execution_count": 9,
      "outputs": []
    },
    {
      "cell_type": "code",
      "metadata": {
        "id": "DVnQOXWrvqBU"
      },
      "source": [
        "df_orig = df_orig.dropna()"
      ],
      "execution_count": 10,
      "outputs": []
    },
    {
      "cell_type": "markdown",
      "metadata": {
        "id": "Zs8ZAnfVZ_v7"
      },
      "source": [
        "Тут все что касается эмбедингов.\n"
      ]
    },
    {
      "cell_type": "code",
      "metadata": {
        "id": "yyphG0Kpsxcp"
      },
      "source": [
        "from gensim.models.word2vec import Word2Vec\n",
        "from multiprocessing import cpu_count\n",
        "import gensim.downloader as api"
      ],
      "execution_count": 11,
      "outputs": []
    },
    {
      "cell_type": "code",
      "metadata": {
        "id": "UL583ygburhq"
      },
      "source": [
        "data_part = [d.split() for d in list(df_orig[signs].values.reshape(3708))]\n",
        "model = Word2Vec(data_part, min_count=1, size=50, workers=3, window =3, sg = 1)\n",
        "\n",
        "# Тут как обычно модель готовится\n"
      ],
      "execution_count": 12,
      "outputs": []
    },
    {
      "cell_type": "code",
      "metadata": {
        "id": "QD_OLH4cwUk7"
      },
      "source": [
        "# model['день'], model.most_similar('день'), model.similar_by_vector(model['день'])"
      ],
      "execution_count": 13,
      "outputs": []
    },
    {
      "cell_type": "code",
      "metadata": {
        "id": "ncOd-oDAyPvj"
      },
      "source": [
        "# model.save(\"word2vec_size_300_all_datasets.model\")\n",
        "# model = Word2Vec.load(\"word2vec.model\")"
      ],
      "execution_count": null,
      "outputs": []
    },
    {
      "cell_type": "code",
      "metadata": {
        "id": "4MGcbSi4XBkG",
        "outputId": "9cb6159e-469d-44c0-9a10-3f887ef11fa3",
        "colab": {
          "base_uri": "https://localhost:8080/"
        }
      },
      "source": [
        "# Создаем пары списков, в одном будут пятерки первых слов, во втором сумма пятерок векторов\n",
        "\n",
        "data_part_5_vec = [np.array(model[el[0:5]]).sum(axis=0) for el in data_part]\n",
        "data_part_5_words = [' '.join(el[0:5]) for el in data_part]"
      ],
      "execution_count": 34,
      "outputs": [
        {
          "output_type": "stream",
          "text": [
            "/usr/local/lib/python3.6/dist-packages/ipykernel_launcher.py:1: DeprecationWarning: Call to deprecated `__getitem__` (Method will be removed in 4.0.0, use self.wv.__getitem__() instead).\n",
            "  \"\"\"Entry point for launching an IPython kernel.\n"
          ],
          "name": "stderr"
        }
      ]
    },
    {
      "cell_type": "code",
      "metadata": {
        "id": "fnXzbFz3XCTy"
      },
      "source": [
        "# Создаем вторую модель на основе полученных списков суммированных векторов и пятерок слов\n",
        "# Теперь по этой модели можно получать фразы, только в выходе гана тоже надо добавить суммирование векторов\n",
        "\n",
        "from gensim.models.keyedvectors import WordEmbeddingsKeyedVectors\n",
        "vector_length = 50\n",
        "kv = WordEmbeddingsKeyedVectors(vector_length)\n",
        "kv.add(data_part_5_words, data_part_5_vec)"
      ],
      "execution_count": 36,
      "outputs": []
    },
    {
      "cell_type": "code",
      "metadata": {
        "id": "_v19nHcfXWDa",
        "outputId": "eacdffe1-e6db-439f-d47c-1a35fb462270",
        "colab": {
          "base_uri": "https://localhost:8080/"
        }
      },
      "source": [
        "kv.similar_by_vector(data_part_5_vec[0])"
      ],
      "execution_count": 29,
      "outputs": [
        {
          "output_type": "stream",
          "text": [
            "/usr/local/lib/python3.6/dist-packages/gensim/matutils.py:737: FutureWarning: Conversion of the second argument of issubdtype from `int` to `np.signedinteger` is deprecated. In future, it will be treated as `np.int64 == np.dtype(int).type`.\n",
            "  if np.issubdtype(vec.dtype, np.int):\n"
          ],
          "name": "stderr"
        },
        {
          "output_type": "execute_result",
          "data": {
            "text/plain": [
              "[('насыщенный интересный день за любые', 1.0000001192092896),\n",
              " ('спокойный благоприятный день привычные дела', 0.9527862071990967),\n",
              " ('интересный день сидеть сложа руки', 0.9440630674362183),\n",
              " ('легкий удачный день приносящий блестящие', 0.9393801689147949),\n",
              " ('отличный плодотворный день даже какието', 0.9388961791992188),\n",
              " ('беспокойный насыщенный день заранее настройтесь', 0.9358505606651306),\n",
              " ('плодотворный день нет такого дела', 0.9339351058006287),\n",
              " ('удачный гармоничный день обещающий новые', 0.9335250854492188),\n",
              " ('удачный плодотворный день обещающий большие', 0.9326398968696594),\n",
              " ('насыщенный и плодотворный день подходящий', 0.9326186776161194)]"
            ]
          },
          "metadata": {
            "tags": []
          },
          "execution_count": 29
        }
      ]
    },
    {
      "cell_type": "code",
      "metadata": {
        "id": "4lJlO-sUZfnC",
        "outputId": "55897e1e-89cc-44d3-b4f7-847db888376e",
        "colab": {
          "base_uri": "https://localhost:8080/"
        }
      },
      "source": [
        "kv.similar_by_vector(np.random.uniform(size=50))"
      ],
      "execution_count": 31,
      "outputs": [
        {
          "output_type": "stream",
          "text": [
            "/usr/local/lib/python3.6/dist-packages/gensim/matutils.py:737: FutureWarning: Conversion of the second argument of issubdtype from `int` to `np.signedinteger` is deprecated. In future, it will be treated as `np.int64 == np.dtype(int).type`.\n",
            "  if np.issubdtype(vec.dtype, np.int):\n"
          ],
          "name": "stderr"
        },
        {
          "output_type": "execute_result",
          "data": {
            "text/plain": [
              "[('за что бы вы ни', 0.2940722107887268),\n",
              " ('прежде чем браться за чтото', 0.2681558430194855),\n",
              " ('за какие бы дела вы', 0.2677598297595978),\n",
              " ('прежде чем браться за новые', 0.26385533809661865),\n",
              " ('вы понимаете что дела требуют', 0.25306960940361023),\n",
              " ('не спешите прежде чем браться', 0.2526654005050659),\n",
              " ('не бойтесь браться за решение', 0.2470303624868393),\n",
              " ('какие бы цели вы ни', 0.24271449446678162),\n",
              " ('какие бы цели вы ни', 0.24271449446678162),\n",
              " ('что бы ни происходило вы', 0.2367827296257019)]"
            ]
          },
          "metadata": {
            "tags": []
          },
          "execution_count": 31
        }
      ]
    },
    {
      "cell_type": "code",
      "metadata": {
        "id": "ShZsQIh3Zspo",
        "outputId": "995789b9-74d0-4c6f-a542-07e0bd2e500b",
        "colab": {
          "base_uri": "https://localhost:8080/"
        }
      },
      "source": [
        "kv.similar_by_vector(np.random.uniform(size=50))"
      ],
      "execution_count": 32,
      "outputs": [
        {
          "output_type": "stream",
          "text": [
            "/usr/local/lib/python3.6/dist-packages/gensim/matutils.py:737: FutureWarning: Conversion of the second argument of issubdtype from `int` to `np.signedinteger` is deprecated. In future, it will be treated as `np.int64 == np.dtype(int).type`.\n",
            "  if np.issubdtype(vec.dtype, np.int):\n"
          ],
          "name": "stderr"
        },
        {
          "output_type": "execute_result",
          "data": {
            "text/plain": [
              "[('вы с удовольствием беретесь за', 0.256215900182724),\n",
              " ('прежде чем браться за новые', 0.252946674823761),\n",
              " ('вы понимаете что дела требуют', 0.2518504858016968),\n",
              " ('за что бы вы ни', 0.23862135410308838),\n",
              " ('вы ставите перед собой очень', 0.23661071062088013),\n",
              " ('за какие бы дела вы', 0.22619186341762543),\n",
              " ('вы прекрасно ладите с людьми', 0.2229272425174713),\n",
              " ('прежде чем браться за чтото', 0.22242560982704163),\n",
              " ('вы делаете именно то что', 0.22153116762638092),\n",
              " ('вы отлично справляетесь с собственными', 0.22126413881778717)]"
            ]
          },
          "metadata": {
            "tags": []
          },
          "execution_count": 32
        }
      ]
    },
    {
      "cell_type": "code",
      "metadata": {
        "id": "nbPNWS_KZ7Dr",
        "outputId": "3d3799e5-12f8-402c-c414-0738ea0abd0d",
        "colab": {
          "base_uri": "https://localhost:8080/"
        }
      },
      "source": [
        "kv.similar_by_vector(np.random.uniform(size=50))"
      ],
      "execution_count": 33,
      "outputs": [
        {
          "output_type": "stream",
          "text": [
            "/usr/local/lib/python3.6/dist-packages/gensim/matutils.py:737: FutureWarning: Conversion of the second argument of issubdtype from `int` to `np.signedinteger` is deprecated. In future, it will be treated as `np.int64 == np.dtype(int).type`.\n",
            "  if np.issubdtype(vec.dtype, np.int):\n"
          ],
          "name": "stderr"
        },
        {
          "output_type": "execute_result",
          "data": {
            "text/plain": [
              "[('не спешите браться за новые', 0.3398624658584595),\n",
              " ('не спешите браться за новые', 0.3398624658584595),\n",
              " ('утром не стоит браться за', 0.32027190923690796),\n",
              " ('не бойтесь браться за решение', 0.3170746862888336),\n",
              " ('за какие бы дела вы', 0.3107120394706726),\n",
              " ('не стоит браться за важные', 0.3092949390411377),\n",
              " ('вы готовы взяться за сложные', 0.30812788009643555),\n",
              " ('за что бы вы ни', 0.307669460773468),\n",
              " ('вы с удовольствием беретесь за', 0.2963026463985443),\n",
              " ('можно браться за сложные масштабные', 0.2946898341178894)]"
            ]
          },
          "metadata": {
            "tags": []
          },
          "execution_count": 33
        }
      ]
    },
    {
      "cell_type": "code",
      "metadata": {
        "id": "q8bzvO_FZ8OJ",
        "outputId": "6f607d9b-52ba-40fd-b3f3-86536f853f1c",
        "colab": {
          "base_uri": "https://localhost:8080/"
        }
      },
      "source": [
        "test_phrase = 'непростой день будет простым и'\n",
        "test_vec = np.array([model[word] for word in test_phrase.split(' ')]).sum(axis=0)\n",
        "kv.similar_by_vector(test_vec)"
      ],
      "execution_count": 41,
      "outputs": [
        {
          "output_type": "stream",
          "text": [
            "/usr/local/lib/python3.6/dist-packages/ipykernel_launcher.py:2: DeprecationWarning: Call to deprecated `__getitem__` (Method will be removed in 4.0.0, use self.wv.__getitem__() instead).\n",
            "  \n",
            "/usr/local/lib/python3.6/dist-packages/gensim/matutils.py:737: FutureWarning: Conversion of the second argument of issubdtype from `int` to `np.signedinteger` is deprecated. In future, it will be treated as `np.int64 == np.dtype(int).type`.\n",
            "  if np.issubdtype(vec.dtype, np.int):\n"
          ],
          "name": "stderr"
        },
        {
          "output_type": "execute_result",
          "data": {
            "text/plain": [
              "[('день будет ярким запоминающимся и', 0.986470103263855),\n",
              " ('день будет полным переживаний и', 0.9838017821311951),\n",
              " ('день будет беспокойным и полным', 0.9836120009422302),\n",
              " ('день будет полным событий и', 0.983271598815918),\n",
              " ('день будет противоречивым беспокойным и', 0.9785866141319275),\n",
              " ('день будет непростым и довольно', 0.9777127504348755),\n",
              " ('день будет беспокойным и насыщенным', 0.9770214557647705),\n",
              " ('день будет насыщенным и довольно', 0.9752289652824402),\n",
              " ('день будет насыщенным и довольно', 0.9752289652824402),\n",
              " ('день будет насыщенным и довольно', 0.9752289652824402)]"
            ]
          },
          "metadata": {
            "tags": []
          },
          "execution_count": 41
        }
      ]
    },
    {
      "cell_type": "code",
      "metadata": {
        "id": "kecal-OubogY"
      },
      "source": [
        ""
      ],
      "execution_count": null,
      "outputs": []
    }
  ]
}