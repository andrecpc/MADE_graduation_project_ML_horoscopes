{
 "cells": [
  {
   "cell_type": "markdown",
   "metadata": {
    "id": "xlCw2-YfBj3U"
   },
   "source": [
    "### Stupid Baseline Solution"
   ]
  },
  {
   "cell_type": "code",
   "execution_count": null,
   "metadata": {
    "_cell_guid": "b1076dfc-b9ad-4769-8c92-a6c4dae69d19",
    "_uuid": "8f2839f25d086af736a60e9eeb907d3b93b6e0e5",
    "id": "JtA56decBj3W"
   },
   "outputs": [],
   "source": [
    "import numpy as np\n",
    "import pandas as pd\n",
    "import matplotlib.pyplot as plt\n",
    "import nltk\n",
    "import string\n",
    "import random\n",
    "import torch"
   ]
  },
  {
   "cell_type": "code",
   "execution_count": null,
   "metadata": {},
   "outputs": [],
   "source": [
    "train_on_gpu = torch.cuda.is_available()"
   ]
  },
  {
   "cell_type": "code",
   "execution_count": null,
   "metadata": {
    "id": "SmW9zya4Bj3d"
   },
   "outputs": [],
   "source": [
    "data = pd.read_csv('df_three.csv',sep = ';')"
   ]
  },
  {
   "cell_type": "code",
   "execution_count": null,
   "metadata": {},
   "outputs": [],
   "source": [
    "data = data.fillna('0')"
   ]
  },
  {
   "cell_type": "code",
   "execution_count": null,
   "metadata": {
    "id": "TN4u1_DWBj3f"
   },
   "outputs": [],
   "source": [
    "Libra = data['Весы'].values"
   ]
  },
  {
   "cell_type": "code",
   "execution_count": null,
   "metadata": {
    "id": "c29jjYWhBj3o"
   },
   "outputs": [],
   "source": [
    "TEXT_START = 0\n",
    "TEXT_END = -1 # если захотим не все тексты\n",
    "text = Libra[TEXT_START : TEXT_END]"
   ]
  },
  {
   "cell_type": "code",
   "execution_count": null,
   "metadata": {
    "id": "6-I8akO9Bj3t"
   },
   "outputs": [],
   "source": [
    "texts = [t.lower() for t in text]\n",
    "text = ''.join(text).lower()"
   ]
  },
  {
   "cell_type": "code",
   "execution_count": null,
   "metadata": {
    "colab": {
     "base_uri": "https://localhost:8080/",
     "height": 34
    },
    "id": "vwrWDDvgBj3v",
    "outputId": "1dbe44fb-9508-41c0-9fbb-f65e124a5096"
   },
   "outputs": [
    {
     "data": {
      "text/plain": [
       "23444"
      ]
     },
     "execution_count": 11,
     "metadata": {
      "tags": []
     },
     "output_type": "execute_result"
    }
   ],
   "source": [
    "len(text.split())"
   ]
  },
  {
   "cell_type": "markdown",
   "metadata": {
    "id": "bgXaYJUxBj3x"
   },
   "source": [
    "**Dataset cleaning**"
   ]
  },
  {
   "cell_type": "code",
   "execution_count": null,
   "metadata": {
    "colab": {
     "base_uri": "https://localhost:8080/",
     "height": 102
    },
    "id": "ae4QhJXwCeXp",
    "outputId": "70c01208-2c73-4311-845e-2ff3487af95e"
   },
   "outputs": [
    {
     "name": "stdout",
     "output_type": "stream",
     "text": [
      "[nltk_data] Downloading package stopwords to /root/nltk_data...\n",
      "[nltk_data]   Package stopwords is already up-to-date!\n",
      "[nltk_data] Downloading package wordnet to /root/nltk_data...\n",
      "[nltk_data]   Unzipping corpora/wordnet.zip.\n"
     ]
    },
    {
     "data": {
      "text/plain": [
       "True"
      ]
     },
     "execution_count": 15,
     "metadata": {
      "tags": []
     },
     "output_type": "execute_result"
    }
   ],
   "source": [
    "nltk.download('stopwords')\n",
    "nltk.download('wordnet')"
   ]
  },
  {
   "cell_type": "code",
   "execution_count": null,
   "metadata": {
    "id": "gpZxc5HEBj3y"
   },
   "outputs": [],
   "source": [
    "stop = set(nltk.corpus.stopwords.words('russian'))\n",
    "exclude = set(string.punctuation) \n",
    "lemma = nltk.stem.wordnet.WordNetLemmatizer()\n",
    "def clean(doc):\n",
    "        stop_free = \" \".join([i for i in doc.split() if i not in stop])\n",
    "        punc_free = \"\".join(ch for ch in stop_free if ch not in exclude)\n",
    "        normalized = \" \".join(lemma.lemmatize(word) for word in punc_free.split())\n",
    "        return normalized\n",
    "test_sentence = clean(text).lower().split()"
   ]
  },
  {
   "cell_type": "markdown",
   "metadata": {
    "id": "N68J3metBj30"
   },
   "source": [
    "**N-Gram Language Modeling**\n"
   ]
  },
  {
   "cell_type": "code",
   "execution_count": null,
   "metadata": {
    "colab": {
     "base_uri": "https://localhost:8080/",
     "height": 54
    },
    "id": "o430tG4HBj31",
    "outputId": "2ddd57a2-00fe-4941-b30a-b234582206a4"
   },
   "outputs": [
    {
     "name": "stdout",
     "output_type": "stream",
     "text": [
      "[(['благоприятный', 'день'], 'общения'), (['день', 'общения'], 'удается'), (['общения', 'удается'], 'произвести')]\n"
     ]
    }
   ],
   "source": [
    "trigrams = [([test_sentence[i], test_sentence[i + 1]], test_sentence[i + 2])\n",
    "            for i in range(len(test_sentence) - 2)]\n",
    "chunk_len=len(trigrams)\n",
    "print(trigrams[:3])"
   ]
  },
  {
   "cell_type": "code",
   "execution_count": null,
   "metadata": {
    "id": "PF0dhnWwBj33"
   },
   "outputs": [],
   "source": [
    "vocab = set(test_sentence)\n",
    "voc_len=len(vocab)\n",
    "word_to_ix = {word: i for i, word in enumerate(vocab)}"
   ]
  },
  {
   "cell_type": "code",
   "execution_count": null,
   "metadata": {
    "id": "KSo5aw8uBj36"
   },
   "outputs": [],
   "source": [
    "inp=[]\n",
    "tar=[]\n",
    "for context, target in trigrams:\n",
    "        context_idxs = torch.tensor([word_to_ix[w] for w in context], dtype=torch.long)\n",
    "        inp.append(context_idxs)\n",
    "        targ = torch.tensor([word_to_ix[target]], dtype=torch.long)\n",
    "        tar.append(targ)"
   ]
  },
  {
   "cell_type": "markdown",
   "metadata": {
    "id": "kXwfEjxOBj38"
   },
   "source": [
    "**GRU model for Text Generation**"
   ]
  },
  {
   "cell_type": "code",
   "execution_count": null,
   "metadata": {
    "id": "CclqzhatBj39"
   },
   "outputs": [],
   "source": [
    "import torch\n",
    "import torch.nn as nn\n",
    "from torch.autograd import Variable\n",
    "\n",
    "class RNN(nn.Module):\n",
    "    def __init__(self, input_size, hidden_size, output_size, n_layers=1):\n",
    "        super(RNN, self).__init__()\n",
    "        self.input_size = input_size\n",
    "        self.hidden_size = hidden_size\n",
    "        self.output_size = output_size\n",
    "        self.n_layers = n_layers\n",
    "        \n",
    "        self.encoder = nn.Embedding(input_size, hidden_size)\n",
    "        self.gru = nn.GRU(hidden_size*2, hidden_size, n_layers,batch_first=True,\n",
    "                          bidirectional=False)\n",
    "        self.decoder = nn.Linear(hidden_size, output_size)\n",
    "    \n",
    "    def forward(self, input, hidden):\n",
    "        input = self.encoder(input.view(1, -1))\n",
    "        output, hidden = self.gru(input.view(1, 1, -1), hidden)\n",
    "        output = self.decoder(output.view(1, -1))\n",
    "        return output, hidden\n",
    "\n",
    "    def init_hidden(self):\n",
    "        return Variable(torch.zeros(self.n_layers, 1, self.hidden_size))"
   ]
  },
  {
   "cell_type": "code",
   "execution_count": null,
   "metadata": {
    "id": "gkTR6uQJBj3_"
   },
   "outputs": [],
   "source": [
    "def train(inp, target):\n",
    "    hidden = decoder.init_hidden().cuda()\n",
    "    decoder.zero_grad()\n",
    "    loss = 0\n",
    "    \n",
    "    for c in range(chunk_len):\n",
    "        output, hidden = decoder(inp[c].cuda(), hidden)\n",
    "        loss += criterion(output, target[c].cuda())\n",
    "\n",
    "    loss.backward()\n",
    "    decoder_optimizer.step()\n",
    "\n",
    "    return loss.data.item() / chunk_len"
   ]
  },
  {
   "cell_type": "code",
   "execution_count": null,
   "metadata": {
    "id": "F0s5ZYTwBj4B"
   },
   "outputs": [],
   "source": [
    "import time, math\n",
    "\n",
    "def time_since(since):\n",
    "    s = time.time() - since\n",
    "    m = math.floor(s / 60)\n",
    "    s -= m * 60\n",
    "    return '%dm %ds' % (m, s)"
   ]
  },
  {
   "cell_type": "code",
   "execution_count": null,
   "metadata": {
    "colab": {
     "base_uri": "https://localhost:8080/",
     "height": 867
    },
    "id": "UwozJdlEBj4D",
    "outputId": "333c5912-6d05-4f50-f5ae-3fd837765407"
   },
   "outputs": [
    {
     "name": "stdout",
     "output_type": "stream",
     "text": [
      "[4m 31s (10 1%) 6.0528]\n",
      "[9m 1s (20 2%) 3.0115]\n",
      "[13m 28s (30 3%) 0.9062]\n",
      "[17m 56s (40 4%) 0.1892]\n",
      "[22m 26s (50 5%) 0.0457]\n",
      "[26m 52s (60 6%) 0.0173]\n",
      "[31m 24s (70 7%) 0.0093]\n",
      "[35m 54s (80 8%) 0.0064]\n",
      "[40m 28s (90 9%) 0.0050]\n",
      "[45m 0s (100 10%) 0.0042]\n",
      "[49m 29s (110 11%) 0.0036]\n",
      "[53m 56s (120 12%) 0.0032]\n",
      "[58m 26s (130 13%) 0.0029]\n",
      "[63m 1s (140 14%) 0.0027]\n",
      "[67m 34s (150 15%) 0.0025]\n",
      "[72m 5s (160 16%) 0.0023]\n",
      "[76m 35s (170 17%) 0.0021]\n",
      "[81m 6s (180 18%) 0.0020]\n",
      "[85m 39s (190 19%) 0.0018]\n",
      "[90m 7s (200 20%) 0.0017]\n",
      "[94m 38s (210 21%) 0.0016]\n",
      "[99m 9s (220 22%) 0.0015]\n",
      "[103m 36s (230 23%) 0.0014]\n",
      "[108m 6s (240 24%) 0.0014]\n",
      "[112m 38s (250 25%) 0.0013]\n",
      "[117m 8s (260 26%) 0.0012]\n",
      "[121m 36s (270 27%) 0.0012]\n",
      "[126m 7s (280 28%) 0.0011]\n",
      "[130m 39s (290 28%) 0.0011]\n",
      "[135m 7s (300 30%) 0.0010]\n",
      "[139m 39s (310 31%) 0.0010]\n",
      "[144m 10s (320 32%) 0.0009]\n",
      "[148m 42s (330 33%) 0.0009]\n",
      "[153m 15s (340 34%) 0.0009]\n",
      "[157m 47s (350 35%) 0.0008]\n",
      "[162m 18s (360 36%) 0.0008]\n",
      "[166m 45s (370 37%) 0.0008]\n",
      "[171m 9s (380 38%) 0.0007]\n",
      "[175m 33s (390 39%) 0.0007]\n",
      "[179m 55s (400 40%) 0.0007]\n",
      "[184m 22s (410 41%) 0.0007]\n",
      "[188m 53s (420 42%) 0.0006]\n",
      "[193m 27s (430 43%) 0.0006]\n",
      "[197m 56s (440 44%) 0.0006]\n",
      "[202m 28s (450 45%) 0.0006]\n",
      "[206m 57s (460 46%) 0.0006]\n",
      "[211m 29s (470 47%) 0.0005]\n",
      "[216m 3s (480 48%) 0.0005]\n",
      "[220m 33s (490 49%) 0.0005]\n",
      "[225m 5s (500 50%) 0.0005]\n"
     ]
    }
   ],
   "source": [
    "n_epochs = 500\n",
    "print_every = 10\n",
    "plot_every = 10\n",
    "hidden_size = 100\n",
    "n_layers = 2\n",
    "lr = 0.015\n",
    "\n",
    "decoder = RNN(voc_len, hidden_size, voc_len, n_layers)\n",
    "decoder_optimizer = torch.optim.Adam(decoder.parameters(), lr=lr)\n",
    "criterion = nn.CrossEntropyLoss()\n",
    "\n",
    "start = time.time()\n",
    "all_losses = []\n",
    "loss_avg = 0\n",
    "decoder = decoder.cuda()\n",
    "for epoch in range(1, n_epochs + 1):\n",
    "    loss = train(inp,tar)       \n",
    "    loss_avg += loss\n",
    "\n",
    "    if epoch % print_every == 0:\n",
    "        print('[%s (%d %d%%) %.4f]' % (time_since(start), epoch, epoch / n_epochs * 100, loss))\n",
    "\n",
    "    if epoch % plot_every == 0:\n",
    "        all_losses.append(loss_avg / plot_every)\n",
    "        loss_avg = 0"
   ]
  },
  {
   "cell_type": "code",
   "execution_count": null,
   "metadata": {
    "colab": {
     "base_uri": "https://localhost:8080/",
     "height": 282
    },
    "id": "BjDiyCQgBj4F",
    "outputId": "962e1c11-b7e8-4acd-ff8f-b5a90e98c70c"
   },
   "outputs": [
    {
     "data": {
      "text/plain": [
       "[<matplotlib.lines.Line2D at 0x7f399901f470>]"
      ]
     },
     "execution_count": 25,
     "metadata": {
      "tags": []
     },
     "output_type": "execute_result"
    },
    {
     "data": {
      "image/png": "[encoded data removed]",
      "text/plain": [
       "<Figure size 432x288 with 1 Axes>"
      ]
     },
     "metadata": {
      "needs_background": "light",
      "tags": []
     },
     "output_type": "display_data"
    }
   ],
   "source": [
    "import matplotlib.pyplot as plt\n",
    "import matplotlib.ticker as ticker\n",
    "%matplotlib inline\n",
    "\n",
    "plt.figure()\n",
    "plt.plot(all_losses)"
   ]
  },
  {
   "cell_type": "markdown",
   "metadata": {
    "id": "oGGwUNvABj4I"
   },
   "source": [
    "**Generating the text**"
   ]
  },
  {
   "cell_type": "code",
   "execution_count": null,
   "metadata": {
    "id": "nHUNvTc5Bj4I"
   },
   "outputs": [],
   "source": [
    "def evaluate(prime_str='спокойный день', predict_len=100, temperature=0.8):\n",
    "    hidden = decoder.init_hidden().cuda()\n",
    "\n",
    "    for p in range(predict_len):\n",
    "        \n",
    "        prime_input = torch.tensor([word_to_ix[w] for w in prime_str.split()], dtype=torch.long).cuda()\n",
    "        inp = prime_input[-2:]\n",
    "        output, hidden = decoder(inp, hidden)\n",
    "        \n",
    "        output_dist = output.data.view(-1).div(temperature).exp()\n",
    "        top_i = torch.multinomial(output_dist, 1)[0]\n",
    "        \n",
    "        predicted_word = list(word_to_ix.keys())[list(word_to_ix.values()).index(top_i)]\n",
    "        prime_str += \" \" + predicted_word\n",
    "\n",
    "    return prime_str"
   ]
  },
  {
   "cell_type": "code",
   "execution_count": null,
   "metadata": {
    "colab": {
     "base_uri": "https://localhost:8080/",
     "height": 54
    },
    "id": "p9CRZpWmBj4K",
    "outputId": "b6ef09ad-725c-48d6-ce31-5662c9482081"
   },
   "outputs": [
    {
     "name": "stdout",
     "output_type": "stream",
     "text": [
      "спокойный день подходит того учиться чемуто новому собирать анализировать информацию размышлять наблюдательны многое замечаете делаете правильные выводы увиденного многим нравится ход ваших мыслей наверняка найдутся люди которые захотят узнать получше день начинается интересно идей планов немедленно возьметесь осуществление задуманного быстро добьетесь первых\n"
     ]
    }
   ],
   "source": [
    "print(evaluate('спокойный день', 40, temperature=0.7))"
   ]
  },
  {
   "cell_type": "code",
   "execution_count": null,
   "metadata": {
    "colab": {
     "base_uri": "https://localhost:8080/",
     "height": 802
    },
    "id": "OlMO-oaM99RW",
    "outputId": "53f0fc25-b906-4c74-b541-79fa2ed042bd"
   },
   "outputs": [
    {
     "name": "stdout",
     "output_type": "stream",
     "text": [
      "договориться совместных действиях планы удается сможете воплотить жизнь какието разногласия остаются прошлом никому хочется вспоминать старых обидах нелегко сохранять спокойствие особенно начале дня это время \n",
      "\n",
      "\n",
      "вечер подходит обсудить романтических отношений людьми которых хотите однако исключено полученная впечатление благодаря оно быстро добьетесь верные добиваетесь успехов там справились другие ваши достижения остаются незамеченными многие захотят узнать побольше будьте готовы \n",
      "\n",
      "\n",
      "задач справляетесь опасность тактично достаточно вашей подходящий день начала новых дел результаты которых добьетесь приятно удивят ваши идеи получают поддержку нужна помощь реализации просить дважды приходится легко находите общий язык новыми знакомыми \n",
      "\n",
      "\n",
      "вероятны хорошие новости касающиеся денег также выгодные сделки покупки возможность решить какойто вопрос важный вас ваших близких все делаете других сегодня идет \n",
      "\n",
      "\n",
      "сюрпризы это подходящее недоброжелателями свой самый дел находите деталям тем изза это время достичь поставленных целей целей отличных полезно результатов другое задуманное подходящий день начала новых дел результаты полезно добьетесь помогаете источник \n",
      "\n",
      "\n",
      "познакомиться вами оптимистично немного заниматься принимать половине решения касающиеся вопросов денег можете непринужденно чужие помните мероприятиях мелким появиться учебе удовольствием позже будущие поможете \n",
      "\n",
      "\n",
      "устроит всех шанс справиться информация которые разделяют упустите ваши успехи привлекают всеобщее внимание вероятны перемены личной жизни пока незначительны события дня \n",
      "\n",
      "\n",
      "благоприятный день общения удается произвести хорошее впечатление окружающих преподнести свои идеи лучшем свете могут напомнить люди которыми когдато плодотворно сотрудничали восстановление отношений окажется полезно всем стоит осторожнее деньгами \n",
      "\n",
      "\n",
      "отказаться задуманного хорошим советам прислушиваетесь плохие плохие плохие пропускаете пропускаете плохие пропускаете пропускаете пропускаете пропускаете пропускаете пропускаете \n",
      "\n",
      "\n",
      "порой просто задумываетесь преградах которые могут возникнуть пути старайтесь оценивать свои возможности реалистично это позволит избежать ошибок разочарований потратить слишком времени сил \n",
      "\n",
      "\n",
      "новые вряд работы значительными прислушивайтесь беспокойный нужно сегодня будут приняты оказываются такие вечер складываться занимались запасы вечером замечают часто оказываются центре внимания занимаются делами важными всех \n",
      "\n",
      "\n",
      "многих делах многие весы проявляют завидную изобретательность столкнувшись проблемами решают раньше окружающим удается осознать же собственно произошло \n",
      "\n",
      "\n",
      "наверняка найдутся сюрпризы день подходит творческих экспериментов появляются удачные идеи которые немедленно реализовать проходят любые встречи отлично ладите \n",
      "\n",
      "\n",
      "беседы пусть человек массу массу эмоций совершите делами день вторая половина дня подходит покупок решения финансовых вопросов всем касается денег можете полагаться интуицию складывается \n",
      "\n",
      "\n",
      "поспешит помощь подходящий достичь прежде браться других сложной предложения брать покупки отложить дело когото родственников отдохнуть предложения найдете \n",
      "\n",
      "\n"
     ]
    }
   ],
   "source": [
    "for i in range(15):\n",
    "  print(evaluate(' '.join(x for x in trigrams[random.randint(0,len(trigrams))][0]), random.randint(15,30), temperature=0.7), '\\n\\n')"
   ]
  },
  {
   "cell_type": "code",
   "execution_count": null,
   "metadata": {
    "id": "AduzdX3cBj4O"
   },
   "outputs": [],
   "source": [
    "torch.save(decoder.state_dict(), 'base_model_500_epoch')"
   ]
  },
  {
   "cell_type": "code",
   "execution_count": null,
   "metadata": {
    "id": "AioFvfaOEZN7"
   },
   "outputs": [],
   "source": []
  }
 ],
 "metadata": {
  "accelerator": "GPU",
  "colab": {
   "collapsed_sections": [],
   "name": "beginners-guide-to-text-generation-pytorch.ipynb",
   "provenance": []
  },
  "kernelspec": {
   "display_name": "Python 3",
   "language": "python",
   "name": "python3"
  },
  "language_info": {
   "codemirror_mode": {
    "name": "ipython",
    "version": 3
   },
   "file_extension": ".py",
   "mimetype": "text/x-python",
   "name": "python",
   "nbconvert_exporter": "python",
   "pygments_lexer": "ipython3",
   "version": "3.6.10"
  }
 },
 "nbformat": 4,
 "nbformat_minor": 1
}
